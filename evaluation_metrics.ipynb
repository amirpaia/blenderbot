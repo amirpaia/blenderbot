{
  "nbformat": 4,
  "nbformat_minor": 0,
  "metadata": {
    "colab": {
      "name": "evaluation metrics.ipynb",
      "provenance": [],
      "collapsed_sections": [
        "L8oxlTrII8is"
      ],
      "machine_shape": "hm",
      "background_execution": "on",
      "include_colab_link": true
    },
    "kernelspec": {
      "name": "python3",
      "display_name": "Python 3"
    },
    "language_info": {
      "name": "python"
    },
    "accelerator": "GPU",
    "widgets": {
      "application/vnd.jupyter.widget-state+json": {
        "47caedcb1d4244afa642ad6039c0e3d1": {
          "model_module": "@jupyter-widgets/controls",
          "model_name": "HBoxModel",
          "model_module_version": "1.5.0",
          "state": {
            "_dom_classes": [],
            "_model_module": "@jupyter-widgets/controls",
            "_model_module_version": "1.5.0",
            "_model_name": "HBoxModel",
            "_view_count": null,
            "_view_module": "@jupyter-widgets/controls",
            "_view_module_version": "1.5.0",
            "_view_name": "HBoxView",
            "box_style": "",
            "children": [
              "IPY_MODEL_717b205817b0483d917d7e07cb9b2304",
              "IPY_MODEL_9be798a252874d5e8a9ef05be7fa7468",
              "IPY_MODEL_58b484320efa44c5b1a704e72cff9f39"
            ],
            "layout": "IPY_MODEL_763622c1388241d3b7ad7c8263c195f8"
          }
        },
        "717b205817b0483d917d7e07cb9b2304": {
          "model_module": "@jupyter-widgets/controls",
          "model_name": "HTMLModel",
          "model_module_version": "1.5.0",
          "state": {
            "_dom_classes": [],
            "_model_module": "@jupyter-widgets/controls",
            "_model_module_version": "1.5.0",
            "_model_name": "HTMLModel",
            "_view_count": null,
            "_view_module": "@jupyter-widgets/controls",
            "_view_module_version": "1.5.0",
            "_view_name": "HTMLView",
            "description": "",
            "description_tooltip": null,
            "layout": "IPY_MODEL_c648c630c1e34bc49d52de9a21756da1",
            "placeholder": "​",
            "style": "IPY_MODEL_617a316527c942c681af4f65c75c9601",
            "value": "Downloading: 100%"
          }
        },
        "9be798a252874d5e8a9ef05be7fa7468": {
          "model_module": "@jupyter-widgets/controls",
          "model_name": "FloatProgressModel",
          "model_module_version": "1.5.0",
          "state": {
            "_dom_classes": [],
            "_model_module": "@jupyter-widgets/controls",
            "_model_module_version": "1.5.0",
            "_model_name": "FloatProgressModel",
            "_view_count": null,
            "_view_module": "@jupyter-widgets/controls",
            "_view_module_version": "1.5.0",
            "_view_name": "ProgressView",
            "bar_style": "success",
            "description": "",
            "description_tooltip": null,
            "layout": "IPY_MODEL_57160da9ff9545c2bcf16044639b1cd4",
            "max": 1516,
            "min": 0,
            "orientation": "horizontal",
            "style": "IPY_MODEL_a7b941a3483541d5a39a68a294c398bc",
            "value": 1516
          }
        },
        "58b484320efa44c5b1a704e72cff9f39": {
          "model_module": "@jupyter-widgets/controls",
          "model_name": "HTMLModel",
          "model_module_version": "1.5.0",
          "state": {
            "_dom_classes": [],
            "_model_module": "@jupyter-widgets/controls",
            "_model_module_version": "1.5.0",
            "_model_name": "HTMLModel",
            "_view_count": null,
            "_view_module": "@jupyter-widgets/controls",
            "_view_module_version": "1.5.0",
            "_view_name": "HTMLView",
            "description": "",
            "description_tooltip": null,
            "layout": "IPY_MODEL_f58dc4d08b29401a9d4fbca33825d4b6",
            "placeholder": "​",
            "style": "IPY_MODEL_d774ffb43e594a60b4fd3a8e2c499d98",
            "value": " 1.48k/1.48k [00:00&lt;00:00, 44.9kB/s]"
          }
        },
        "763622c1388241d3b7ad7c8263c195f8": {
          "model_module": "@jupyter-widgets/base",
          "model_name": "LayoutModel",
          "model_module_version": "1.2.0",
          "state": {
            "_model_module": "@jupyter-widgets/base",
            "_model_module_version": "1.2.0",
            "_model_name": "LayoutModel",
            "_view_count": null,
            "_view_module": "@jupyter-widgets/base",
            "_view_module_version": "1.2.0",
            "_view_name": "LayoutView",
            "align_content": null,
            "align_items": null,
            "align_self": null,
            "border": null,
            "bottom": null,
            "display": null,
            "flex": null,
            "flex_flow": null,
            "grid_area": null,
            "grid_auto_columns": null,
            "grid_auto_flow": null,
            "grid_auto_rows": null,
            "grid_column": null,
            "grid_gap": null,
            "grid_row": null,
            "grid_template_areas": null,
            "grid_template_columns": null,
            "grid_template_rows": null,
            "height": null,
            "justify_content": null,
            "justify_items": null,
            "left": null,
            "margin": null,
            "max_height": null,
            "max_width": null,
            "min_height": null,
            "min_width": null,
            "object_fit": null,
            "object_position": null,
            "order": null,
            "overflow": null,
            "overflow_x": null,
            "overflow_y": null,
            "padding": null,
            "right": null,
            "top": null,
            "visibility": null,
            "width": null
          }
        },
        "c648c630c1e34bc49d52de9a21756da1": {
          "model_module": "@jupyter-widgets/base",
          "model_name": "LayoutModel",
          "model_module_version": "1.2.0",
          "state": {
            "_model_module": "@jupyter-widgets/base",
            "_model_module_version": "1.2.0",
            "_model_name": "LayoutModel",
            "_view_count": null,
            "_view_module": "@jupyter-widgets/base",
            "_view_module_version": "1.2.0",
            "_view_name": "LayoutView",
            "align_content": null,
            "align_items": null,
            "align_self": null,
            "border": null,
            "bottom": null,
            "display": null,
            "flex": null,
            "flex_flow": null,
            "grid_area": null,
            "grid_auto_columns": null,
            "grid_auto_flow": null,
            "grid_auto_rows": null,
            "grid_column": null,
            "grid_gap": null,
            "grid_row": null,
            "grid_template_areas": null,
            "grid_template_columns": null,
            "grid_template_rows": null,
            "height": null,
            "justify_content": null,
            "justify_items": null,
            "left": null,
            "margin": null,
            "max_height": null,
            "max_width": null,
            "min_height": null,
            "min_width": null,
            "object_fit": null,
            "object_position": null,
            "order": null,
            "overflow": null,
            "overflow_x": null,
            "overflow_y": null,
            "padding": null,
            "right": null,
            "top": null,
            "visibility": null,
            "width": null
          }
        },
        "617a316527c942c681af4f65c75c9601": {
          "model_module": "@jupyter-widgets/controls",
          "model_name": "DescriptionStyleModel",
          "model_module_version": "1.5.0",
          "state": {
            "_model_module": "@jupyter-widgets/controls",
            "_model_module_version": "1.5.0",
            "_model_name": "DescriptionStyleModel",
            "_view_count": null,
            "_view_module": "@jupyter-widgets/base",
            "_view_module_version": "1.2.0",
            "_view_name": "StyleView",
            "description_width": ""
          }
        },
        "57160da9ff9545c2bcf16044639b1cd4": {
          "model_module": "@jupyter-widgets/base",
          "model_name": "LayoutModel",
          "model_module_version": "1.2.0",
          "state": {
            "_model_module": "@jupyter-widgets/base",
            "_model_module_version": "1.2.0",
            "_model_name": "LayoutModel",
            "_view_count": null,
            "_view_module": "@jupyter-widgets/base",
            "_view_module_version": "1.2.0",
            "_view_name": "LayoutView",
            "align_content": null,
            "align_items": null,
            "align_self": null,
            "border": null,
            "bottom": null,
            "display": null,
            "flex": null,
            "flex_flow": null,
            "grid_area": null,
            "grid_auto_columns": null,
            "grid_auto_flow": null,
            "grid_auto_rows": null,
            "grid_column": null,
            "grid_gap": null,
            "grid_row": null,
            "grid_template_areas": null,
            "grid_template_columns": null,
            "grid_template_rows": null,
            "height": null,
            "justify_content": null,
            "justify_items": null,
            "left": null,
            "margin": null,
            "max_height": null,
            "max_width": null,
            "min_height": null,
            "min_width": null,
            "object_fit": null,
            "object_position": null,
            "order": null,
            "overflow": null,
            "overflow_x": null,
            "overflow_y": null,
            "padding": null,
            "right": null,
            "top": null,
            "visibility": null,
            "width": null
          }
        },
        "a7b941a3483541d5a39a68a294c398bc": {
          "model_module": "@jupyter-widgets/controls",
          "model_name": "ProgressStyleModel",
          "model_module_version": "1.5.0",
          "state": {
            "_model_module": "@jupyter-widgets/controls",
            "_model_module_version": "1.5.0",
            "_model_name": "ProgressStyleModel",
            "_view_count": null,
            "_view_module": "@jupyter-widgets/base",
            "_view_module_version": "1.2.0",
            "_view_name": "StyleView",
            "bar_color": null,
            "description_width": ""
          }
        },
        "f58dc4d08b29401a9d4fbca33825d4b6": {
          "model_module": "@jupyter-widgets/base",
          "model_name": "LayoutModel",
          "model_module_version": "1.2.0",
          "state": {
            "_model_module": "@jupyter-widgets/base",
            "_model_module_version": "1.2.0",
            "_model_name": "LayoutModel",
            "_view_count": null,
            "_view_module": "@jupyter-widgets/base",
            "_view_module_version": "1.2.0",
            "_view_name": "LayoutView",
            "align_content": null,
            "align_items": null,
            "align_self": null,
            "border": null,
            "bottom": null,
            "display": null,
            "flex": null,
            "flex_flow": null,
            "grid_area": null,
            "grid_auto_columns": null,
            "grid_auto_flow": null,
            "grid_auto_rows": null,
            "grid_column": null,
            "grid_gap": null,
            "grid_row": null,
            "grid_template_areas": null,
            "grid_template_columns": null,
            "grid_template_rows": null,
            "height": null,
            "justify_content": null,
            "justify_items": null,
            "left": null,
            "margin": null,
            "max_height": null,
            "max_width": null,
            "min_height": null,
            "min_width": null,
            "object_fit": null,
            "object_position": null,
            "order": null,
            "overflow": null,
            "overflow_x": null,
            "overflow_y": null,
            "padding": null,
            "right": null,
            "top": null,
            "visibility": null,
            "width": null
          }
        },
        "d774ffb43e594a60b4fd3a8e2c499d98": {
          "model_module": "@jupyter-widgets/controls",
          "model_name": "DescriptionStyleModel",
          "model_module_version": "1.5.0",
          "state": {
            "_model_module": "@jupyter-widgets/controls",
            "_model_module_version": "1.5.0",
            "_model_name": "DescriptionStyleModel",
            "_view_count": null,
            "_view_module": "@jupyter-widgets/base",
            "_view_module_version": "1.2.0",
            "_view_name": "StyleView",
            "description_width": ""
          }
        },
        "77b5fda4aa3c415f8771f2120e3fea41": {
          "model_module": "@jupyter-widgets/controls",
          "model_name": "HBoxModel",
          "model_module_version": "1.5.0",
          "state": {
            "_dom_classes": [],
            "_model_module": "@jupyter-widgets/controls",
            "_model_module_version": "1.5.0",
            "_model_name": "HBoxModel",
            "_view_count": null,
            "_view_module": "@jupyter-widgets/controls",
            "_view_module_version": "1.5.0",
            "_view_name": "HBoxView",
            "box_style": "",
            "children": [
              "IPY_MODEL_749f28baed8a4a2ea3a3a5c0fdf18a8a",
              "IPY_MODEL_274fd4f55bc6419caf4900f7f8564e03",
              "IPY_MODEL_ffb0537376124a2da0f2240d29487e84"
            ],
            "layout": "IPY_MODEL_34db9ca4c12041e19087a35f2798e61a"
          }
        },
        "749f28baed8a4a2ea3a3a5c0fdf18a8a": {
          "model_module": "@jupyter-widgets/controls",
          "model_name": "HTMLModel",
          "model_module_version": "1.5.0",
          "state": {
            "_dom_classes": [],
            "_model_module": "@jupyter-widgets/controls",
            "_model_module_version": "1.5.0",
            "_model_name": "HTMLModel",
            "_view_count": null,
            "_view_module": "@jupyter-widgets/controls",
            "_view_module_version": "1.5.0",
            "_view_name": "HTMLView",
            "description": "",
            "description_tooltip": null,
            "layout": "IPY_MODEL_aa59166fffab427893068ec445606f8e",
            "placeholder": "​",
            "style": "IPY_MODEL_dd8821837bf94f5fb925651ab920a2fc",
            "value": "Downloading: 100%"
          }
        },
        "274fd4f55bc6419caf4900f7f8564e03": {
          "model_module": "@jupyter-widgets/controls",
          "model_name": "FloatProgressModel",
          "model_module_version": "1.5.0",
          "state": {
            "_dom_classes": [],
            "_model_module": "@jupyter-widgets/controls",
            "_model_module_version": "1.5.0",
            "_model_name": "FloatProgressModel",
            "_view_count": null,
            "_view_module": "@jupyter-widgets/controls",
            "_view_module_version": "1.5.0",
            "_view_name": "ProgressView",
            "bar_style": "success",
            "description": "",
            "description_tooltip": null,
            "layout": "IPY_MODEL_9c489728ed1e48a29b60cc405ba25249",
            "max": 1493194721,
            "min": 0,
            "orientation": "horizontal",
            "style": "IPY_MODEL_616759a5c865455fa385f03595a2adb5",
            "value": 1493194721
          }
        },
        "ffb0537376124a2da0f2240d29487e84": {
          "model_module": "@jupyter-widgets/controls",
          "model_name": "HTMLModel",
          "model_module_version": "1.5.0",
          "state": {
            "_dom_classes": [],
            "_model_module": "@jupyter-widgets/controls",
            "_model_module_version": "1.5.0",
            "_model_name": "HTMLModel",
            "_view_count": null,
            "_view_module": "@jupyter-widgets/controls",
            "_view_module_version": "1.5.0",
            "_view_name": "HTMLView",
            "description": "",
            "description_tooltip": null,
            "layout": "IPY_MODEL_5ba6917bd1c64ef58d70b0dca2b9150a",
            "placeholder": "​",
            "style": "IPY_MODEL_8e9b1940d2824e01b7d72f8728ec1c7d",
            "value": " 1.39G/1.39G [00:39&lt;00:00, 46.6MB/s]"
          }
        },
        "34db9ca4c12041e19087a35f2798e61a": {
          "model_module": "@jupyter-widgets/base",
          "model_name": "LayoutModel",
          "model_module_version": "1.2.0",
          "state": {
            "_model_module": "@jupyter-widgets/base",
            "_model_module_version": "1.2.0",
            "_model_name": "LayoutModel",
            "_view_count": null,
            "_view_module": "@jupyter-widgets/base",
            "_view_module_version": "1.2.0",
            "_view_name": "LayoutView",
            "align_content": null,
            "align_items": null,
            "align_self": null,
            "border": null,
            "bottom": null,
            "display": null,
            "flex": null,
            "flex_flow": null,
            "grid_area": null,
            "grid_auto_columns": null,
            "grid_auto_flow": null,
            "grid_auto_rows": null,
            "grid_column": null,
            "grid_gap": null,
            "grid_row": null,
            "grid_template_areas": null,
            "grid_template_columns": null,
            "grid_template_rows": null,
            "height": null,
            "justify_content": null,
            "justify_items": null,
            "left": null,
            "margin": null,
            "max_height": null,
            "max_width": null,
            "min_height": null,
            "min_width": null,
            "object_fit": null,
            "object_position": null,
            "order": null,
            "overflow": null,
            "overflow_x": null,
            "overflow_y": null,
            "padding": null,
            "right": null,
            "top": null,
            "visibility": null,
            "width": null
          }
        },
        "aa59166fffab427893068ec445606f8e": {
          "model_module": "@jupyter-widgets/base",
          "model_name": "LayoutModel",
          "model_module_version": "1.2.0",
          "state": {
            "_model_module": "@jupyter-widgets/base",
            "_model_module_version": "1.2.0",
            "_model_name": "LayoutModel",
            "_view_count": null,
            "_view_module": "@jupyter-widgets/base",
            "_view_module_version": "1.2.0",
            "_view_name": "LayoutView",
            "align_content": null,
            "align_items": null,
            "align_self": null,
            "border": null,
            "bottom": null,
            "display": null,
            "flex": null,
            "flex_flow": null,
            "grid_area": null,
            "grid_auto_columns": null,
            "grid_auto_flow": null,
            "grid_auto_rows": null,
            "grid_column": null,
            "grid_gap": null,
            "grid_row": null,
            "grid_template_areas": null,
            "grid_template_columns": null,
            "grid_template_rows": null,
            "height": null,
            "justify_content": null,
            "justify_items": null,
            "left": null,
            "margin": null,
            "max_height": null,
            "max_width": null,
            "min_height": null,
            "min_width": null,
            "object_fit": null,
            "object_position": null,
            "order": null,
            "overflow": null,
            "overflow_x": null,
            "overflow_y": null,
            "padding": null,
            "right": null,
            "top": null,
            "visibility": null,
            "width": null
          }
        },
        "dd8821837bf94f5fb925651ab920a2fc": {
          "model_module": "@jupyter-widgets/controls",
          "model_name": "DescriptionStyleModel",
          "model_module_version": "1.5.0",
          "state": {
            "_model_module": "@jupyter-widgets/controls",
            "_model_module_version": "1.5.0",
            "_model_name": "DescriptionStyleModel",
            "_view_count": null,
            "_view_module": "@jupyter-widgets/base",
            "_view_module_version": "1.2.0",
            "_view_name": "StyleView",
            "description_width": ""
          }
        },
        "9c489728ed1e48a29b60cc405ba25249": {
          "model_module": "@jupyter-widgets/base",
          "model_name": "LayoutModel",
          "model_module_version": "1.2.0",
          "state": {
            "_model_module": "@jupyter-widgets/base",
            "_model_module_version": "1.2.0",
            "_model_name": "LayoutModel",
            "_view_count": null,
            "_view_module": "@jupyter-widgets/base",
            "_view_module_version": "1.2.0",
            "_view_name": "LayoutView",
            "align_content": null,
            "align_items": null,
            "align_self": null,
            "border": null,
            "bottom": null,
            "display": null,
            "flex": null,
            "flex_flow": null,
            "grid_area": null,
            "grid_auto_columns": null,
            "grid_auto_flow": null,
            "grid_auto_rows": null,
            "grid_column": null,
            "grid_gap": null,
            "grid_row": null,
            "grid_template_areas": null,
            "grid_template_columns": null,
            "grid_template_rows": null,
            "height": null,
            "justify_content": null,
            "justify_items": null,
            "left": null,
            "margin": null,
            "max_height": null,
            "max_width": null,
            "min_height": null,
            "min_width": null,
            "object_fit": null,
            "object_position": null,
            "order": null,
            "overflow": null,
            "overflow_x": null,
            "overflow_y": null,
            "padding": null,
            "right": null,
            "top": null,
            "visibility": null,
            "width": null
          }
        },
        "616759a5c865455fa385f03595a2adb5": {
          "model_module": "@jupyter-widgets/controls",
          "model_name": "ProgressStyleModel",
          "model_module_version": "1.5.0",
          "state": {
            "_model_module": "@jupyter-widgets/controls",
            "_model_module_version": "1.5.0",
            "_model_name": "ProgressStyleModel",
            "_view_count": null,
            "_view_module": "@jupyter-widgets/base",
            "_view_module_version": "1.2.0",
            "_view_name": "StyleView",
            "bar_color": null,
            "description_width": ""
          }
        },
        "5ba6917bd1c64ef58d70b0dca2b9150a": {
          "model_module": "@jupyter-widgets/base",
          "model_name": "LayoutModel",
          "model_module_version": "1.2.0",
          "state": {
            "_model_module": "@jupyter-widgets/base",
            "_model_module_version": "1.2.0",
            "_model_name": "LayoutModel",
            "_view_count": null,
            "_view_module": "@jupyter-widgets/base",
            "_view_module_version": "1.2.0",
            "_view_name": "LayoutView",
            "align_content": null,
            "align_items": null,
            "align_self": null,
            "border": null,
            "bottom": null,
            "display": null,
            "flex": null,
            "flex_flow": null,
            "grid_area": null,
            "grid_auto_columns": null,
            "grid_auto_flow": null,
            "grid_auto_rows": null,
            "grid_column": null,
            "grid_gap": null,
            "grid_row": null,
            "grid_template_areas": null,
            "grid_template_columns": null,
            "grid_template_rows": null,
            "height": null,
            "justify_content": null,
            "justify_items": null,
            "left": null,
            "margin": null,
            "max_height": null,
            "max_width": null,
            "min_height": null,
            "min_width": null,
            "object_fit": null,
            "object_position": null,
            "order": null,
            "overflow": null,
            "overflow_x": null,
            "overflow_y": null,
            "padding": null,
            "right": null,
            "top": null,
            "visibility": null,
            "width": null
          }
        },
        "8e9b1940d2824e01b7d72f8728ec1c7d": {
          "model_module": "@jupyter-widgets/controls",
          "model_name": "DescriptionStyleModel",
          "model_module_version": "1.5.0",
          "state": {
            "_model_module": "@jupyter-widgets/controls",
            "_model_module_version": "1.5.0",
            "_model_name": "DescriptionStyleModel",
            "_view_count": null,
            "_view_module": "@jupyter-widgets/base",
            "_view_module_version": "1.2.0",
            "_view_name": "StyleView",
            "description_width": ""
          }
        },
        "1c4469c6bea24242951accd0f84f2c9a": {
          "model_module": "@jupyter-widgets/controls",
          "model_name": "HBoxModel",
          "model_module_version": "1.5.0",
          "state": {
            "_dom_classes": [],
            "_model_module": "@jupyter-widgets/controls",
            "_model_module_version": "1.5.0",
            "_model_name": "HBoxModel",
            "_view_count": null,
            "_view_module": "@jupyter-widgets/controls",
            "_view_module_version": "1.5.0",
            "_view_name": "HBoxView",
            "box_style": "",
            "children": [
              "IPY_MODEL_2347d9ac4e894a04b5b56b7b121c606a",
              "IPY_MODEL_3041b12c62784bf68151cb2915e8c529",
              "IPY_MODEL_8b7442051ccb4bf79d3de1ba712307fa"
            ],
            "layout": "IPY_MODEL_691f12b5264f4a4aa737dd97c400d940"
          }
        },
        "2347d9ac4e894a04b5b56b7b121c606a": {
          "model_module": "@jupyter-widgets/controls",
          "model_name": "HTMLModel",
          "model_module_version": "1.5.0",
          "state": {
            "_dom_classes": [],
            "_model_module": "@jupyter-widgets/controls",
            "_model_module_version": "1.5.0",
            "_model_name": "HTMLModel",
            "_view_count": null,
            "_view_module": "@jupyter-widgets/controls",
            "_view_module_version": "1.5.0",
            "_view_name": "HTMLView",
            "description": "",
            "description_tooltip": null,
            "layout": "IPY_MODEL_ebefdd21242d43528babf1ba5a3341cf",
            "placeholder": "​",
            "style": "IPY_MODEL_765ae8ca111d4339bec7c8c1357a230e",
            "value": "Downloading: 100%"
          }
        },
        "3041b12c62784bf68151cb2915e8c529": {
          "model_module": "@jupyter-widgets/controls",
          "model_name": "FloatProgressModel",
          "model_module_version": "1.5.0",
          "state": {
            "_dom_classes": [],
            "_model_module": "@jupyter-widgets/controls",
            "_model_module_version": "1.5.0",
            "_model_name": "FloatProgressModel",
            "_view_count": null,
            "_view_module": "@jupyter-widgets/controls",
            "_view_module_version": "1.5.0",
            "_view_name": "ProgressView",
            "bar_style": "success",
            "description": "",
            "description_tooltip": null,
            "layout": "IPY_MODEL_aa346a242345488d98501dd8b35fa79b",
            "max": 28,
            "min": 0,
            "orientation": "horizontal",
            "style": "IPY_MODEL_239b4dedea1a46e09715098d9a7752d3",
            "value": 28
          }
        },
        "8b7442051ccb4bf79d3de1ba712307fa": {
          "model_module": "@jupyter-widgets/controls",
          "model_name": "HTMLModel",
          "model_module_version": "1.5.0",
          "state": {
            "_dom_classes": [],
            "_model_module": "@jupyter-widgets/controls",
            "_model_module_version": "1.5.0",
            "_model_name": "HTMLModel",
            "_view_count": null,
            "_view_module": "@jupyter-widgets/controls",
            "_view_module_version": "1.5.0",
            "_view_name": "HTMLView",
            "description": "",
            "description_tooltip": null,
            "layout": "IPY_MODEL_4ac9ec2622f94cb4b63f96d4ecdbf831",
            "placeholder": "​",
            "style": "IPY_MODEL_4f0d0a3939cb415a82c4ce85edbf70b6",
            "value": " 28.0/28.0 [00:00&lt;00:00, 1.08kB/s]"
          }
        },
        "691f12b5264f4a4aa737dd97c400d940": {
          "model_module": "@jupyter-widgets/base",
          "model_name": "LayoutModel",
          "model_module_version": "1.2.0",
          "state": {
            "_model_module": "@jupyter-widgets/base",
            "_model_module_version": "1.2.0",
            "_model_name": "LayoutModel",
            "_view_count": null,
            "_view_module": "@jupyter-widgets/base",
            "_view_module_version": "1.2.0",
            "_view_name": "LayoutView",
            "align_content": null,
            "align_items": null,
            "align_self": null,
            "border": null,
            "bottom": null,
            "display": null,
            "flex": null,
            "flex_flow": null,
            "grid_area": null,
            "grid_auto_columns": null,
            "grid_auto_flow": null,
            "grid_auto_rows": null,
            "grid_column": null,
            "grid_gap": null,
            "grid_row": null,
            "grid_template_areas": null,
            "grid_template_columns": null,
            "grid_template_rows": null,
            "height": null,
            "justify_content": null,
            "justify_items": null,
            "left": null,
            "margin": null,
            "max_height": null,
            "max_width": null,
            "min_height": null,
            "min_width": null,
            "object_fit": null,
            "object_position": null,
            "order": null,
            "overflow": null,
            "overflow_x": null,
            "overflow_y": null,
            "padding": null,
            "right": null,
            "top": null,
            "visibility": null,
            "width": null
          }
        },
        "ebefdd21242d43528babf1ba5a3341cf": {
          "model_module": "@jupyter-widgets/base",
          "model_name": "LayoutModel",
          "model_module_version": "1.2.0",
          "state": {
            "_model_module": "@jupyter-widgets/base",
            "_model_module_version": "1.2.0",
            "_model_name": "LayoutModel",
            "_view_count": null,
            "_view_module": "@jupyter-widgets/base",
            "_view_module_version": "1.2.0",
            "_view_name": "LayoutView",
            "align_content": null,
            "align_items": null,
            "align_self": null,
            "border": null,
            "bottom": null,
            "display": null,
            "flex": null,
            "flex_flow": null,
            "grid_area": null,
            "grid_auto_columns": null,
            "grid_auto_flow": null,
            "grid_auto_rows": null,
            "grid_column": null,
            "grid_gap": null,
            "grid_row": null,
            "grid_template_areas": null,
            "grid_template_columns": null,
            "grid_template_rows": null,
            "height": null,
            "justify_content": null,
            "justify_items": null,
            "left": null,
            "margin": null,
            "max_height": null,
            "max_width": null,
            "min_height": null,
            "min_width": null,
            "object_fit": null,
            "object_position": null,
            "order": null,
            "overflow": null,
            "overflow_x": null,
            "overflow_y": null,
            "padding": null,
            "right": null,
            "top": null,
            "visibility": null,
            "width": null
          }
        },
        "765ae8ca111d4339bec7c8c1357a230e": {
          "model_module": "@jupyter-widgets/controls",
          "model_name": "DescriptionStyleModel",
          "model_module_version": "1.5.0",
          "state": {
            "_model_module": "@jupyter-widgets/controls",
            "_model_module_version": "1.5.0",
            "_model_name": "DescriptionStyleModel",
            "_view_count": null,
            "_view_module": "@jupyter-widgets/base",
            "_view_module_version": "1.2.0",
            "_view_name": "StyleView",
            "description_width": ""
          }
        },
        "aa346a242345488d98501dd8b35fa79b": {
          "model_module": "@jupyter-widgets/base",
          "model_name": "LayoutModel",
          "model_module_version": "1.2.0",
          "state": {
            "_model_module": "@jupyter-widgets/base",
            "_model_module_version": "1.2.0",
            "_model_name": "LayoutModel",
            "_view_count": null,
            "_view_module": "@jupyter-widgets/base",
            "_view_module_version": "1.2.0",
            "_view_name": "LayoutView",
            "align_content": null,
            "align_items": null,
            "align_self": null,
            "border": null,
            "bottom": null,
            "display": null,
            "flex": null,
            "flex_flow": null,
            "grid_area": null,
            "grid_auto_columns": null,
            "grid_auto_flow": null,
            "grid_auto_rows": null,
            "grid_column": null,
            "grid_gap": null,
            "grid_row": null,
            "grid_template_areas": null,
            "grid_template_columns": null,
            "grid_template_rows": null,
            "height": null,
            "justify_content": null,
            "justify_items": null,
            "left": null,
            "margin": null,
            "max_height": null,
            "max_width": null,
            "min_height": null,
            "min_width": null,
            "object_fit": null,
            "object_position": null,
            "order": null,
            "overflow": null,
            "overflow_x": null,
            "overflow_y": null,
            "padding": null,
            "right": null,
            "top": null,
            "visibility": null,
            "width": null
          }
        },
        "239b4dedea1a46e09715098d9a7752d3": {
          "model_module": "@jupyter-widgets/controls",
          "model_name": "ProgressStyleModel",
          "model_module_version": "1.5.0",
          "state": {
            "_model_module": "@jupyter-widgets/controls",
            "_model_module_version": "1.5.0",
            "_model_name": "ProgressStyleModel",
            "_view_count": null,
            "_view_module": "@jupyter-widgets/base",
            "_view_module_version": "1.2.0",
            "_view_name": "StyleView",
            "bar_color": null,
            "description_width": ""
          }
        },
        "4ac9ec2622f94cb4b63f96d4ecdbf831": {
          "model_module": "@jupyter-widgets/base",
          "model_name": "LayoutModel",
          "model_module_version": "1.2.0",
          "state": {
            "_model_module": "@jupyter-widgets/base",
            "_model_module_version": "1.2.0",
            "_model_name": "LayoutModel",
            "_view_count": null,
            "_view_module": "@jupyter-widgets/base",
            "_view_module_version": "1.2.0",
            "_view_name": "LayoutView",
            "align_content": null,
            "align_items": null,
            "align_self": null,
            "border": null,
            "bottom": null,
            "display": null,
            "flex": null,
            "flex_flow": null,
            "grid_area": null,
            "grid_auto_columns": null,
            "grid_auto_flow": null,
            "grid_auto_rows": null,
            "grid_column": null,
            "grid_gap": null,
            "grid_row": null,
            "grid_template_areas": null,
            "grid_template_columns": null,
            "grid_template_rows": null,
            "height": null,
            "justify_content": null,
            "justify_items": null,
            "left": null,
            "margin": null,
            "max_height": null,
            "max_width": null,
            "min_height": null,
            "min_width": null,
            "object_fit": null,
            "object_position": null,
            "order": null,
            "overflow": null,
            "overflow_x": null,
            "overflow_y": null,
            "padding": null,
            "right": null,
            "top": null,
            "visibility": null,
            "width": null
          }
        },
        "4f0d0a3939cb415a82c4ce85edbf70b6": {
          "model_module": "@jupyter-widgets/controls",
          "model_name": "DescriptionStyleModel",
          "model_module_version": "1.5.0",
          "state": {
            "_model_module": "@jupyter-widgets/controls",
            "_model_module_version": "1.5.0",
            "_model_name": "DescriptionStyleModel",
            "_view_count": null,
            "_view_module": "@jupyter-widgets/base",
            "_view_module_version": "1.2.0",
            "_view_name": "StyleView",
            "description_width": ""
          }
        },
        "fdff04a5e4bb48ae8527978730df01b1": {
          "model_module": "@jupyter-widgets/controls",
          "model_name": "HBoxModel",
          "model_module_version": "1.5.0",
          "state": {
            "_dom_classes": [],
            "_model_module": "@jupyter-widgets/controls",
            "_model_module_version": "1.5.0",
            "_model_name": "HBoxModel",
            "_view_count": null,
            "_view_module": "@jupyter-widgets/controls",
            "_view_module_version": "1.5.0",
            "_view_name": "HBoxView",
            "box_style": "",
            "children": [
              "IPY_MODEL_eaa743d68c5e43ec988ced652bea4011",
              "IPY_MODEL_8ddd8c5ee6bd49b6b1a29cc06fa3c134",
              "IPY_MODEL_a0ddda224ad2467e9ce4ab000bcb1ceb"
            ],
            "layout": "IPY_MODEL_32f138ae8d264a4682983bd216471228"
          }
        },
        "eaa743d68c5e43ec988ced652bea4011": {
          "model_module": "@jupyter-widgets/controls",
          "model_name": "HTMLModel",
          "model_module_version": "1.5.0",
          "state": {
            "_dom_classes": [],
            "_model_module": "@jupyter-widgets/controls",
            "_model_module_version": "1.5.0",
            "_model_name": "HTMLModel",
            "_view_count": null,
            "_view_module": "@jupyter-widgets/controls",
            "_view_module_version": "1.5.0",
            "_view_name": "HTMLView",
            "description": "",
            "description_tooltip": null,
            "layout": "IPY_MODEL_9ed69e9a71884e3594e27a6edcf39f1b",
            "placeholder": "​",
            "style": "IPY_MODEL_f501b77a04dc4e36babb281ad5b6654c",
            "value": "Downloading: 100%"
          }
        },
        "8ddd8c5ee6bd49b6b1a29cc06fa3c134": {
          "model_module": "@jupyter-widgets/controls",
          "model_name": "FloatProgressModel",
          "model_module_version": "1.5.0",
          "state": {
            "_dom_classes": [],
            "_model_module": "@jupyter-widgets/controls",
            "_model_module_version": "1.5.0",
            "_model_name": "FloatProgressModel",
            "_view_count": null,
            "_view_module": "@jupyter-widgets/controls",
            "_view_module_version": "1.5.0",
            "_view_name": "ProgressView",
            "bar_style": "success",
            "description": "",
            "description_tooltip": null,
            "layout": "IPY_MODEL_fac8e5b8006140ebb32b7fd419b35f74",
            "max": 1561415,
            "min": 0,
            "orientation": "horizontal",
            "style": "IPY_MODEL_bc61c41fe8b14609bb3644c8e03eb560",
            "value": 1561415
          }
        },
        "a0ddda224ad2467e9ce4ab000bcb1ceb": {
          "model_module": "@jupyter-widgets/controls",
          "model_name": "HTMLModel",
          "model_module_version": "1.5.0",
          "state": {
            "_dom_classes": [],
            "_model_module": "@jupyter-widgets/controls",
            "_model_module_version": "1.5.0",
            "_model_name": "HTMLModel",
            "_view_count": null,
            "_view_module": "@jupyter-widgets/controls",
            "_view_module_version": "1.5.0",
            "_view_name": "HTMLView",
            "description": "",
            "description_tooltip": null,
            "layout": "IPY_MODEL_8ccb91060c4f49ae8c05fcf96e711e37",
            "placeholder": "​",
            "style": "IPY_MODEL_70301070ac044a04a6c5c32b2bd0eb2a",
            "value": " 1.49M/1.49M [00:00&lt;00:00, 2.18MB/s]"
          }
        },
        "32f138ae8d264a4682983bd216471228": {
          "model_module": "@jupyter-widgets/base",
          "model_name": "LayoutModel",
          "model_module_version": "1.2.0",
          "state": {
            "_model_module": "@jupyter-widgets/base",
            "_model_module_version": "1.2.0",
            "_model_name": "LayoutModel",
            "_view_count": null,
            "_view_module": "@jupyter-widgets/base",
            "_view_module_version": "1.2.0",
            "_view_name": "LayoutView",
            "align_content": null,
            "align_items": null,
            "align_self": null,
            "border": null,
            "bottom": null,
            "display": null,
            "flex": null,
            "flex_flow": null,
            "grid_area": null,
            "grid_auto_columns": null,
            "grid_auto_flow": null,
            "grid_auto_rows": null,
            "grid_column": null,
            "grid_gap": null,
            "grid_row": null,
            "grid_template_areas": null,
            "grid_template_columns": null,
            "grid_template_rows": null,
            "height": null,
            "justify_content": null,
            "justify_items": null,
            "left": null,
            "margin": null,
            "max_height": null,
            "max_width": null,
            "min_height": null,
            "min_width": null,
            "object_fit": null,
            "object_position": null,
            "order": null,
            "overflow": null,
            "overflow_x": null,
            "overflow_y": null,
            "padding": null,
            "right": null,
            "top": null,
            "visibility": null,
            "width": null
          }
        },
        "9ed69e9a71884e3594e27a6edcf39f1b": {
          "model_module": "@jupyter-widgets/base",
          "model_name": "LayoutModel",
          "model_module_version": "1.2.0",
          "state": {
            "_model_module": "@jupyter-widgets/base",
            "_model_module_version": "1.2.0",
            "_model_name": "LayoutModel",
            "_view_count": null,
            "_view_module": "@jupyter-widgets/base",
            "_view_module_version": "1.2.0",
            "_view_name": "LayoutView",
            "align_content": null,
            "align_items": null,
            "align_self": null,
            "border": null,
            "bottom": null,
            "display": null,
            "flex": null,
            "flex_flow": null,
            "grid_area": null,
            "grid_auto_columns": null,
            "grid_auto_flow": null,
            "grid_auto_rows": null,
            "grid_column": null,
            "grid_gap": null,
            "grid_row": null,
            "grid_template_areas": null,
            "grid_template_columns": null,
            "grid_template_rows": null,
            "height": null,
            "justify_content": null,
            "justify_items": null,
            "left": null,
            "margin": null,
            "max_height": null,
            "max_width": null,
            "min_height": null,
            "min_width": null,
            "object_fit": null,
            "object_position": null,
            "order": null,
            "overflow": null,
            "overflow_x": null,
            "overflow_y": null,
            "padding": null,
            "right": null,
            "top": null,
            "visibility": null,
            "width": null
          }
        },
        "f501b77a04dc4e36babb281ad5b6654c": {
          "model_module": "@jupyter-widgets/controls",
          "model_name": "DescriptionStyleModel",
          "model_module_version": "1.5.0",
          "state": {
            "_model_module": "@jupyter-widgets/controls",
            "_model_module_version": "1.5.0",
            "_model_name": "DescriptionStyleModel",
            "_view_count": null,
            "_view_module": "@jupyter-widgets/base",
            "_view_module_version": "1.2.0",
            "_view_name": "StyleView",
            "description_width": ""
          }
        },
        "fac8e5b8006140ebb32b7fd419b35f74": {
          "model_module": "@jupyter-widgets/base",
          "model_name": "LayoutModel",
          "model_module_version": "1.2.0",
          "state": {
            "_model_module": "@jupyter-widgets/base",
            "_model_module_version": "1.2.0",
            "_model_name": "LayoutModel",
            "_view_count": null,
            "_view_module": "@jupyter-widgets/base",
            "_view_module_version": "1.2.0",
            "_view_name": "LayoutView",
            "align_content": null,
            "align_items": null,
            "align_self": null,
            "border": null,
            "bottom": null,
            "display": null,
            "flex": null,
            "flex_flow": null,
            "grid_area": null,
            "grid_auto_columns": null,
            "grid_auto_flow": null,
            "grid_auto_rows": null,
            "grid_column": null,
            "grid_gap": null,
            "grid_row": null,
            "grid_template_areas": null,
            "grid_template_columns": null,
            "grid_template_rows": null,
            "height": null,
            "justify_content": null,
            "justify_items": null,
            "left": null,
            "margin": null,
            "max_height": null,
            "max_width": null,
            "min_height": null,
            "min_width": null,
            "object_fit": null,
            "object_position": null,
            "order": null,
            "overflow": null,
            "overflow_x": null,
            "overflow_y": null,
            "padding": null,
            "right": null,
            "top": null,
            "visibility": null,
            "width": null
          }
        },
        "bc61c41fe8b14609bb3644c8e03eb560": {
          "model_module": "@jupyter-widgets/controls",
          "model_name": "ProgressStyleModel",
          "model_module_version": "1.5.0",
          "state": {
            "_model_module": "@jupyter-widgets/controls",
            "_model_module_version": "1.5.0",
            "_model_name": "ProgressStyleModel",
            "_view_count": null,
            "_view_module": "@jupyter-widgets/base",
            "_view_module_version": "1.2.0",
            "_view_name": "StyleView",
            "bar_color": null,
            "description_width": ""
          }
        },
        "8ccb91060c4f49ae8c05fcf96e711e37": {
          "model_module": "@jupyter-widgets/base",
          "model_name": "LayoutModel",
          "model_module_version": "1.2.0",
          "state": {
            "_model_module": "@jupyter-widgets/base",
            "_model_module_version": "1.2.0",
            "_model_name": "LayoutModel",
            "_view_count": null,
            "_view_module": "@jupyter-widgets/base",
            "_view_module_version": "1.2.0",
            "_view_name": "LayoutView",
            "align_content": null,
            "align_items": null,
            "align_self": null,
            "border": null,
            "bottom": null,
            "display": null,
            "flex": null,
            "flex_flow": null,
            "grid_area": null,
            "grid_auto_columns": null,
            "grid_auto_flow": null,
            "grid_auto_rows": null,
            "grid_column": null,
            "grid_gap": null,
            "grid_row": null,
            "grid_template_areas": null,
            "grid_template_columns": null,
            "grid_template_rows": null,
            "height": null,
            "justify_content": null,
            "justify_items": null,
            "left": null,
            "margin": null,
            "max_height": null,
            "max_width": null,
            "min_height": null,
            "min_width": null,
            "object_fit": null,
            "object_position": null,
            "order": null,
            "overflow": null,
            "overflow_x": null,
            "overflow_y": null,
            "padding": null,
            "right": null,
            "top": null,
            "visibility": null,
            "width": null
          }
        },
        "70301070ac044a04a6c5c32b2bd0eb2a": {
          "model_module": "@jupyter-widgets/controls",
          "model_name": "DescriptionStyleModel",
          "model_module_version": "1.5.0",
          "state": {
            "_model_module": "@jupyter-widgets/controls",
            "_model_module_version": "1.5.0",
            "_model_name": "DescriptionStyleModel",
            "_view_count": null,
            "_view_module": "@jupyter-widgets/base",
            "_view_module_version": "1.2.0",
            "_view_name": "StyleView",
            "description_width": ""
          }
        },
        "0df7773d1ef34f1998e8587e635dc773": {
          "model_module": "@jupyter-widgets/controls",
          "model_name": "HBoxModel",
          "model_module_version": "1.5.0",
          "state": {
            "_dom_classes": [],
            "_model_module": "@jupyter-widgets/controls",
            "_model_module_version": "1.5.0",
            "_model_name": "HBoxModel",
            "_view_count": null,
            "_view_module": "@jupyter-widgets/controls",
            "_view_module_version": "1.5.0",
            "_view_name": "HBoxView",
            "box_style": "",
            "children": [
              "IPY_MODEL_32298232d5ae4577afd40440c5310b21",
              "IPY_MODEL_41b8a67c5af74565bb2d7dc135d71692",
              "IPY_MODEL_22619c9b0b524f3294e972cc39af2833"
            ],
            "layout": "IPY_MODEL_b3ba5eb61a65439da3520b886e32b508"
          }
        },
        "32298232d5ae4577afd40440c5310b21": {
          "model_module": "@jupyter-widgets/controls",
          "model_name": "HTMLModel",
          "model_module_version": "1.5.0",
          "state": {
            "_dom_classes": [],
            "_model_module": "@jupyter-widgets/controls",
            "_model_module_version": "1.5.0",
            "_model_name": "HTMLModel",
            "_view_count": null,
            "_view_module": "@jupyter-widgets/controls",
            "_view_module_version": "1.5.0",
            "_view_name": "HTMLView",
            "description": "",
            "description_tooltip": null,
            "layout": "IPY_MODEL_deb0f48b7a0d41e9a52f1fc32104610c",
            "placeholder": "​",
            "style": "IPY_MODEL_3956f92f658c4c55a2794d1a9abc94f2",
            "value": "Downloading: 100%"
          }
        },
        "41b8a67c5af74565bb2d7dc135d71692": {
          "model_module": "@jupyter-widgets/controls",
          "model_name": "FloatProgressModel",
          "model_module_version": "1.5.0",
          "state": {
            "_dom_classes": [],
            "_model_module": "@jupyter-widgets/controls",
            "_model_module_version": "1.5.0",
            "_model_name": "FloatProgressModel",
            "_view_count": null,
            "_view_module": "@jupyter-widgets/controls",
            "_view_module_version": "1.5.0",
            "_view_name": "ProgressView",
            "bar_style": "success",
            "description": "",
            "description_tooltip": null,
            "layout": "IPY_MODEL_cb0a27021a474588a0ce97f14079b8b5",
            "max": 895731,
            "min": 0,
            "orientation": "horizontal",
            "style": "IPY_MODEL_b0c3f2cc124d4f28bfe5aed7622b3efe",
            "value": 895731
          }
        },
        "22619c9b0b524f3294e972cc39af2833": {
          "model_module": "@jupyter-widgets/controls",
          "model_name": "HTMLModel",
          "model_module_version": "1.5.0",
          "state": {
            "_dom_classes": [],
            "_model_module": "@jupyter-widgets/controls",
            "_model_module_version": "1.5.0",
            "_model_name": "HTMLModel",
            "_view_count": null,
            "_view_module": "@jupyter-widgets/controls",
            "_view_module_version": "1.5.0",
            "_view_name": "HTMLView",
            "description": "",
            "description_tooltip": null,
            "layout": "IPY_MODEL_50bb03b5bc28480381505e083804716e",
            "placeholder": "​",
            "style": "IPY_MODEL_f9da7fa0a31d4081b3a9171d31dabe50",
            "value": " 875k/875k [00:00&lt;00:00, 2.01MB/s]"
          }
        },
        "b3ba5eb61a65439da3520b886e32b508": {
          "model_module": "@jupyter-widgets/base",
          "model_name": "LayoutModel",
          "model_module_version": "1.2.0",
          "state": {
            "_model_module": "@jupyter-widgets/base",
            "_model_module_version": "1.2.0",
            "_model_name": "LayoutModel",
            "_view_count": null,
            "_view_module": "@jupyter-widgets/base",
            "_view_module_version": "1.2.0",
            "_view_name": "LayoutView",
            "align_content": null,
            "align_items": null,
            "align_self": null,
            "border": null,
            "bottom": null,
            "display": null,
            "flex": null,
            "flex_flow": null,
            "grid_area": null,
            "grid_auto_columns": null,
            "grid_auto_flow": null,
            "grid_auto_rows": null,
            "grid_column": null,
            "grid_gap": null,
            "grid_row": null,
            "grid_template_areas": null,
            "grid_template_columns": null,
            "grid_template_rows": null,
            "height": null,
            "justify_content": null,
            "justify_items": null,
            "left": null,
            "margin": null,
            "max_height": null,
            "max_width": null,
            "min_height": null,
            "min_width": null,
            "object_fit": null,
            "object_position": null,
            "order": null,
            "overflow": null,
            "overflow_x": null,
            "overflow_y": null,
            "padding": null,
            "right": null,
            "top": null,
            "visibility": null,
            "width": null
          }
        },
        "deb0f48b7a0d41e9a52f1fc32104610c": {
          "model_module": "@jupyter-widgets/base",
          "model_name": "LayoutModel",
          "model_module_version": "1.2.0",
          "state": {
            "_model_module": "@jupyter-widgets/base",
            "_model_module_version": "1.2.0",
            "_model_name": "LayoutModel",
            "_view_count": null,
            "_view_module": "@jupyter-widgets/base",
            "_view_module_version": "1.2.0",
            "_view_name": "LayoutView",
            "align_content": null,
            "align_items": null,
            "align_self": null,
            "border": null,
            "bottom": null,
            "display": null,
            "flex": null,
            "flex_flow": null,
            "grid_area": null,
            "grid_auto_columns": null,
            "grid_auto_flow": null,
            "grid_auto_rows": null,
            "grid_column": null,
            "grid_gap": null,
            "grid_row": null,
            "grid_template_areas": null,
            "grid_template_columns": null,
            "grid_template_rows": null,
            "height": null,
            "justify_content": null,
            "justify_items": null,
            "left": null,
            "margin": null,
            "max_height": null,
            "max_width": null,
            "min_height": null,
            "min_width": null,
            "object_fit": null,
            "object_position": null,
            "order": null,
            "overflow": null,
            "overflow_x": null,
            "overflow_y": null,
            "padding": null,
            "right": null,
            "top": null,
            "visibility": null,
            "width": null
          }
        },
        "3956f92f658c4c55a2794d1a9abc94f2": {
          "model_module": "@jupyter-widgets/controls",
          "model_name": "DescriptionStyleModel",
          "model_module_version": "1.5.0",
          "state": {
            "_model_module": "@jupyter-widgets/controls",
            "_model_module_version": "1.5.0",
            "_model_name": "DescriptionStyleModel",
            "_view_count": null,
            "_view_module": "@jupyter-widgets/base",
            "_view_module_version": "1.2.0",
            "_view_name": "StyleView",
            "description_width": ""
          }
        },
        "cb0a27021a474588a0ce97f14079b8b5": {
          "model_module": "@jupyter-widgets/base",
          "model_name": "LayoutModel",
          "model_module_version": "1.2.0",
          "state": {
            "_model_module": "@jupyter-widgets/base",
            "_model_module_version": "1.2.0",
            "_model_name": "LayoutModel",
            "_view_count": null,
            "_view_module": "@jupyter-widgets/base",
            "_view_module_version": "1.2.0",
            "_view_name": "LayoutView",
            "align_content": null,
            "align_items": null,
            "align_self": null,
            "border": null,
            "bottom": null,
            "display": null,
            "flex": null,
            "flex_flow": null,
            "grid_area": null,
            "grid_auto_columns": null,
            "grid_auto_flow": null,
            "grid_auto_rows": null,
            "grid_column": null,
            "grid_gap": null,
            "grid_row": null,
            "grid_template_areas": null,
            "grid_template_columns": null,
            "grid_template_rows": null,
            "height": null,
            "justify_content": null,
            "justify_items": null,
            "left": null,
            "margin": null,
            "max_height": null,
            "max_width": null,
            "min_height": null,
            "min_width": null,
            "object_fit": null,
            "object_position": null,
            "order": null,
            "overflow": null,
            "overflow_x": null,
            "overflow_y": null,
            "padding": null,
            "right": null,
            "top": null,
            "visibility": null,
            "width": null
          }
        },
        "b0c3f2cc124d4f28bfe5aed7622b3efe": {
          "model_module": "@jupyter-widgets/controls",
          "model_name": "ProgressStyleModel",
          "model_module_version": "1.5.0",
          "state": {
            "_model_module": "@jupyter-widgets/controls",
            "_model_module_version": "1.5.0",
            "_model_name": "ProgressStyleModel",
            "_view_count": null,
            "_view_module": "@jupyter-widgets/base",
            "_view_module_version": "1.2.0",
            "_view_name": "StyleView",
            "bar_color": null,
            "description_width": ""
          }
        },
        "50bb03b5bc28480381505e083804716e": {
          "model_module": "@jupyter-widgets/base",
          "model_name": "LayoutModel",
          "model_module_version": "1.2.0",
          "state": {
            "_model_module": "@jupyter-widgets/base",
            "_model_module_version": "1.2.0",
            "_model_name": "LayoutModel",
            "_view_count": null,
            "_view_module": "@jupyter-widgets/base",
            "_view_module_version": "1.2.0",
            "_view_name": "LayoutView",
            "align_content": null,
            "align_items": null,
            "align_self": null,
            "border": null,
            "bottom": null,
            "display": null,
            "flex": null,
            "flex_flow": null,
            "grid_area": null,
            "grid_auto_columns": null,
            "grid_auto_flow": null,
            "grid_auto_rows": null,
            "grid_column": null,
            "grid_gap": null,
            "grid_row": null,
            "grid_template_areas": null,
            "grid_template_columns": null,
            "grid_template_rows": null,
            "height": null,
            "justify_content": null,
            "justify_items": null,
            "left": null,
            "margin": null,
            "max_height": null,
            "max_width": null,
            "min_height": null,
            "min_width": null,
            "object_fit": null,
            "object_position": null,
            "order": null,
            "overflow": null,
            "overflow_x": null,
            "overflow_y": null,
            "padding": null,
            "right": null,
            "top": null,
            "visibility": null,
            "width": null
          }
        },
        "f9da7fa0a31d4081b3a9171d31dabe50": {
          "model_module": "@jupyter-widgets/controls",
          "model_name": "DescriptionStyleModel",
          "model_module_version": "1.5.0",
          "state": {
            "_model_module": "@jupyter-widgets/controls",
            "_model_module_version": "1.5.0",
            "_model_name": "DescriptionStyleModel",
            "_view_count": null,
            "_view_module": "@jupyter-widgets/base",
            "_view_module_version": "1.2.0",
            "_view_name": "StyleView",
            "description_width": ""
          }
        }
      }
    }
  },
  "cells": [
    {
      "cell_type": "markdown",
      "metadata": {
        "id": "view-in-github",
        "colab_type": "text"
      },
      "source": [
        "<a href=\"https://colab.research.google.com/github/amirpaia/blenderbot/blob/main/evaluation_metrics.ipynb\" target=\"_parent\"><img src=\"https://colab.research.google.com/assets/colab-badge.svg\" alt=\"Open In Colab\"/></a>"
      ]
    },
    {
      "cell_type": "markdown",
      "source": [
        "# Installation"
      ],
      "metadata": {
        "id": "Fux6lnukGqyX"
      }
    },
    {
      "cell_type": "code",
      "source": [
        "from google.colab import drive\n",
        "drive.mount(\"/content/drive\")"
      ],
      "metadata": {
        "colab": {
          "base_uri": "https://localhost:8080/"
        },
        "id": "oQ7zYgpMjByn",
        "outputId": "c03aba95-63d4-48c1-f8be-5dbad4c60805"
      },
      "execution_count": 5,
      "outputs": [
        {
          "output_type": "stream",
          "name": "stdout",
          "text": [
            "Drive already mounted at /content/drive; to attempt to forcibly remount, call drive.mount(\"/content/drive\", force_remount=True).\n"
          ]
        }
      ]
    },
    {
      "cell_type": "code",
      "source": [
        "gpu_info = !nvidia-smi\n",
        "gpu_info = '\\n'.join(gpu_info)\n",
        "if gpu_info.find('failed') >= 0:\n",
        "  print('Not connected to a GPU')\n",
        "else:\n",
        "  print(gpu_info)"
      ],
      "metadata": {
        "colab": {
          "base_uri": "https://localhost:8080/"
        },
        "id": "EQFitCcGSNWA",
        "outputId": "a24546dd-fa02-4a5a-87d1-afd68c993200"
      },
      "execution_count": 6,
      "outputs": [
        {
          "output_type": "stream",
          "name": "stdout",
          "text": [
            "Thu May 19 14:10:09 2022       \n",
            "+-----------------------------------------------------------------------------+\n",
            "| NVIDIA-SMI 460.32.03    Driver Version: 460.32.03    CUDA Version: 11.2     |\n",
            "|-------------------------------+----------------------+----------------------+\n",
            "| GPU  Name        Persistence-M| Bus-Id        Disp.A | Volatile Uncorr. ECC |\n",
            "| Fan  Temp  Perf  Pwr:Usage/Cap|         Memory-Usage | GPU-Util  Compute M. |\n",
            "|                               |                      |               MIG M. |\n",
            "|===============================+======================+======================|\n",
            "|   0  Tesla T4            Off  | 00000000:00:04.0 Off |                    0 |\n",
            "| N/A   40C    P8     9W /  70W |      0MiB / 15109MiB |      0%      Default |\n",
            "|                               |                      |                  N/A |\n",
            "+-------------------------------+----------------------+----------------------+\n",
            "                                                                               \n",
            "+-----------------------------------------------------------------------------+\n",
            "| Processes:                                                                  |\n",
            "|  GPU   GI   CI        PID   Type   Process name                  GPU Memory |\n",
            "|        ID   ID                                                   Usage      |\n",
            "|=============================================================================|\n",
            "|  No running processes found                                                 |\n",
            "+-----------------------------------------------------------------------------+\n"
          ]
        }
      ]
    },
    {
      "cell_type": "code",
      "source": [
        "# !pip uninstall -q parlai\n",
        "!pip install -q parlai\n",
        "!pip install transformers"
      ],
      "metadata": {
        "colab": {
          "base_uri": "https://localhost:8080/"
        },
        "id": "Hj0oWzQLkirw",
        "outputId": "5a9b0a47-30bc-4617-e319-5f7cc6b3ad4e"
      },
      "execution_count": 7,
      "outputs": [
        {
          "output_type": "stream",
          "name": "stdout",
          "text": [
            "Requirement already satisfied: transformers in /usr/local/lib/python3.7/dist-packages (4.19.2)\n",
            "Requirement already satisfied: packaging>=20.0 in /usr/local/lib/python3.7/dist-packages (from transformers) (21.3)\n",
            "Requirement already satisfied: numpy>=1.17 in /usr/local/lib/python3.7/dist-packages (from transformers) (1.21.0)\n",
            "Requirement already satisfied: regex!=2019.12.17 in /usr/local/lib/python3.7/dist-packages (from transformers) (2022.4.24)\n",
            "Requirement already satisfied: importlib-metadata in /usr/local/lib/python3.7/dist-packages (from transformers) (4.2.0)\n",
            "Requirement already satisfied: filelock in /usr/local/lib/python3.7/dist-packages (from transformers) (3.7.0)\n",
            "Requirement already satisfied: requests in /usr/local/lib/python3.7/dist-packages (from transformers) (2.27.1)\n",
            "Requirement already satisfied: tqdm>=4.27 in /usr/local/lib/python3.7/dist-packages (from transformers) (4.62.3)\n",
            "Requirement already satisfied: tokenizers!=0.11.3,<0.13,>=0.11.1 in /usr/local/lib/python3.7/dist-packages (from transformers) (0.12.1)\n",
            "Requirement already satisfied: pyyaml>=5.1 in /usr/local/lib/python3.7/dist-packages (from transformers) (6.0)\n",
            "Requirement already satisfied: huggingface-hub<1.0,>=0.1.0 in /usr/local/lib/python3.7/dist-packages (from transformers) (0.6.0)\n",
            "Requirement already satisfied: typing-extensions>=3.7.4.3 in /usr/local/lib/python3.7/dist-packages (from huggingface-hub<1.0,>=0.1.0->transformers) (4.2.0)\n",
            "Requirement already satisfied: pyparsing!=3.0.5,>=2.0.2 in /usr/local/lib/python3.7/dist-packages (from packaging>=20.0->transformers) (3.0.9)\n",
            "Requirement already satisfied: zipp>=0.5 in /usr/local/lib/python3.7/dist-packages (from importlib-metadata->transformers) (3.8.0)\n",
            "Requirement already satisfied: idna<4,>=2.5 in /usr/local/lib/python3.7/dist-packages (from requests->transformers) (2.10)\n",
            "Requirement already satisfied: certifi>=2017.4.17 in /usr/local/lib/python3.7/dist-packages (from requests->transformers) (2021.10.8)\n",
            "Requirement already satisfied: charset-normalizer~=2.0.0 in /usr/local/lib/python3.7/dist-packages (from requests->transformers) (2.0.12)\n",
            "Requirement already satisfied: urllib3<1.27,>=1.21.1 in /usr/local/lib/python3.7/dist-packages (from requests->transformers) (1.26.9)\n"
          ]
        }
      ]
    },
    {
      "cell_type": "code",
      "source": [
        "def colored(r, g, b, text):\n",
        "    return \"\\033[38;2;{};{};{}m{} \\033[38;2;255;255;255m\".format(r, g, b, text)\n"
      ],
      "metadata": {
        "id": "ByyQxtHou4fH"
      },
      "execution_count": 8,
      "outputs": []
    },
    {
      "cell_type": "markdown",
      "source": [
        "# Grid Search"
      ],
      "metadata": {
        "id": "-DT--DrHncWi"
      }
    },
    {
      "cell_type": "code",
      "source": [
        "model_path = \"/content/drive/MyDrive/colabs/blender-models/finetuned-multitask-400m/\"\n",
        "from sklearn.model_selection import ParameterGrid\n",
        "\n",
        "grid = [\n",
        "    {\n",
        "        'task': ['french_blended_skill_talk'], \n",
        "        'model_file': [f'{model_path}model'],\n",
        "        'datatype': ['valid'],\n",
        "        'num_examples' : [20],\n",
        "        'skip_generation': [False],\n",
        "        'report_filename' : ['report.json'],\n",
        "        'world_logs' : ['world-log.json'],\n",
        "        'display_examples' : [True],\n",
        "\n",
        "        'beam_context_block_ngram': [2,3],\n",
        "        'beam_block_ngram': [2,3],\n",
        "        'beam_min_length': [10, 20, 30],\n",
        "        'beam_size': [10, 20],\n",
        "        'beam_length_penalty': [0.7, 0.8, 1],\n",
        "        'topp': [0.3, 0.9],\n",
        "     \n",
        "        'inference': ['beam', 'greedy'],\n",
        "        'temperature': [0.5, 0.8],\n",
        "    },\n",
        "    # {\n",
        "    #     'task': ['french_blended_skill_talk'], \n",
        "    #     'model_file': [f'{model_path}model'],\n",
        "    #     'datatype': ['valid'],\n",
        "    #     'num_examples' : [2],\n",
        "    #     'skip_generation': [False],\n",
        "    #     'world_logs' : ['world-log.json'],\n",
        "    #     'display_examples' : [True],\n",
        "\n",
        "    #     'beam_context_block_ngram': [2,3],\n",
        "    #     'beam_block_ngram': [2,3],\n",
        "    #     'beam_min_length': [10, 20, 30],\n",
        "    #     'beam_size': [10, 20],\n",
        "    #     'beam_length_penalty': [0.7, 0.8, 1],\n",
        "    #     'topp': [0.3, 0.9],\n",
        "     \n",
        "    #     'inference': ['topk'],   \n",
        "    #     'temperature': [0.5, 0.8],\n",
        "    #     'topk': [10,20, 30]\n",
        "    # }\n",
        "]\n",
        "combinations = list( ParameterGrid(grid))\n",
        "print(len(combinations))\n",
        "\n",
        "\n",
        "from parlai.scripts.display_model import DisplayModel\n",
        "from parlai.scripts.eval_model import EvalModel\n",
        "import json\n",
        "import time\n",
        "\n",
        "# output_path = \"/content/drive/MyDrive/colabs/blender-models/output-of-gridsearch-topk-on-multitask-400m/\"\n",
        "output_path = \"/content/drive/MyDrive/colabs/blender-models/output-of-gridsearch-beam+greedy-on-multitask-400m/\"\n",
        "for index, param in enumerate(combinations):\n",
        "    start_time = time.time()\n",
        "\n",
        "    if index >= 0 :\n",
        "        param['world_logs']= f'{output_path}world-log-{index}'\n",
        "        result = EvalModel.main(**param)\n",
        "        \n",
        "        with open(f'{output_path}world-log-{index}.jsonl', 'a') as f:\n",
        "            f.write( \"\\n\" + json.dumps(param) )\n",
        "\n",
        "        print(index, round(time.time() - start_time, 2), \"\\n\")"
      ],
      "metadata": {
        "id": "vNvohT7mnfk5",
        "colab": {
          "base_uri": "https://localhost:8080/",
          "height": 1000
        },
        "outputId": "a681f881-35bf-4598-bef1-8e84980f824d"
      },
      "execution_count": 11,
      "outputs": [
        {
          "output_type": "stream",
          "name": "stdout",
          "text": [
            "576\n",
            "14:11:39 | \u001b[33mOverriding opt[\"datatype\"] to valid (previously: train)\u001b[0m\n",
            "14:11:39 | \u001b[33mOverriding opt[\"beam_block_ngram\"] to 2 (previously: -1)\u001b[0m\n",
            "14:11:39 | \u001b[33mOverriding opt[\"beam_context_block_ngram\"] to 2 (previously: -1)\u001b[0m\n",
            "14:11:39 | \u001b[33mOverriding opt[\"beam_length_penalty\"] to 0.7 (previously: 0.65)\u001b[0m\n",
            "14:11:39 | \u001b[33mOverriding opt[\"beam_min_length\"] to 10 (previously: 1)\u001b[0m\n",
            "14:11:39 | \u001b[33mOverriding opt[\"beam_size\"] to 10 (previously: 1)\u001b[0m\n",
            "14:11:39 | \u001b[33mOverriding opt[\"display_examples\"] to True (previously: False)\u001b[0m\n",
            "14:11:39 | \u001b[33mOverriding opt[\"inference\"] to beam (previously: greedy)\u001b[0m\n",
            "14:11:39 | \u001b[33mOverriding opt[\"skip_generation\"] to False (previously: True)\u001b[0m\n",
            "14:11:39 | \u001b[33mOverriding opt[\"task\"] to french_blended_skill_talk (previously: french_blended_skill_talk,french_xpersona,french_empathetic_dialogues)\u001b[0m\n",
            "14:11:39 | \u001b[33mOverriding opt[\"temperature\"] to 0.5 (previously: 1.0)\u001b[0m\n",
            "14:11:39 | \u001b[33mOverriding opt[\"world_logs\"] to world-log-1 (previously: )\u001b[0m\n",
            "14:11:39 | Using CUDA\n",
            "14:11:39 | loading dictionary from /content/drive/MyDrive/colabs/blender-models/finetuned-multitask-400m/model.dict\n",
            "14:11:40 | num words = 8008\n",
            "14:11:58 | Total parameters: 364,802,560 (364,474,880 trainable)\n",
            "14:11:58 | Loading existing model params from /content/drive/MyDrive/colabs/blender-models/finetuned-multitask-400m/model\n",
            "14:12:58 | Opt:\n",
            "14:12:58 |     activation: gelu\n",
            "14:12:58 |     adafactor_eps: '[1e-30, 0.001]'\n",
            "14:12:58 |     adam_eps: 1e-08\n",
            "14:12:58 |     add_p1_after_newln: False\n",
            "14:12:58 |     aggregate_micro: False\n",
            "14:12:58 |     allow_missing_init_opts: False\n",
            "14:12:58 |     area_under_curve_class: None\n",
            "14:12:58 |     area_under_curve_digits: -1\n",
            "14:12:58 |     attention_dropout: 0.0\n",
            "14:12:58 |     batchsize: 32\n",
            "14:12:58 |     beam_block_full_context: True\n",
            "14:12:58 |     beam_block_list_filename: None\n",
            "14:12:58 |     beam_block_ngram: 2\n",
            "14:12:58 |     beam_context_block_ngram: 2\n",
            "14:12:58 |     beam_delay: 30\n",
            "14:12:58 |     beam_length_penalty: 0.7\n",
            "14:12:58 |     beam_min_length: 10\n",
            "14:12:58 |     beam_size: 10\n",
            "14:12:58 |     betas: '[0.9, 0.999]'\n",
            "14:12:58 |     bpe_add_prefix_space: None\n",
            "14:12:58 |     bpe_debug: False\n",
            "14:12:58 |     bpe_dropout: None\n",
            "14:12:58 |     bpe_merge: /content/drive/MyDrive/colabs/blender-models/finetuned-multitask-400m/model.dict-merges.txt\n",
            "14:12:58 |     bpe_vocab: /content/drive/MyDrive/colabs/blender-models/finetuned-multitask-400m/model.dict-vocab.json\n",
            "14:12:58 |     checkpoint_activations: False\n",
            "14:12:58 |     compute_tokenized_bleu: False\n",
            "14:12:58 |     datapath: /usr/local/lib/python3.7/dist-packages/data\n",
            "14:12:58 |     datatype: valid\n",
            "14:12:58 |     delimiter: '  '\n",
            "14:12:58 |     dict_class: parlai.core.dict:DictionaryAgent\n",
            "14:12:58 |     dict_endtoken: __end__\n",
            "14:12:58 |     dict_file: /content/drive/MyDrive/colabs/blender-models/finetuned-multitask-400m/model.dict\n",
            "14:12:58 |     dict_include_test: False\n",
            "14:12:58 |     dict_include_valid: False\n",
            "14:12:58 |     dict_initpath: None\n",
            "14:12:58 |     dict_language: english\n",
            "14:12:58 |     dict_loaded: True\n",
            "14:12:58 |     dict_lower: False\n",
            "14:12:58 |     dict_max_ngram_size: -1\n",
            "14:12:58 |     dict_maxexs: -1\n",
            "14:12:58 |     dict_maxtokens: -1\n",
            "14:12:58 |     dict_minfreq: 0\n",
            "14:12:58 |     dict_nulltoken: __null__\n",
            "14:12:58 |     dict_starttoken: __start__\n",
            "14:12:58 |     dict_textfields: text,labels\n",
            "14:12:58 |     dict_tokenizer: bytelevelbpe\n",
            "14:12:58 |     dict_unktoken: __unk__\n",
            "14:12:58 |     display_examples: True\n",
            "14:12:58 |     download_path: None\n",
            "14:12:58 |     dropout: 0.1\n",
            "14:12:58 |     dynamic_batching: None\n",
            "14:12:58 |     embedding_projection: random\n",
            "14:12:58 |     embedding_size: 1280\n",
            "14:12:58 |     embedding_type: random\n",
            "14:12:58 |     embeddings_scale: True\n",
            "14:12:58 |     eval_batchsize: None\n",
            "14:12:58 |     eval_dynamic_batching: None\n",
            "14:12:58 |     evaltask: None\n",
            "14:12:58 |     ffn_size: 5120\n",
            "14:12:58 |     final_extra_opt: \n",
            "14:12:58 |     force_fp16_tokens: True\n",
            "14:12:58 |     fp16: True\n",
            "14:12:58 |     fp16_impl: mem_efficient\n",
            "14:12:58 |     gpu: -1\n",
            "14:12:58 |     gradient_clip: 0.1\n",
            "14:12:58 |     hide_labels: False\n",
            "14:12:58 |     history_add_global_end_token: end\n",
            "14:12:58 |     history_reversed: False\n",
            "14:12:58 |     history_size: -1\n",
            "14:12:58 |     image_cropsize: 224\n",
            "14:12:58 |     image_mode: raw\n",
            "14:12:58 |     image_size: 256\n",
            "14:12:58 |     inference: beam\n",
            "14:12:58 |     init_model: /usr/local/lib/python3.7/dist-packages/data/models/blender/blender_400Mdistill/model\n",
            "14:12:58 |     init_opt: None\n",
            "14:12:58 |     interactive_mode: False\n",
            "14:12:58 |     invsqrt_lr_decay_gamma: -1\n",
            "14:12:58 |     is_debug: False\n",
            "14:12:58 |     label_truncate: 128\n",
            "14:12:58 |     learn_positional_embeddings: False\n",
            "14:12:58 |     learningrate: 7e-06\n",
            "14:12:58 |     log_every_n_secs: 10.0\n",
            "14:12:58 |     log_every_n_steps: 50\n",
            "14:12:58 |     log_keep_fields: all\n",
            "14:12:58 |     loglevel: info\n",
            "14:12:58 |     lr_scheduler: reduceonplateau\n",
            "14:12:58 |     lr_scheduler_decay: 0.5\n",
            "14:12:58 |     lr_scheduler_patience: 3\n",
            "14:12:58 |     max_train_steps: -1\n",
            "14:12:58 |     max_train_time: -1\n",
            "14:12:58 |     metrics: default\n",
            "14:12:58 |     model: transformer/generator\n",
            "14:12:58 |     model_file: /content/drive/MyDrive/colabs/blender-models/finetuned-multitask-400m/model\n",
            "14:12:58 |     model_parallel: False\n",
            "14:12:58 |     momentum: 0\n",
            "14:12:58 |     multitask_weights: '[1.0, 3.0, 3.0]'\n",
            "14:12:58 |     mutators: None\n",
            "14:12:58 |     n_decoder_layers: 12\n",
            "14:12:58 |     n_encoder_layers: 2\n",
            "14:12:58 |     n_heads: 32\n",
            "14:12:58 |     n_layers: 2\n",
            "14:12:58 |     n_positions: 128\n",
            "14:12:58 |     n_segments: 0\n",
            "14:12:58 |     nesterov: True\n",
            "14:12:58 |     no_cuda: False\n",
            "14:12:58 |     num_epochs: 5.0\n",
            "14:12:58 |     num_examples: 20\n",
            "14:12:58 |     num_workers: 0\n",
            "14:12:58 |     nus: [0.7]\n",
            "14:12:58 |     optimizer: mem_eff_adam\n",
            "14:12:58 |     output_scaling: 1.0\n",
            "14:12:58 |     override: \"{'datatype': 'valid', 'beam_block_ngram': 2, 'beam_context_block_ngram': 2, 'beam_length_penalty': 0.7, 'beam_min_length': 10, 'beam_size': 10, 'display_examples': True, 'inference': 'beam', 'model_file': '/content/drive/MyDrive/colabs/blender-models/finetuned-multitask-400m/model', 'num_examples': 20, 'report_filename': 'report.json', 'skip_generation': False, 'task': 'french_blended_skill_talk', 'temperature': 0.5, 'topp': 0.9, 'world_logs': 'world-log-1'}\"\n",
            "14:12:58 |     parlai_home: /usr/local/lib/python3.7/dist-packages\n",
            "14:12:58 |     person_tokens: False\n",
            "14:12:58 |     rank_candidates: False\n",
            "14:12:58 |     relu_dropout: 0.0\n",
            "14:12:58 |     report_filename: report.json\n",
            "14:12:58 |     save_after_valid: False\n",
            "14:12:58 |     save_every_n_secs: -1\n",
            "14:12:58 |     save_format: conversations\n",
            "14:12:58 |     share_word_embeddings: True\n",
            "14:12:58 |     short_final_eval: False\n",
            "14:12:58 |     skip_generation: False\n",
            "14:12:58 |     special_tok_lst: None\n",
            "14:12:58 |     split_lines: False\n",
            "14:12:58 |     starttime: Apr27_08-14\n",
            "14:12:58 |     task: french_blended_skill_talk\n",
            "14:12:58 |     temperature: 0.5\n",
            "14:12:58 |     tensorboard_log: False\n",
            "14:12:58 |     tensorboard_logdir: None\n",
            "14:12:58 |     text_truncate: 128\n",
            "14:12:58 |     topk: 10\n",
            "14:12:58 |     topp: 0.9\n",
            "14:12:58 |     truncate: 128\n",
            "14:12:58 |     update_freq: 2\n",
            "14:12:58 |     use_reply: label\n",
            "14:12:58 |     validation_cutoff: 1.0\n",
            "14:12:58 |     validation_every_n_epochs: 0.25\n",
            "14:12:58 |     validation_every_n_secs: -1\n",
            "14:12:58 |     validation_every_n_steps: -1\n",
            "14:12:58 |     validation_max_exs: -1\n",
            "14:12:58 |     validation_metric: ppl\n",
            "14:12:58 |     validation_metric_mode: min\n",
            "14:12:58 |     validation_patience: 10\n",
            "14:12:58 |     validation_share_agent: False\n",
            "14:12:58 |     variant: prelayernorm\n",
            "14:12:58 |     verbose: False\n",
            "14:12:58 |     wandb_entity: None\n",
            "14:12:58 |     wandb_log: False\n",
            "14:12:58 |     wandb_name: None\n",
            "14:12:58 |     wandb_project: None\n",
            "14:12:58 |     warmup_rate: 0.0001\n",
            "14:12:58 |     warmup_updates: 100\n",
            "14:12:58 |     weight_decay: None\n",
            "14:12:58 |     world_logs: world-log-1\n",
            "14:12:59 | Evaluating task french_blended_skill_talk using datatype valid.\n",
            "14:12:59 | creating task(s): french_blended_skill_talk\n",
            "14:12:59 | Loading ParlAI text data: /content/dataset_french_bst/valid.txt\n"
          ]
        },
        {
          "output_type": "stream",
          "name": "stderr",
          "text": [
            "/usr/local/lib/python3.7/dist-packages/parlai/core/torch_generator_agent.py:1728: UserWarning: __floordiv__ is deprecated, and its behavior will change in a future version of pytorch. It currently rounds toward 0 (like the 'trunc' function NOT 'floor'). This results in incorrect rounding for negative values. To keep the current behavior, use torch.div(a, b, rounding_mode='trunc'), or for actual floor division, use torch.div(a, b, rounding_mode='floor').\n",
            "  hyp_ids = best_idxs // voc_size\n"
          ]
        },
        {
          "output_type": "stream",
          "name": "stdout",
          "text": [
            "\u001b[0;34m[french_blended_skill_talk]:\u001b[0;0m \u001b[1mCela semble dangereux. Cela vaut-il la peine de faire un travail aussi dangereux ?\u001b[0;0m\n",
            "\u001b[0;34m[eval_labels]:\u001b[0;0m \u001b[1;94mWekk, c'est bon si vous êtes bien formé.  Il y a trois niveaux \u001b[0;0m\n",
            "   \u001b[0;34m[TransformerGenerator]:\u001b[0;0m \u001b[1;94mJe suis désolé d'entendre ça.\u001b[0;0m\n",
            "~~\n",
            "\u001b[0;34m[french_blended_skill_talk]:\u001b[0;0m \u001b[1mA quel niveau êtes-vous ?\u001b[0;0m\n",
            "\u001b[0;34m[eval_labels]:\u001b[0;0m \u001b[1;94mJ'ai reçu une formation sur le tas lorsque j'ai commencé à travailler.\u001b[0;0m\n",
            "   \u001b[0;34m[TransformerGenerator]:\u001b[0;0m \u001b[1;94mJe suis désolé d'entendre ça.\u001b[0;0m\n",
            "~~\n",
            "\u001b[0;34m[french_blended_skill_talk]:\u001b[0;0m \u001b[1mC'est génial ! Depuis combien de temps faites-vous ce travail ? \u001b[0;0m\n",
            "\u001b[0;34m[eval_labels]:\u001b[0;0m \u001b[1;94mDepuis un bon nombre d'années maintenant.\u001b[0;0m\n",
            "   \u001b[0;34m[TransformerGenerator]:\u001b[0;0m \u001b[1;94mJe suis désolé d'entendre ça.\u001b[0;0m\n",
            "~~\n",
            "\u001b[0;34m[french_blended_skill_talk]:\u001b[0;0m \u001b[1mOn dirait que ça peut être un travail dangereux parfois.\u001b[0;0m\n",
            "\u001b[0;34m[eval_labels]:\u001b[0;0m \u001b[1;94mC'est vrai, surtout si vous ne prenez pas les mesures appropriées.\u001b[0;0m\n",
            "   \u001b[0;34m[TransformerGenerator]:\u001b[0;0m \u001b[1;94mÇa a l'air délicieux !\u001b[0;0m\n",
            "~~\n",
            "\u001b[0;34m[french_blended_skill_talk]:\u001b[0;0m \u001b[1mEh bien, vous êtes entré dans un métier qui vous garantira toujours du travail.\u001b[0;0m\n",
            "\u001b[0;34m[eval_labels]:\u001b[0;0m \u001b[1;94mC'est vrai, surtout dans cette économie\u001b[0;0m\n",
            "   \u001b[0;34m[TransformerGenerator]:\u001b[0;0m \u001b[1;94mJe suis sûr que tu as désolé ?\u001b[0;0m\n",
            "~~\n",
            "\u001b[0;34m[french_blended_skill_talk]:\u001b[0;0m \u001b[1mJ'ai moi-même un emploi assez stable, mais surtout du travail de bureau.\u001b[0;0m\n",
            "\u001b[0;34m[eval_labels]:\u001b[0;0m \u001b[1;94mEst-ce que ça vous plaît ?\u001b[0;0m\n",
            "   \u001b[0;34m[TransformerGenerator]:\u001b[0;0m \u001b[1;94mÇa a l'air désolé !\u001b[0;0m\n",
            "~~\n",
            "\u001b[0;34m[french_blended_skill_talk]:\u001b[0;0m \u001b[1mJe le fais vraiment, mais parfois j'aimerais être plus actif et debout.\u001b[0;0m\n",
            "\u001b[0;34m[eval_labels]:\u001b[0;0m \u001b[1;94mJe vous comprends. S'étirer le long des couloirs\u001b[0;0m\n",
            "   \u001b[0;34m[TransformerGenerator]:\u001b[0;0m \u001b[1;94mÇa a l'air amusant !\u001b[0;0m\n",
            "\u001b[1;31m- - - - - - - END OF EPISODE - - - - - - - - - -\u001b[0;0m\n",
            "~~\n",
            "\u001b[0;34m[french_blended_skill_talk]:\u001b[0;0m \u001b[1mWekk, c'est bon si vous êtes bien formé.  Il y a trois niveaux \u001b[0;0m\n",
            "\u001b[0;34m[eval_labels]:\u001b[0;0m \u001b[1;94mA quel niveau êtes-vous ?\u001b[0;0m\n",
            "   \u001b[0;34m[TransformerGenerator]:\u001b[0;0m \u001b[1;94mJe suis désolé d'entendre ça.\u001b[0;0m\n",
            "~~\n",
            "14:13:09 | 40.0% complete (8 / 20), 0:00:10 elapsed, 0:00:15 eta\n",
            "    accuracy    bleu-4  clen  ctpb  ctps  ctrunc  ctrunclen  exps  exs     f1  gen_n_toks  gpu_mem  llen  loss  ltpb  ltps  \\\n",
            "           0 5.855e-11 181.4 99.38 77.53   .6250         82 .7801    8 .04423       17.25   .06623 23.12 2.529 23.12 18.04   \n",
            "    ltrunc  ltrunclen   ppl  token_acc  token_em   tpb   tps  \n",
            "         0          0 12.54      .4649         0 122.5 95.57\n"
          ]
        },
        {
          "output_type": "stream",
          "name": "stderr",
          "text": [
            "/usr/local/lib/python3.7/dist-packages/parlai/core/torch_generator_agent.py:1728: UserWarning: __floordiv__ is deprecated, and its behavior will change in a future version of pytorch. It currently rounds toward 0 (like the 'trunc' function NOT 'floor'). This results in incorrect rounding for negative values. To keep the current behavior, use torch.div(a, b, rounding_mode='trunc'), or for actual floor division, use torch.div(a, b, rounding_mode='floor').\n",
            "  hyp_ids = best_idxs // voc_size\n"
          ]
        },
        {
          "output_type": "stream",
          "name": "stdout",
          "text": [
            "\u001b[0;34m[french_blended_skill_talk]:\u001b[0;0m \u001b[1mJ'ai reçu une formation sur le tas lorsque j'ai commencé à travailler.\u001b[0;0m\n",
            "\u001b[0;34m[eval_labels]:\u001b[0;0m \u001b[1;94mC'est génial ! Depuis combien de temps faites-vous ce travail ? \u001b[0;0m\n",
            "   \u001b[0;34m[TransformerGenerator]:\u001b[0;0m \u001b[1;94mJe suis désolé d'entendre ça !\u001b[0;0m\n",
            "~~\n",
            "\u001b[0;34m[french_blended_skill_talk]:\u001b[0;0m \u001b[1mDepuis un bon nombre d'années maintenant.\u001b[0;0m\n",
            "\u001b[0;34m[eval_labels]:\u001b[0;0m \u001b[1;94mOn dirait que ça peut être un travail dangereux parfois.\u001b[0;0m\n",
            "   \u001b[0;34m[TransformerGenerator]:\u001b[0;0m \u001b[1;94mJe suis désolé ! \u001b[0;0m\n",
            "~~\n",
            "\u001b[0;34m[french_blended_skill_talk]:\u001b[0;0m \u001b[1mC'est vrai, surtout si vous ne prenez pas les mesures appropriées.\u001b[0;0m\n",
            "\u001b[0;34m[eval_labels]:\u001b[0;0m \u001b[1;94mEh bien, vous êtes entré dans un métier qui vous garantira toujours du travail.\u001b[0;0m\n",
            "   \u001b[0;34m[TransformerGenerator]:\u001b[0;0m \u001b[1;94mÇa a l'air amusant ! \u001b[0;0m\n",
            "~~\n",
            "\u001b[0;34m[french_blended_skill_talk]:\u001b[0;0m \u001b[1mC'est vrai, surtout dans cette économie\u001b[0;0m\n",
            "\u001b[0;34m[eval_labels]:\u001b[0;0m \u001b[1;94mJ'ai moi-même un emploi assez stable, mais surtout du travail de bureau.\u001b[0;0m\n",
            "   \u001b[0;34m[TransformerGenerator]:\u001b[0;0m \u001b[1;94mÇa a l'air délicieux.\u001b[0;0m\n",
            "~~\n",
            "\u001b[0;34m[french_blended_skill_talk]:\u001b[0;0m \u001b[1mEst-ce que ça vous plaît ?\u001b[0;0m\n",
            "\u001b[0;34m[eval_labels]:\u001b[0;0m \u001b[1;94mJe le fais vraiment, mais parfois j'aimerais être plus actif et debout.\u001b[0;0m\n",
            "   \u001b[0;34m[TransformerGenerator]:\u001b[0;0m \u001b[1;94mNon, je suis sûr que je vais aujourd'hui.\u001b[0;0m\n",
            "\u001b[1;31m- - - - - - - END OF EPISODE - - - - - - - - - -\u001b[0;0m\n",
            "~~\n",
            "\u001b[0;34m[french_blended_skill_talk]:\u001b[0;0m \u001b[1mJe me sens très bien dans ma relation avec mon partenaire. Mon partenaire apprécie mon opinion sur les choses.\u001b[0;0m\n",
            "\u001b[0;34m[eval_labels]:\u001b[0;0m \u001b[1;94mok, si doux\u001b[0;0m\n",
            "   \u001b[0;34m[TransformerGenerator]:\u001b[0;0m \u001b[1;94mJe suis désolé d'entendre ça. C'est génial !\u001b[0;0m\n",
            "~~\n",
            "\u001b[0;34m[french_blended_skill_talk]:\u001b[0;0m \u001b[1mEt vous, quelqu'un vers qui vous pouvez vous tourner ?\u001b[0;0m\n",
            "\u001b[0;34m[eval_labels]:\u001b[0;0m \u001b[1;94mBien sûr, j'ai des amis avec qui je suis toujours libre de partager.\u001b[0;0m\n",
            "   \u001b[0;34m[TransformerGenerator]:\u001b[0;0m \u001b[1;94mJe suis désolé d'entendre ça.\u001b[0;0m\n",
            "~~\n",
            "\u001b[0;34m[french_blended_skill_talk]:\u001b[0;0m \u001b[1mJ'aime faire du vélo tout terrain avec mes amis.\u001b[0;0m\n",
            "\u001b[0;34m[eval_labels]:\u001b[0;0m \u001b[1;94mJe n'ai jamais fait ça.  Je ne suis pas vraiment du genre à faire de l'activité physique, mais je serais prêt à essayer, j'imagine.\u001b[0;0m\n",
            "   \u001b[0;34m[TransformerGenerator]:\u001b[0;0m \u001b[1;94mÇa a l'air d'être une bonne journée !\u001b[0;0m\n",
            "~~\n",
            "\u001b[0;34m[french_blended_skill_talk]:\u001b[0;0m \u001b[1mJ'aime aussi aller prendre un thé à bulles, c'est tellement amusant.\u001b[0;0m\n",
            "\u001b[0;34m[eval_labels]:\u001b[0;0m \u001b[1;94mÇa, c'est plus mon truc. Ça a un goût un peu étrange, mais j'aime ça.\u001b[0;0m\n",
            "   \u001b[0;34m[TransformerGenerator]:\u001b[0;0m \u001b[1;94mOui, je pense que tu vas t'as-tu ?\u001b[0;0m\n",
            "~~\n",
            "14:13:20 | 85.0% complete (17 / 20), 0:00:21 elapsed, 0:00:04 eta\n",
            "    accuracy    bleu-4  clen  ctpb  ctps  ctrunc  ctrunclen  exps  exs     f1  gen_n_toks  gpu_mem  llen  loss  ltpb  ltps  \\\n",
            "           0 4.267e-09 168.1 103.2  82.9   .5882      64.88 .8030   17 .04465       18.59   .06533 28.47 2.234 28.47 22.86   \n",
            "    ltrunc  ltrunclen   ppl  token_acc  token_em   tpb   tps  \n",
            "         0          0 9.341      .5331         0 131.7 105.8\n"
          ]
        },
        {
          "output_type": "stream",
          "name": "stderr",
          "text": [
            "/usr/local/lib/python3.7/dist-packages/parlai/core/torch_generator_agent.py:1728: UserWarning: __floordiv__ is deprecated, and its behavior will change in a future version of pytorch. It currently rounds toward 0 (like the 'trunc' function NOT 'floor'). This results in incorrect rounding for negative values. To keep the current behavior, use torch.div(a, b, rounding_mode='trunc'), or for actual floor division, use torch.div(a, b, rounding_mode='floor').\n",
            "  hyp_ids = best_idxs // voc_size\n"
          ]
        },
        {
          "output_type": "stream",
          "name": "stdout",
          "text": [
            "\u001b[0;34m[french_blended_skill_talk]:\u001b[0;0m \u001b[1mExactement, c'est bizarre mais je continue à en redemander. Tellement étrange.\u001b[0;0m\n",
            "\u001b[0;34m[eval_labels]:\u001b[0;0m \u001b[1;94mOui, c'est juste une de ces choses. Une fois que vous commencez, vous ne pouvez plus vous arrêter.\u001b[0;0m\n",
            "   \u001b[0;34m[TransformerGenerator]:\u001b[0;0m \u001b[1;94mOui, je pense que tu es as une bonne chose de la nourriture, il est difficile d'autres deux enfants, et toi ?\u001b[0;0m\n",
            "~~\n",
            "\u001b[0;34m[french_blended_skill_talk]:\u001b[0;0m \u001b[1mY a-t-il quelque chose que vous aimez vraiment faire ?\u001b[0;0m\n",
            "\u001b[0;34m[eval_labels]:\u001b[0;0m \u001b[1;94mJ'aime me détendre avec des amis, boire un petit verre, ce genre de choses.\u001b[0;0m\n",
            "   \u001b[0;34m[TransformerGenerator]:\u001b[0;0m \u001b[1;94mIl y a beaucoup de voitures.\u001b[0;0m\n",
            "~~\n",
            "\u001b[0;34m[french_blended_skill_talk]:\u001b[0;0m \u001b[1mÇa semble être une chose assez cool à faire, je suis assez décontracté aussi.\u001b[0;0m\n",
            "\u001b[0;34m[eval_labels]:\u001b[0;0m \u001b[1;94mYea. Je veux dire, le monde bouge si vite, parfois vous devez juste prendre du recul et laisser le passé s'accomplir.\u001b[0;0m\n",
            "   \u001b[0;34m[TransformerGenerator]:\u001b[0;0m \u001b[1;94mJe pense que tu vas t'es pourrais d'autre ?\u001b[0;0m\n",
            "\u001b[1;31m- - - - - - - END OF EPISODE - - - - - - - - - -\u001b[0;0m\n",
            "~~\n",
            "14:13:26 | Saving log to world-log-1 in Conversations format\n",
            "14:13:26 | Conversations saved to file: world-log-1.jsonl\n",
            "14:13:26 | Writing metadata to file world-log-1.metadata\n",
            "14:13:26 | \u001b[1mReport for french_blended_skill_talk:\n",
            "    accuracy    bleu-4  clen  ctpb  ctps  ctrunc  ctrunclen  exps  exs     f1  gen_n_toks  gpu_mem  llen  loss  ltpb  ltps  \\\n",
            "           0 3.634e-09 197.7   107 79.17   .6500      90.75 .7402   20 .05827        20.1   .06626 30.75 2.323 30.75 22.76   \n",
            "    ltrunc  ltrunclen  ppl  token_acc  token_em   tpb   tps  \n",
            "         0          0 10.2      .5203         0 137.7 101.9\u001b[0m\n",
            "14:13:26 | Finished evaluating tasks ['french_blended_skill_talk'] using datatype valid\n",
            "    accuracy    bleu-4  clen  ctpb  ctps  ctrunc  ctrunclen  exps  exs     f1  gen_n_toks  gpu_mem  llen  loss  ltpb  ltps  \\\n",
            "           0 3.634e-09 197.7   107 79.17   .6500      90.75 .7402   20 .05827        20.1   .06626 30.75 2.323 30.75 22.76   \n",
            "    ltrunc  ltrunclen  ppl  token_acc  token_em   tpb   tps  \n",
            "         0          0 10.2      .5203         0 137.7 101.9\n",
            "14:13:26 | Saving model report to report.json\n"
          ]
        },
        {
          "output_type": "error",
          "ename": "FileNotFoundError",
          "evalue": "ignored",
          "traceback": [
            "\u001b[0;31m---------------------------------------------------------------------------\u001b[0m",
            "\u001b[0;31mFileNotFoundError\u001b[0m                         Traceback (most recent call last)",
            "\u001b[0;32m<ipython-input-11-f47fda5409f7>\u001b[0m in \u001b[0;36m<module>\u001b[0;34m()\u001b[0m\n\u001b[1;32m     62\u001b[0m         \u001b[0mresult\u001b[0m \u001b[0;34m=\u001b[0m \u001b[0mEvalModel\u001b[0m\u001b[0;34m.\u001b[0m\u001b[0mmain\u001b[0m\u001b[0;34m(\u001b[0m\u001b[0;34m**\u001b[0m\u001b[0mparam\u001b[0m\u001b[0;34m)\u001b[0m\u001b[0;34m\u001b[0m\u001b[0;34m\u001b[0m\u001b[0m\n\u001b[1;32m     63\u001b[0m \u001b[0;34m\u001b[0m\u001b[0m\n\u001b[0;32m---> 64\u001b[0;31m         \u001b[0;32mwith\u001b[0m \u001b[0mopen\u001b[0m\u001b[0;34m(\u001b[0m\u001b[0;34mf'{output_path}world-log-{index}.jsonl'\u001b[0m\u001b[0;34m,\u001b[0m \u001b[0;34m'a'\u001b[0m\u001b[0;34m)\u001b[0m \u001b[0;32mas\u001b[0m \u001b[0mf\u001b[0m\u001b[0;34m:\u001b[0m\u001b[0;34m\u001b[0m\u001b[0;34m\u001b[0m\u001b[0m\n\u001b[0m\u001b[1;32m     65\u001b[0m             \u001b[0mf\u001b[0m\u001b[0;34m.\u001b[0m\u001b[0mwrite\u001b[0m\u001b[0;34m(\u001b[0m \u001b[0;34m\"\\n\"\u001b[0m \u001b[0;34m+\u001b[0m \u001b[0mjson\u001b[0m\u001b[0;34m.\u001b[0m\u001b[0mdumps\u001b[0m\u001b[0;34m(\u001b[0m\u001b[0mparam\u001b[0m\u001b[0;34m)\u001b[0m \u001b[0;34m)\u001b[0m\u001b[0;34m\u001b[0m\u001b[0;34m\u001b[0m\u001b[0m\n\u001b[1;32m     66\u001b[0m \u001b[0;34m\u001b[0m\u001b[0m\n",
            "\u001b[0;31mFileNotFoundError\u001b[0m: [Errno 2] No such file or directory: '/content/drive/MyDrive/colabs/blender-models/output-of-gridsearch-beam+greedy-on-multitask-400m/world-log-1.jsonl'"
          ]
        }
      ]
    },
    {
      "cell_type": "code",
      "source": [
        "import json\n",
        "dict_ppl_of_files = {}\n",
        "for i in range(0, 863,1):\n",
        "    output_file = f\"/content/drive/MyDrive/colabs/blender-models/output-of-gridsearch-topk-on-multitask-400m/world-log-{i}.jsonl\"\n",
        "    with open(output_file) as f:\n",
        "        lines = f.readlines();\n",
        "    list_ppl_of_dialogs = []\n",
        "    for line in lines:\n",
        "        if (line != \"\\n\"):\n",
        "            obj = json.loads(line)\n",
        "            if \"dialog\" in obj.keys():\n",
        "                # print(\"\\n\\nNew Dialog. Number of turns:\", len(obj['dialog']), \"|\", len(obj['dialog'][0]), \"\\n\")\n",
        "                ppl_of_dialog = sum([d[1]['metrics']['ppl'] for d in obj['dialog']]) / len(obj['dialog'])\n",
        "                list_ppl_of_dialogs.append(ppl_of_dialog)\n",
        "\n",
        "                print(list_ppl_of_dialogs)\n",
        "    ppl_of_file = sum(list_ppl_of_dialogs) / len(list_ppl_of_dialogs)\n",
        "    print(output_file, ppl_of_file)\n",
        "\n",
        "    dict_ppl_of_files[str(i)] = ppl_of_file\n",
        "    ppl_of_file = 0\n",
        "    if i>2 : break\n",
        "# print(dict_ppl_of_files)\n"
      ],
      "metadata": {
        "id": "zp5Qa77knjAj"
      },
      "execution_count": null,
      "outputs": []
    },
    {
      "cell_type": "markdown",
      "source": [
        "# Perplexity"
      ],
      "metadata": {
        "id": "pd8Lu7QQZ7y_"
      }
    },
    {
      "cell_type": "code",
      "source": [
        "!pip install transformers\n",
        "!pip install torch\n",
        "!pip install sacremoses"
      ],
      "metadata": {
        "id": "9vZAV7VW6DNG"
      },
      "execution_count": null,
      "outputs": []
    },
    {
      "cell_type": "code",
      "source": [
        "!pip install sentencepiece "
      ],
      "metadata": {
        "id": "r3EdGCHD0ij_",
        "colab": {
          "base_uri": "https://localhost:8080/"
        },
        "outputId": "6818e3cf-3137-4e79-e2f5-2c471530d7a7"
      },
      "execution_count": null,
      "outputs": [
        {
          "output_type": "stream",
          "name": "stdout",
          "text": [
            "Collecting sentencepiece\n",
            "  Downloading sentencepiece-0.1.96-cp37-cp37m-manylinux_2_17_x86_64.manylinux2014_x86_64.whl (1.2 MB)\n",
            "\u001b[?25l\r\u001b[K     |▎                               | 10 kB 34.5 MB/s eta 0:00:01\r\u001b[K     |▌                               | 20 kB 25.9 MB/s eta 0:00:01\r\u001b[K     |▉                               | 30 kB 11.8 MB/s eta 0:00:01\r\u001b[K     |█                               | 40 kB 9.9 MB/s eta 0:00:01\r\u001b[K     |█▍                              | 51 kB 6.3 MB/s eta 0:00:01\r\u001b[K     |█▋                              | 61 kB 7.4 MB/s eta 0:00:01\r\u001b[K     |██                              | 71 kB 7.1 MB/s eta 0:00:01\r\u001b[K     |██▏                             | 81 kB 5.8 MB/s eta 0:00:01\r\u001b[K     |██▍                             | 92 kB 6.4 MB/s eta 0:00:01\r\u001b[K     |██▊                             | 102 kB 7.0 MB/s eta 0:00:01\r\u001b[K     |███                             | 112 kB 7.0 MB/s eta 0:00:01\r\u001b[K     |███▎                            | 122 kB 7.0 MB/s eta 0:00:01\r\u001b[K     |███▌                            | 133 kB 7.0 MB/s eta 0:00:01\r\u001b[K     |███▉                            | 143 kB 7.0 MB/s eta 0:00:01\r\u001b[K     |████                            | 153 kB 7.0 MB/s eta 0:00:01\r\u001b[K     |████▎                           | 163 kB 7.0 MB/s eta 0:00:01\r\u001b[K     |████▋                           | 174 kB 7.0 MB/s eta 0:00:01\r\u001b[K     |████▉                           | 184 kB 7.0 MB/s eta 0:00:01\r\u001b[K     |█████▏                          | 194 kB 7.0 MB/s eta 0:00:01\r\u001b[K     |█████▍                          | 204 kB 7.0 MB/s eta 0:00:01\r\u001b[K     |█████▊                          | 215 kB 7.0 MB/s eta 0:00:01\r\u001b[K     |██████                          | 225 kB 7.0 MB/s eta 0:00:01\r\u001b[K     |██████▏                         | 235 kB 7.0 MB/s eta 0:00:01\r\u001b[K     |██████▌                         | 245 kB 7.0 MB/s eta 0:00:01\r\u001b[K     |██████▊                         | 256 kB 7.0 MB/s eta 0:00:01\r\u001b[K     |███████                         | 266 kB 7.0 MB/s eta 0:00:01\r\u001b[K     |███████▎                        | 276 kB 7.0 MB/s eta 0:00:01\r\u001b[K     |███████▋                        | 286 kB 7.0 MB/s eta 0:00:01\r\u001b[K     |███████▉                        | 296 kB 7.0 MB/s eta 0:00:01\r\u001b[K     |████████                        | 307 kB 7.0 MB/s eta 0:00:01\r\u001b[K     |████████▍                       | 317 kB 7.0 MB/s eta 0:00:01\r\u001b[K     |████████▋                       | 327 kB 7.0 MB/s eta 0:00:01\r\u001b[K     |█████████                       | 337 kB 7.0 MB/s eta 0:00:01\r\u001b[K     |█████████▏                      | 348 kB 7.0 MB/s eta 0:00:01\r\u001b[K     |█████████▌                      | 358 kB 7.0 MB/s eta 0:00:01\r\u001b[K     |█████████▊                      | 368 kB 7.0 MB/s eta 0:00:01\r\u001b[K     |██████████                      | 378 kB 7.0 MB/s eta 0:00:01\r\u001b[K     |██████████▎                     | 389 kB 7.0 MB/s eta 0:00:01\r\u001b[K     |██████████▌                     | 399 kB 7.0 MB/s eta 0:00:01\r\u001b[K     |██████████▉                     | 409 kB 7.0 MB/s eta 0:00:01\r\u001b[K     |███████████                     | 419 kB 7.0 MB/s eta 0:00:01\r\u001b[K     |███████████▍                    | 430 kB 7.0 MB/s eta 0:00:01\r\u001b[K     |███████████▋                    | 440 kB 7.0 MB/s eta 0:00:01\r\u001b[K     |███████████▉                    | 450 kB 7.0 MB/s eta 0:00:01\r\u001b[K     |████████████▏                   | 460 kB 7.0 MB/s eta 0:00:01\r\u001b[K     |████████████▍                   | 471 kB 7.0 MB/s eta 0:00:01\r\u001b[K     |████████████▊                   | 481 kB 7.0 MB/s eta 0:00:01\r\u001b[K     |█████████████                   | 491 kB 7.0 MB/s eta 0:00:01\r\u001b[K     |█████████████▎                  | 501 kB 7.0 MB/s eta 0:00:01\r\u001b[K     |█████████████▌                  | 512 kB 7.0 MB/s eta 0:00:01\r\u001b[K     |█████████████▊                  | 522 kB 7.0 MB/s eta 0:00:01\r\u001b[K     |██████████████                  | 532 kB 7.0 MB/s eta 0:00:01\r\u001b[K     |██████████████▎                 | 542 kB 7.0 MB/s eta 0:00:01\r\u001b[K     |██████████████▋                 | 552 kB 7.0 MB/s eta 0:00:01\r\u001b[K     |██████████████▉                 | 563 kB 7.0 MB/s eta 0:00:01\r\u001b[K     |███████████████▏                | 573 kB 7.0 MB/s eta 0:00:01\r\u001b[K     |███████████████▍                | 583 kB 7.0 MB/s eta 0:00:01\r\u001b[K     |███████████████▋                | 593 kB 7.0 MB/s eta 0:00:01\r\u001b[K     |████████████████                | 604 kB 7.0 MB/s eta 0:00:01\r\u001b[K     |████████████████▏               | 614 kB 7.0 MB/s eta 0:00:01\r\u001b[K     |████████████████▌               | 624 kB 7.0 MB/s eta 0:00:01\r\u001b[K     |████████████████▊               | 634 kB 7.0 MB/s eta 0:00:01\r\u001b[K     |█████████████████               | 645 kB 7.0 MB/s eta 0:00:01\r\u001b[K     |█████████████████▎              | 655 kB 7.0 MB/s eta 0:00:01\r\u001b[K     |█████████████████▌              | 665 kB 7.0 MB/s eta 0:00:01\r\u001b[K     |█████████████████▉              | 675 kB 7.0 MB/s eta 0:00:01\r\u001b[K     |██████████████████              | 686 kB 7.0 MB/s eta 0:00:01\r\u001b[K     |██████████████████▍             | 696 kB 7.0 MB/s eta 0:00:01\r\u001b[K     |██████████████████▋             | 706 kB 7.0 MB/s eta 0:00:01\r\u001b[K     |███████████████████             | 716 kB 7.0 MB/s eta 0:00:01\r\u001b[K     |███████████████████▏            | 727 kB 7.0 MB/s eta 0:00:01\r\u001b[K     |███████████████████▍            | 737 kB 7.0 MB/s eta 0:00:01\r\u001b[K     |███████████████████▊            | 747 kB 7.0 MB/s eta 0:00:01\r\u001b[K     |████████████████████            | 757 kB 7.0 MB/s eta 0:00:01\r\u001b[K     |████████████████████▎           | 768 kB 7.0 MB/s eta 0:00:01\r\u001b[K     |████████████████████▌           | 778 kB 7.0 MB/s eta 0:00:01\r\u001b[K     |████████████████████▉           | 788 kB 7.0 MB/s eta 0:00:01\r\u001b[K     |█████████████████████           | 798 kB 7.0 MB/s eta 0:00:01\r\u001b[K     |█████████████████████▎          | 808 kB 7.0 MB/s eta 0:00:01\r\u001b[K     |█████████████████████▋          | 819 kB 7.0 MB/s eta 0:00:01\r\u001b[K     |█████████████████████▉          | 829 kB 7.0 MB/s eta 0:00:01\r\u001b[K     |██████████████████████▏         | 839 kB 7.0 MB/s eta 0:00:01\r\u001b[K     |██████████████████████▍         | 849 kB 7.0 MB/s eta 0:00:01\r\u001b[K     |██████████████████████▊         | 860 kB 7.0 MB/s eta 0:00:01\r\u001b[K     |███████████████████████         | 870 kB 7.0 MB/s eta 0:00:01\r\u001b[K     |███████████████████████▏        | 880 kB 7.0 MB/s eta 0:00:01\r\u001b[K     |███████████████████████▌        | 890 kB 7.0 MB/s eta 0:00:01\r\u001b[K     |███████████████████████▊        | 901 kB 7.0 MB/s eta 0:00:01\r\u001b[K     |████████████████████████        | 911 kB 7.0 MB/s eta 0:00:01\r\u001b[K     |████████████████████████▎       | 921 kB 7.0 MB/s eta 0:00:01\r\u001b[K     |████████████████████████▋       | 931 kB 7.0 MB/s eta 0:00:01\r\u001b[K     |████████████████████████▉       | 942 kB 7.0 MB/s eta 0:00:01\r\u001b[K     |█████████████████████████       | 952 kB 7.0 MB/s eta 0:00:01\r\u001b[K     |█████████████████████████▍      | 962 kB 7.0 MB/s eta 0:00:01\r\u001b[K     |█████████████████████████▋      | 972 kB 7.0 MB/s eta 0:00:01\r\u001b[K     |██████████████████████████      | 983 kB 7.0 MB/s eta 0:00:01\r\u001b[K     |██████████████████████████▏     | 993 kB 7.0 MB/s eta 0:00:01\r\u001b[K     |██████████████████████████▌     | 1.0 MB 7.0 MB/s eta 0:00:01\r\u001b[K     |██████████████████████████▊     | 1.0 MB 7.0 MB/s eta 0:00:01\r\u001b[K     |███████████████████████████     | 1.0 MB 7.0 MB/s eta 0:00:01\r\u001b[K     |███████████████████████████▎    | 1.0 MB 7.0 MB/s eta 0:00:01\r\u001b[K     |███████████████████████████▌    | 1.0 MB 7.0 MB/s eta 0:00:01\r\u001b[K     |███████████████████████████▉    | 1.1 MB 7.0 MB/s eta 0:00:01\r\u001b[K     |████████████████████████████    | 1.1 MB 7.0 MB/s eta 0:00:01\r\u001b[K     |████████████████████████████▍   | 1.1 MB 7.0 MB/s eta 0:00:01\r\u001b[K     |████████████████████████████▋   | 1.1 MB 7.0 MB/s eta 0:00:01\r\u001b[K     |████████████████████████████▉   | 1.1 MB 7.0 MB/s eta 0:00:01\r\u001b[K     |█████████████████████████████▏  | 1.1 MB 7.0 MB/s eta 0:00:01\r\u001b[K     |█████████████████████████████▍  | 1.1 MB 7.0 MB/s eta 0:00:01\r\u001b[K     |█████████████████████████████▊  | 1.1 MB 7.0 MB/s eta 0:00:01\r\u001b[K     |██████████████████████████████  | 1.1 MB 7.0 MB/s eta 0:00:01\r\u001b[K     |██████████████████████████████▎ | 1.1 MB 7.0 MB/s eta 0:00:01\r\u001b[K     |██████████████████████████████▌ | 1.2 MB 7.0 MB/s eta 0:00:01\r\u001b[K     |██████████████████████████████▊ | 1.2 MB 7.0 MB/s eta 0:00:01\r\u001b[K     |███████████████████████████████ | 1.2 MB 7.0 MB/s eta 0:00:01\r\u001b[K     |███████████████████████████████▎| 1.2 MB 7.0 MB/s eta 0:00:01\r\u001b[K     |███████████████████████████████▋| 1.2 MB 7.0 MB/s eta 0:00:01\r\u001b[K     |███████████████████████████████▉| 1.2 MB 7.0 MB/s eta 0:00:01\r\u001b[K     |████████████████████████████████| 1.2 MB 7.0 MB/s \n",
            "\u001b[?25hInstalling collected packages: sentencepiece\n",
            "Successfully installed sentencepiece-0.1.96\n"
          ]
        }
      ]
    },
    {
      "cell_type": "code",
      "source": [
        "from transformers import AutoModelForMaskedLM, AutoTokenizer\n",
        "import torch\n",
        "import numpy as np\n",
        "\n",
        "model_name = 'flaubert/flaubert_large_cased'\n",
        "\n",
        "model = AutoModelForMaskedLM.from_pretrained(model_name)\n",
        "tokenizer = AutoTokenizer.from_pretrained(model_name)\n",
        "\n",
        "def score(model, tokenizer, sentence):\n",
        "    tensor_input = tokenizer.encode(sentence, return_tensors='pt')\n",
        "    repeat_input = tensor_input.repeat(tensor_input.size(-1) - 2, 1)\n",
        "    mask = torch.ones(tensor_input.size(-1) - 1).diag(1)[:-2]\n",
        "    masked_input = repeat_input.masked_fill(mask == 1, tokenizer.mask_token_id)\n",
        "    labels = repeat_input.masked_fill( masked_input != tokenizer.mask_token_id, -100)\n",
        "    with torch.inference_mode():\n",
        "        loss = model(masked_input, labels=labels).loss\n",
        "    return np.exp(loss.item())\n",
        "\n",
        "print(score(sentence='le chat mange une pomme.', model=model, tokenizer=tokenizer)) \n",
        "print(score(sentence='le garçon mange une pomme.', model=model, tokenizer=tokenizer)) "
      ],
      "metadata": {
        "colab": {
          "base_uri": "https://localhost:8080/",
          "height": 212,
          "referenced_widgets": [
            "47caedcb1d4244afa642ad6039c0e3d1",
            "717b205817b0483d917d7e07cb9b2304",
            "9be798a252874d5e8a9ef05be7fa7468",
            "58b484320efa44c5b1a704e72cff9f39",
            "763622c1388241d3b7ad7c8263c195f8",
            "c648c630c1e34bc49d52de9a21756da1",
            "617a316527c942c681af4f65c75c9601",
            "57160da9ff9545c2bcf16044639b1cd4",
            "a7b941a3483541d5a39a68a294c398bc",
            "f58dc4d08b29401a9d4fbca33825d4b6",
            "d774ffb43e594a60b4fd3a8e2c499d98",
            "77b5fda4aa3c415f8771f2120e3fea41",
            "749f28baed8a4a2ea3a3a5c0fdf18a8a",
            "274fd4f55bc6419caf4900f7f8564e03",
            "ffb0537376124a2da0f2240d29487e84",
            "34db9ca4c12041e19087a35f2798e61a",
            "aa59166fffab427893068ec445606f8e",
            "dd8821837bf94f5fb925651ab920a2fc",
            "9c489728ed1e48a29b60cc405ba25249",
            "616759a5c865455fa385f03595a2adb5",
            "5ba6917bd1c64ef58d70b0dca2b9150a",
            "8e9b1940d2824e01b7d72f8728ec1c7d",
            "1c4469c6bea24242951accd0f84f2c9a",
            "2347d9ac4e894a04b5b56b7b121c606a",
            "3041b12c62784bf68151cb2915e8c529",
            "8b7442051ccb4bf79d3de1ba712307fa",
            "691f12b5264f4a4aa737dd97c400d940",
            "ebefdd21242d43528babf1ba5a3341cf",
            "765ae8ca111d4339bec7c8c1357a230e",
            "aa346a242345488d98501dd8b35fa79b",
            "239b4dedea1a46e09715098d9a7752d3",
            "4ac9ec2622f94cb4b63f96d4ecdbf831",
            "4f0d0a3939cb415a82c4ce85edbf70b6",
            "fdff04a5e4bb48ae8527978730df01b1",
            "eaa743d68c5e43ec988ced652bea4011",
            "8ddd8c5ee6bd49b6b1a29cc06fa3c134",
            "a0ddda224ad2467e9ce4ab000bcb1ceb",
            "32f138ae8d264a4682983bd216471228",
            "9ed69e9a71884e3594e27a6edcf39f1b",
            "f501b77a04dc4e36babb281ad5b6654c",
            "fac8e5b8006140ebb32b7fd419b35f74",
            "bc61c41fe8b14609bb3644c8e03eb560",
            "8ccb91060c4f49ae8c05fcf96e711e37",
            "70301070ac044a04a6c5c32b2bd0eb2a",
            "0df7773d1ef34f1998e8587e635dc773",
            "32298232d5ae4577afd40440c5310b21",
            "41b8a67c5af74565bb2d7dc135d71692",
            "22619c9b0b524f3294e972cc39af2833",
            "b3ba5eb61a65439da3520b886e32b508",
            "deb0f48b7a0d41e9a52f1fc32104610c",
            "3956f92f658c4c55a2794d1a9abc94f2",
            "cb0a27021a474588a0ce97f14079b8b5",
            "b0c3f2cc124d4f28bfe5aed7622b3efe",
            "50bb03b5bc28480381505e083804716e",
            "f9da7fa0a31d4081b3a9171d31dabe50"
          ]
        },
        "id": "bZxLWm-6CubB",
        "outputId": "98c529c0-f31b-4fdf-c369-1d7d5426dbf4"
      },
      "execution_count": null,
      "outputs": [
        {
          "output_type": "display_data",
          "data": {
            "text/plain": [
              "Downloading:   0%|          | 0.00/1.48k [00:00<?, ?B/s]"
            ],
            "application/vnd.jupyter.widget-view+json": {
              "version_major": 2,
              "version_minor": 0,
              "model_id": "47caedcb1d4244afa642ad6039c0e3d1"
            }
          },
          "metadata": {}
        },
        {
          "output_type": "display_data",
          "data": {
            "text/plain": [
              "Downloading:   0%|          | 0.00/1.39G [00:00<?, ?B/s]"
            ],
            "application/vnd.jupyter.widget-view+json": {
              "version_major": 2,
              "version_minor": 0,
              "model_id": "77b5fda4aa3c415f8771f2120e3fea41"
            }
          },
          "metadata": {}
        },
        {
          "output_type": "display_data",
          "data": {
            "text/plain": [
              "Downloading:   0%|          | 0.00/28.0 [00:00<?, ?B/s]"
            ],
            "application/vnd.jupyter.widget-view+json": {
              "version_major": 2,
              "version_minor": 0,
              "model_id": "1c4469c6bea24242951accd0f84f2c9a"
            }
          },
          "metadata": {}
        },
        {
          "output_type": "display_data",
          "data": {
            "text/plain": [
              "Downloading:   0%|          | 0.00/1.49M [00:00<?, ?B/s]"
            ],
            "application/vnd.jupyter.widget-view+json": {
              "version_major": 2,
              "version_minor": 0,
              "model_id": "fdff04a5e4bb48ae8527978730df01b1"
            }
          },
          "metadata": {}
        },
        {
          "output_type": "display_data",
          "data": {
            "text/plain": [
              "Downloading:   0%|          | 0.00/875k [00:00<?, ?B/s]"
            ],
            "application/vnd.jupyter.widget-view+json": {
              "version_major": 2,
              "version_minor": 0,
              "model_id": "0df7773d1ef34f1998e8587e635dc773"
            }
          },
          "metadata": {}
        },
        {
          "output_type": "stream",
          "name": "stdout",
          "text": [
            "25.598162479248977\n",
            "31.979964160350367\n"
          ]
        }
      ]
    },
    {
      "cell_type": "code",
      "source": [
        "import json\n",
        "dict_ppl_of_files = {}\n",
        "output_path = \"/content/drive/MyDrive/colabs/blender-models/output-files/\"\n",
        "with open(output_path + \"output-perplexity.txt\") as f:\n",
        "    text = f.read()\n",
        "    dict_ppl_of_files = json.loads(text)\n",
        "print(len(dict_ppl_of_files))"
      ],
      "metadata": {
        "colab": {
          "base_uri": "https://localhost:8080/"
        },
        "id": "Dek3qhADyYfD",
        "outputId": "c193ceb1-3134-4498-a417-9e1b44c778c1"
      },
      "execution_count": null,
      "outputs": [
        {
          "output_type": "stream",
          "name": "stdout",
          "text": [
            "863\n"
          ]
        }
      ]
    },
    {
      "cell_type": "code",
      "source": [
        "import pandas as pd\n",
        "import numpy as np\n",
        "df = pd.DataFrame.from_dict(dict_ppl_of_files, orient='index', columns=['d1_with', 'd1_wo', 'd2_with', 'd2_wo', \"d3_with\", \"d3_wo\"])\n",
        "# display(df.head())\n",
        "\n",
        "df['avg_with_outliers'] = df.apply(lambda x: np.mean( [float(x['d1_with']), float(x['d2_with']), float(x['d3_with'])] ), axis=1)\n",
        "df['avg_wo_outliers'] = df.apply(lambda x: np.mean( [float(x['d1_wo']), float(x['d2_wo']), float(x['d3_wo'])] ), axis=1)\n",
        "\n",
        "df_top20 = df.sort_values(by=['avg_wo_outliers']).head(20)\n",
        "display(df_top20)\n",
        "\n",
        "top20_filenames = df_top20.index.values.tolist()\n",
        "print(top20_filenames)"
      ],
      "metadata": {
        "id": "sO9Nn2cqRHeF"
      },
      "execution_count": null,
      "outputs": []
    },
    {
      "cell_type": "markdown",
      "source": [
        "There are 3 dialog in each file, this piece of code calculates perplexity for each dialog and saves it in a text file"
      ],
      "metadata": {
        "id": "qgDv3HC6lP2F"
      }
    },
    {
      "cell_type": "code",
      "source": [
        "def reject_outliers(data, m=2):\n",
        "    mean = np.mean(data)\n",
        "    std = np.std(data)\n",
        "    return [a for a in data if (abs(a - mean) < m * std)]"
      ],
      "metadata": {
        "id": "q6NKSBk-_8_M"
      },
      "execution_count": null,
      "outputs": []
    },
    {
      "cell_type": "code",
      "source": [
        "import json\n",
        "import time\n",
        "output_path = \"/content/drive/MyDrive/colabs/blender-models/output-files/\"\n",
        "\n",
        "for i in range(len(dict_ppl_of_files), 863,1):\n",
        "# for i in range(322, 323,1):\n",
        "    output_file = f\"world-log-{i}.jsonl\"\n",
        "    with open(output_path + output_file) as f:\n",
        "        lines = f.readlines()\n",
        "\n",
        "    for i, line in enumerate(lines):\n",
        "        list_ppl_of_dialogs = []\n",
        "        if (line != \"\\n\"):\n",
        "            obj = json.loads(line)\n",
        "            if \"dialog\" in obj.keys():\n",
        "                start_time = time.time()\n",
        "                for d in obj['dialog']:\n",
        "                    text, label, prediction  = d[0]['text'], d[0]['eval_labels'][0], d[1]['text']\n",
        "                    prediction_score = score(sentence= prediction, model= model, tokenizer= tokenizer)\n",
        "                    list_ppl_of_dialogs.append(prediction_score)\n",
        "                list_ppl_of_dialogs_without_outliers = reject_outliers(list_ppl_of_dialogs)\n",
        "\n",
        "                if not output_file in dict_ppl_of_files:\n",
        "                    dict_ppl_of_files[output_file] = [np.mean(list_ppl_of_dialogs)]\n",
        "                    dict_ppl_of_files[output_file].append(np.mean(list_ppl_of_dialogs_without_outliers))\n",
        "                else:\n",
        "                    dict_ppl_of_files[output_file].append(np.mean(list_ppl_of_dialogs))\n",
        "                    dict_ppl_of_files[output_file].append(np.mean(list_ppl_of_dialogs_without_outliers))\n",
        "\n",
        "                print(f\"{output_file}-{i}\", dict_ppl_of_files[output_file], i==2 and time.time() - start_time)\n",
        "\n",
        "\n"
      ],
      "metadata": {
        "id": "Kg_Fx3wJhzYf"
      },
      "execution_count": null,
      "outputs": []
    },
    {
      "cell_type": "code",
      "source": [
        "import json\n",
        "print(len(dict_ppl_of_files))\n",
        "for key, value in dict_ppl_of_files.items():\n",
        "    if (len(value) != 6):\n",
        "        print(key, value)\n",
        "# dict_ppl_of_files.pop('world-log-640.jsonl', None)\n",
        "\n",
        "# print(len(dict_ppl_of_files))\n",
        "\n",
        "with open(output_path + \"output.txt\", \"w\") as f:\n",
        "    f.write(json.dumps(dict_ppl_of_files))"
      ],
      "metadata": {
        "colab": {
          "base_uri": "https://localhost:8080/"
        },
        "id": "lXRKoVFOlvAB",
        "outputId": "21938228-e9b3-4dff-a2be-888320e4ebac"
      },
      "execution_count": null,
      "outputs": [
        {
          "output_type": "stream",
          "name": "stdout",
          "text": [
            "863\n"
          ]
        }
      ]
    },
    {
      "cell_type": "code",
      "source": [
        "# print( abs(list_ppl_of_dialogs - np.mean(list_ppl_of_dialogs)) )\n",
        "# print(np.std(list_ppl_of_dialogs))\n",
        "\n",
        "print(list_ppl_of_dialogs)\n",
        "print(reject_outliers(list_ppl_of_dialogs))"
      ],
      "metadata": {
        "colab": {
          "base_uri": "https://localhost:8080/"
        },
        "id": "i-44O63FVUYL",
        "outputId": "298860d9-5ab1-4cc2-b84d-1d263127c611"
      },
      "execution_count": null,
      "outputs": [
        {
          "output_type": "stream",
          "name": "stdout",
          "text": [
            "[34.10929283343882, 3.988064979280301, 8.034693433758147, 2.7560870710324603, 78.53545557203665, 6.75183203681701, 55.791589633481344]\n",
            "[34.10929283343882, 3.988064979280301, 8.034693433758147, 2.7560870710324603, 78.53545557203665, 6.75183203681701, 55.791589633481344]\n"
          ]
        }
      ]
    },
    {
      "cell_type": "markdown",
      "source": [
        "### Claculating perplexity on one XPersona dialog"
      ],
      "metadata": {
        "id": "L8oxlTrII8is"
      }
    },
    {
      "cell_type": "code",
      "source": [
        "data_path = \"/content/dataset_french_xpersona/\"\n",
        "!rm -R $data_path\n",
        "!mkdir $data_path\n",
        "!git clone https://github.com/HLTCHKUST/Xpersona.git\n",
        "\n",
        "import json\n",
        "import pandas as pd\n",
        "\n",
        "with open('Xpersona/dataset/Fr_persona_train_corrected.json','r') as f:\n",
        "   train_data = json.load(f)\n",
        "\n",
        "dialogs_train = pd.DataFrame(train_data)['dialogue'].tolist()\n",
        "\n",
        "with open('Xpersona/dataset/Fr_persona_split_valid_human_annotated.json','r') as f:\n",
        "   valid_data = json.load(f)\n",
        "\n",
        "dialogs_valid = pd.DataFrame(valid_data)['dialogue'].tolist()\n",
        "\n",
        "with open('Xpersona/dataset/Fr_persona_split_test_human_annotated.json','r') as f:\n",
        "   text_data = json.load(f)\n",
        "\n",
        "dialogs_test = pd.DataFrame(text_data)['dialogue'].tolist()\n",
        "\n",
        "\n",
        "import pandas as pd\n",
        "text = \"\"\n",
        "def transfer_dialog(d):\n",
        "  t = \"\"\n",
        "  for i, each_two_turn in enumerate(d):\n",
        "    u1 = each_two_turn[0]\n",
        "    u2 = each_two_turn[1]\n",
        "\n",
        "    if i != (len(d) - 1):\n",
        "      t += \"text:\"+u1+\"\\t\"+\"labels:\"+u2+\"\\n\"\n",
        "    else:\n",
        "      t += \"text:\"+u1+\"\\t\"+\"labels:\"+u2+\"\\t\"+\"episode_done:True\"+\"\\n\"\n",
        "\n",
        "  return t\n",
        "\n",
        "data_train = \"\"\n",
        "for d in dialogs_train:\n",
        "  data_train += transfer_dialog(d)\n",
        "\n",
        "# save to file\n",
        "file_train = open(f\"{data_path}train.txt\",\"w\")\n",
        "print(file_train.write(data_train))\n",
        "\n",
        "data_valid = \"\"\n",
        "for d in dialogs_valid:\n",
        "  data_valid += transfer_dialog(d)\n",
        "\n",
        "# save to file\n",
        "file_valid = open(f\"{data_path}valid.txt\",\"w\")\n",
        "print(file_valid.write(data_valid))\n",
        "\n",
        "data_test = \"\"\n",
        "for d in dialogs_test:\n",
        "  data_test += transfer_dialog(d)\n",
        "\n",
        "# save to file\n",
        "file_test = open(f\"{data_path}test.txt\",\"w\")\n",
        "print(file_test.write(data_test))"
      ],
      "metadata": {
        "colab": {
          "base_uri": "https://localhost:8080/"
        },
        "id": "fLCyQRba15c1",
        "outputId": "ba1bf584-fc5b-4099-81bf-8ce66bac7f5a"
      },
      "execution_count": null,
      "outputs": [
        {
          "output_type": "stream",
          "name": "stdout",
          "text": [
            "rm: cannot remove '/content/dataset_french_xpersona/': No such file or directory\n",
            "Cloning into 'Xpersona'...\n",
            "remote: Enumerating objects: 282, done.\u001b[K\n",
            "remote: Counting objects: 100% (7/7), done.\u001b[K\n",
            "remote: Compressing objects: 100% (3/3), done.\u001b[K\n",
            "remote: Total 282 (delta 5), reused 4 (delta 4), pack-reused 275\u001b[K\n",
            "Receiving objects: 100% (282/282), 45.00 MiB | 16.50 MiB/s, done.\n",
            "Resolving deltas: 100% (95/95), done.\n",
            "15776427\n",
            "257114\n",
            "262425\n"
          ]
        }
      ]
    },
    {
      "cell_type": "code",
      "source": [
        "data_path = \"/content/dataset_french_xpersona/\"\n",
        "output_file = f\"{data_path}test.txt\"\n",
        "with open(output_file) as f:\n",
        "        lines = f.readlines();\n",
        "# for line in lines[:8]:\n",
        "for i,line in enumerate(lines[:20]):\n",
        "    split_line = line.split('\\t')\n",
        "    text, label, episode_done = split_line[0].replace(\"text:\", \"\").replace(\"\\n\",\"\"), \\\n",
        "                                split_line[1].replace(\"labels:\",\"\").replace(\"\\n\",\"\"), \\\n",
        "                                True if len(split_line) == 3 and split_line[2] else False\n",
        "    \n",
        "    # text = d[0]['text']\n",
        "    # label = d[0]['eval_labels'][0]\n",
        "    # prediction = d[1]['text']\n",
        "    print(colored(200,200,200,  f\"[text]: {text}\\t{score(sentence= text, model= model, tokenizer= tokenizer)}\" ))\n",
        "    print(colored(255,255,255,  f\"    [label]: {label}\\t{score(sentence= label, model= model, tokenizer= tokenizer)}\"))\n",
        "    # print(colored(0,200,0,      f\"\\t[model]:{prediction}\\t{score(sentence= prediction, model= model, tokenizer= tokenizer)}\"))\n",
        "    \n",
        "    if episode_done: break"
      ],
      "metadata": {
        "colab": {
          "base_uri": "https://localhost:8080/"
        },
        "id": "wxkcZqbt2F1H",
        "outputId": "b2fa9180-ec03-49d2-b831-48f54cac9491"
      },
      "execution_count": null,
      "outputs": [
        {
          "output_type": "stream",
          "name": "stdout",
          "text": [
            "\u001b[38;2;200;200;200m[text]: bonjour que fais tu aujourd'hui?\t23.50969213523441 \u001b[38;2;255;255;255m\n",
            "\u001b[38;2;255;255;255m    [label]: je vais bien, je viens de quitter le travail et je suis fatigué, j'ai deux emplois.\t69.5941526124176 \u001b[38;2;255;255;255m\n",
            "\u001b[38;2;200;200;200m[text]: je viens de finir de regarder un film d'horreur\t12.41011383669815 \u001b[38;2;255;255;255m\n",
            "\u001b[38;2;255;255;255m    [label]: j'ai plutôt lu, j'ai lu environ 20 livres cette année.\t84.6883624717502 \u001b[38;2;255;255;255m\n",
            "\u001b[38;2;200;200;200m[text]: Hou la la ! j'aime un bon film d'horreur. aimer ce temps plus frais\t215.52674788825635 \u001b[38;2;255;255;255m\n",
            "\u001b[38;2;255;255;255m    [label]: mais un bon film est toujours bon.\t24.56072223917881 \u001b[38;2;255;255;255m\n",
            "\u001b[38;2;200;200;200m[text]: Oui ! mon fils est au premier cycle du secondaire et je viens de le laisser le regarder aussi\t9.66275301463691 \u001b[38;2;255;255;255m\n",
            "\u001b[38;2;255;255;255m    [label]: je travaille aussi dans les films.\t51.23069691556294 \u001b[38;2;255;255;255m\n",
            "\u001b[38;2;200;200;200m[text]: bon ! ! j'ai travaillé dans le domaine des services à la personne\t20.93245391765761 \u001b[38;2;255;255;255m\n",
            "\u001b[38;2;255;255;255m    [label]: oui c'est soigné, je stunt double, c'est tellement amusant et dur de travailler.\t1661.2983740969476 \u001b[38;2;255;255;255m\n",
            "\u001b[38;2;200;200;200m[text]: oui, je parie que vous pouvez vous blesser. ma femme travaille et je reste à la maison\t24.705473362232972 \u001b[38;2;255;255;255m\n",
            "\u001b[38;2;255;255;255m    [label]: chouette, je n'ai qu'un seul parent alors maintenant j'aide ma maman.\t390.89952054805156 \u001b[38;2;255;255;255m\n",
            "\u001b[38;2;200;200;200m[text]: je parie qu'elle l'apprécie beaucoup.\t1514.5874761715447 \u001b[38;2;255;255;255m\n",
            "\u001b[38;2;255;255;255m    [label]: elle m'a bien élevé, je suis comme elle.\t108.60753658728396 \u001b[38;2;255;255;255m\n",
            "\u001b[38;2;200;200;200m[text]: mon père était toujours occupé à travailler chez lui\t4.727021848743318 \u001b[38;2;255;255;255m\n",
            "\u001b[38;2;255;255;255m    [label]: maintenant que je suis plus vieux home depot est mon jouet r us.\t123.00398567731432 \u001b[38;2;255;255;255m\n"
          ]
        }
      ]
    },
    {
      "cell_type": "markdown",
      "source": [
        "# Diversity"
      ],
      "metadata": {
        "id": "aHyM_8lzZ_XX"
      }
    },
    {
      "cell_type": "code",
      "source": [
        "!pip install nltk"
      ],
      "metadata": {
        "colab": {
          "base_uri": "https://localhost:8080/"
        },
        "id": "5_5DO-YbbrHu",
        "outputId": "ee5ddacd-fce9-43a0-d8ad-5eff8985ccca"
      },
      "execution_count": null,
      "outputs": [
        {
          "output_type": "stream",
          "name": "stdout",
          "text": [
            "Requirement already satisfied: nltk in /usr/local/lib/python3.7/dist-packages (3.2.5)\n",
            "Requirement already satisfied: six in /usr/local/lib/python3.7/dist-packages (from nltk) (1.15.0)\n"
          ]
        }
      ]
    },
    {
      "cell_type": "code",
      "source": [
        "# from nltk.translate import bleu_score\n",
        "# from nltk.translate.bleu_score import SmoothingFunction\n",
        "# import numpy as np"
      ],
      "metadata": {
        "id": "iHRDyUFWbvJT"
      },
      "execution_count": null,
      "outputs": []
    },
    {
      "cell_type": "code",
      "source": [
        "cand = [\"The cat is tired\", \"The cat is on the mat\", \"The pigeon sat on the branch\"]\n",
        "values = distinct(cand)\n",
        "print(f\" intra_distinc1: {values[0]}\\n\", f\"intra_distinc2: {values[1]}\\n\", f\"inter_distinc1: {values[2]}\\n\", f\"inter_distinc2: {values[3]}\\n\")"
      ],
      "metadata": {
        "colab": {
          "base_uri": "https://localhost:8080/"
        },
        "id": "AenA24YOby0Q",
        "outputId": "60538536-5393-4685-e111-c8d283236377"
      },
      "execution_count": null,
      "outputs": [
        {
          "output_type": "stream",
          "name": "stdout",
          "text": [
            " intra_distinc1: 0.9999980555596854\n",
            " intra_distinc2: 0.9999975555621704\n",
            " inter_distinc1: 0.6249996093753066\n",
            " inter_distinc2: 0.769230177515325\n",
            "\n"
          ]
        }
      ]
    },
    {
      "cell_type": "code",
      "source": [
        "def get_list_of_sentences(file_name, label = \"    labels:\"):\n",
        "    with open(file_name) as file:\n",
        "        lines = file.readlines()\n",
        "    i =0\n",
        "    dialog_score_pairs = []\n",
        "    turns = []\n",
        "    list_diversity_scores = []\n",
        "    for line in lines:\n",
        "        if (\"NEW EPISODE\" in line):\n",
        "            if len(turns) > 0 : \n",
        "                diversity_scores = distinct(turns)\n",
        "                list_diversity_scores.append(diversity_scores)\n",
        "                dialog_score_pairs.append([turns, diversity_scores])\n",
        "\n",
        "            turns = []\n",
        "        if (line.startswith(label)):\n",
        "            turns.append(line[len(label)+1:len(line)-3])\n",
        "    \n",
        "    average_diversity_score = [\n",
        "        np.average([item[0] for item in list_diversity_scores]),\n",
        "        np.average([item[1] for item in list_diversity_scores]),\n",
        "        np.average([item[2] for item in list_diversity_scores]),\n",
        "        np.average([item[3] for item in list_diversity_scores])\n",
        "    ]\n",
        "\n",
        "    average_of_turns = np.average([len(item[0]) for item in dialog_score_pairs])\n",
        "    \n",
        "    return [dialog_score_pairs, average_of_turns, average_diversity_score]\n",
        "\n",
        "# file_name4 = \"models-examples\\\\04-finetuned-dict-testset-output.txt\"\n",
        "# labels = get_list_of_sentences(file_name4, \"    labels:\")\n",
        "# values4 = distinct(labels)\n",
        "# labels\n",
        "\n",
        "file_name4 = \"models-examples\\\\04-finetuned-dict-testset-output.txt\"\n",
        "\n",
        "labels_n_scores = get_list_of_sentences(file_name4)\n",
        "print(\"labels:\")\n",
        "print(f\"turns average count: {round(labels_n_scores[1],2)}\\n\",\n",
        "    f\"intra_distinc1: {labels_n_scores[2][0]}\\n\", \n",
        "    f\"intra_distinc2: {labels_n_scores[2][1]}\\n\", \n",
        "    f\"inter_distinc1: {labels_n_scores[2][2]}\\n\", \n",
        "    f\"inter_distinc2: {labels_n_scores[2][3]}\\n\")\n",
        "\n",
        "\n",
        "generated_sentences4_n_scores = get_list_of_sentences(file_name4, \"     model:\")\n",
        "# print(f\"number of generated sentences in 4th model: {len(generated_sentences4)}\")\n"
      ],
      "metadata": {
        "id": "T0aC9Dj-b0Qq"
      },
      "execution_count": null,
      "outputs": []
    },
    {
      "cell_type": "code",
      "source": [
        "from collections import Counter\n",
        "def distinct(seqs):\n",
        "    \"\"\" Calculate intra/inter distinct 1/2. \"\"\"\n",
        "    batch_size = len(seqs)\n",
        "    intra_dist1, intra_dist2 = [], []\n",
        "    unigrams_all, bigrams_all = Counter(), Counter()\n",
        "    for seq in seqs:\n",
        "        words = seq.split()\n",
        "        unigrams = Counter(words)\n",
        "        bigrams = Counter(zip(words, words[1:]))\n",
        "\n",
        "        intra_dist1.append((len(unigrams)+1e-12) / (len(words)+1e-5))\n",
        "        intra_dist2.append((len(bigrams)+1e-12) / (max(0, len(words)-1)+1e-5))\n",
        "\n",
        "        unigrams_all.update(unigrams)\n",
        "        bigrams_all.update(bigrams)\n",
        "\n",
        "    inter_dist1 = (len(unigrams_all)+1e-12) / (sum(unigrams_all.values())+1e-5)\n",
        "    inter_dist2 = (len(bigrams_all)+1e-12) / (sum(bigrams_all.values())+1e-5)\n",
        "\n",
        "    intra_dist1 = np.average(intra_dist1)\n",
        "    intra_dist2 = np.average(intra_dist2)\n",
        "    return intra_dist1, intra_dist2, inter_dist1, inter_dist2\n",
        "\n",
        "# cand = [\"The cat is tired\", \"The cat is on the mat\", \"The pigeon sat on the branch\"]\n",
        "# values = distinct(cand)\n",
        "# print(f\" intra_distinc1: {values[0]}\\n\", f\"intra_distinc2: {values[1]}\\n\", f\"inter_distinc1: {values[2]}\\n\", f\"inter_distinc2: {values[3]}\\n\")"
      ],
      "metadata": {
        "id": "vdT7gXc9bwp9"
      },
      "execution_count": null,
      "outputs": []
    },
    {
      "cell_type": "code",
      "source": [
        "import json\n",
        "import time\n",
        "output_path = \"/content/drive/MyDrive/colabs/blender-models/output-files/\"\n",
        "\n",
        "dict_diversity_scores = {}\n",
        "for filename in top20_filenames:\n",
        "    with open(output_path + filename) as f:\n",
        "        lines = f.readlines()\n",
        "    diversity_scores_of_dialogs = []\n",
        "    for i, line in enumerate(lines):\n",
        "        if (line != \"\\n\"):\n",
        "            obj = json.loads(line)\n",
        "            if \"dialog\" in obj.keys():\n",
        "                start_time = time.time()\n",
        "                predictions = []\n",
        "                for d in obj['dialog']:\n",
        "                    text, label, prediction  = d[0]['text'], d[0]['eval_labels'][0], d[1]['text']\n",
        "                    predictions.append(prediction)\n",
        "\n",
        "                diversity_scores = distinct(predictions)\n",
        "                diversity_scores_of_dialogs.append(diversity_scores)\n",
        "    dict_diversity_scores[filename] = [\n",
        "        np.mean([x[0] for x in diversity_scores_of_dialogs]),\n",
        "        np.mean([x[1] for x in diversity_scores_of_dialogs]),\n",
        "        np.mean([x[2] for x in diversity_scores_of_dialogs]),\n",
        "        np.mean([x[3] for x in diversity_scores_of_dialogs]),\n",
        "    ]\n",
        "\n",
        "dict_diversity_scores\n",
        "\n",
        "df_diversity = pd.DataFrame.from_dict(dict_diversity_scores, orient='index', columns=['intra_distinc1', 'intra_distinc2', 'inter_distinc1', 'inter_distinc2'])\n",
        "df_diversity"
      ],
      "metadata": {
        "id": "Fbh7zSe4EwN_"
      },
      "execution_count": null,
      "outputs": []
    },
    {
      "cell_type": "markdown",
      "source": [
        "# Coherency ✅"
      ],
      "metadata": {
        "id": "rGTaMuDDaAKN"
      }
    },
    {
      "cell_type": "code",
      "source": [
        "!git lfs install\n",
        "!git clone https://huggingface.co/Sahajtomar/french_semantic\n",
        "\n",
        "# !pip uninstall sentence-transformers\n",
        "!pip install sentence-transformers"
      ],
      "metadata": {
        "id": "hNAZVQtobtQb"
      },
      "execution_count": null,
      "outputs": []
    },
    {
      "cell_type": "code",
      "source": [
        "output_lines = []\n",
        "with open(\"/content/drive/MyDrive/colabs/aliae-workspace/datasets/french_blended_skill_talk/test.txt\") as f:\n",
        "    output_lines = f.readlines()\n",
        "print(len(output_lines))"
      ],
      "metadata": {
        "id": "OwB2HjWGcD55"
      },
      "execution_count": null,
      "outputs": []
    },
    {
      "cell_type": "code",
      "source": [
        "from sentence_transformers import SentenceTransformer, util\n",
        "model = SentenceTransformer('Sahajtomar/french_semantic')"
      ],
      "metadata": {
        "id": "lPg-wFsv1HOu"
      },
      "execution_count": null,
      "outputs": []
    },
    {
      "cell_type": "code",
      "source": [
        "# calculating the baseline\n",
        "text, label, generated, context = \"\", \"\", \"\", \"\"\n",
        "turns = []\n",
        "\n",
        "list_of_similarity_scores_for_turns_in_a_dialog = []\n",
        "list_of_similarity_scores_for_every_dialogs = []\n",
        "\n",
        "for i,line in enumerate(output_lines):\n",
        "    split_line = line.split('\\t')\n",
        "    text, label, episode_done = split_line[0].replace(\"text:\", \"\").replace(\"\\n\",\"\"), \\\n",
        "                                split_line[1].replace(\"labels:\",\"\").replace(\"\\n\",\"\"), \\\n",
        "                                True if len(split_line) == 3 and split_line[2] else False\n",
        "    # print(\"%r\"%text, \"%r\"%label, episode_done)\n",
        "    label = ' '.join(label.split(' ')[-350:])\n",
        "    embeddings_label = model.encode(label, convert_to_tensor=True)\n",
        "\n",
        "    turns.append(text)\n",
        "    context = ' '.join(turns)\n",
        "    context = ' '.join(context.split(' ')[-350:]) # if the context is so long, truncate it and pick up the latest 350 token\n",
        "    embeddings_context = model.encode(context, convert_to_tensor=True)\n",
        "\n",
        "    cosine_similarity = util.pytorch_cos_sim(embeddings_label, embeddings_context)\n",
        "    list_of_similarity_scores_for_turns_in_a_dialog.append(cosine_similarity.item())\n",
        "\n",
        "    turns.append(label)\n",
        "        \n",
        "    if (episode_done):\n",
        "        average_similarity_score = sum(list_of_similarity_scores_for_turns_in_a_dialog) / len(list_of_similarity_scores_for_turns_in_a_dialog)\n",
        "        list_of_similarity_scores_for_every_dialogs.append(average_similarity_score)\n",
        "        context = \"\"\n",
        "        label = \"\"\n",
        "        turns = []\n",
        "\n",
        "        if len(list_of_similarity_scores_for_every_dialogs) % 50 == 0:\n",
        "            print(f\"{i}: Similarity Score for dialog No. {len(list_of_similarity_scores_for_every_dialogs)}:\", average_similarity_score)\n",
        "        # break\n",
        "\n",
        "\n",
        "print(\"Count: \", len(list_of_similarity_scores_for_every_dialogs))\n",
        "similarity_score_baseline = sum(list_of_similarity_scores_for_every_dialogs)/ len(list_of_similarity_scores_for_every_dialogs)\n",
        "print(\"Average: \", similarity_score_baseline)\n",
        "print(list_of_similarity_scores_for_every_dialogs)"
      ],
      "metadata": {
        "id": "88OYUooYcGWa"
      },
      "execution_count": null,
      "outputs": []
    },
    {
      "cell_type": "code",
      "source": [
        "from sentence_transformers import SentenceTransformer, util\n",
        "model = SentenceTransformer('Sahajtomar/french_semantic')"
      ],
      "metadata": {
        "id": "xX2rKqWtN7nf"
      },
      "execution_count": null,
      "outputs": []
    },
    {
      "cell_type": "code",
      "source": [
        "import json\n",
        "import time\n",
        "output_path = \"/content/drive/MyDrive/colabs/blender-models/output-files/\"\n",
        "\n",
        "dict_similarity_scores = {}\n",
        "for filename in top20_filenames:\n",
        "    with open(output_path + filename) as f:\n",
        "        lines = f.readlines()\n",
        "    similarity_scores_of_dialogs = []\n",
        "    for i, line in enumerate(lines):\n",
        "        if (line != \"\\n\"):\n",
        "            obj = json.loads(line)\n",
        "            if \"dialog\" in obj.keys():\n",
        "                start_time = time.time()\n",
        "                turns_as_context = []\n",
        "                list_of_similarity_scores_for_turns_in_a_dialog = []\n",
        "                for d in obj['dialog']:\n",
        "                    text, label, prediction  = d[0]['text'], d[0]['eval_labels'][0], d[1]['text']\n",
        "\n",
        "                    prediction = ' '.join(prediction.split(' ')[-350:])\n",
        "                    embeddings_prediction = model.encode(prediction, convert_to_tensor=True)\n",
        "\n",
        "                    turns_as_context.append(text)\n",
        "                    context = ' '.join(turns_as_context)\n",
        "                    context = ' '.join(context.split(' ')[-350:]) # if the context is so long, truncate it and pick up the latest 350 token\n",
        "                    embeddings_context = model.encode(context, convert_to_tensor=True)\n",
        "\n",
        "                    cosine_similarity = util.pytorch_cos_sim(embeddings_prediction, embeddings_context)\n",
        "                    list_of_similarity_scores_for_turns_in_a_dialog.append(cosine_similarity.item())\n",
        "\n",
        "                    turns_as_context.append(label)\n",
        "\n",
        "                similarity_scores_of_dialogs.append(np.mean(list_of_similarity_scores_for_turns_in_a_dialog))\n",
        "                # diversity_scores = distinct(predictions)\n",
        "                # diversity_scores_of_dialogs.append(diversity_scores)\n",
        "    dict_similarity_scores[filename] = [np.mean(similarity_scores_of_dialogs)]\n",
        "\n",
        "    \n",
        "dict_similarity_scores\n",
        "\n",
        "df_similarity = pd.DataFrame.from_dict(dict_similarity_scores, orient='index', columns=['similarity_score'])\n",
        "df_similarity"
      ],
      "metadata": {
        "id": "l5NQ98n1N5xG"
      },
      "execution_count": null,
      "outputs": []
    },
    {
      "cell_type": "code",
      "source": [
        "df_result = pd.concat([df_top20, df_diversity, df_similarity], axis=1, join='inner')\n",
        "# display(df_result)\n",
        "df_result[['avg_wo_outliers', 'intra_distinc2', 'inter_distinc2', 'similarity_score']].sort_values(by=['similarity_score']).head(20)\n",
        "# df.sort_values(by=['avg_wo_outliers']).head(20)"
      ],
      "metadata": {
        "id": "2BIKpt85Ulnw"
      },
      "execution_count": null,
      "outputs": []
    },
    {
      "cell_type": "markdown",
      "source": [
        "# Display Model"
      ],
      "metadata": {
        "id": "kJY3GFlXZm-f"
      }
    },
    {
      "cell_type": "code",
      "source": [
        "# !pip uninstall -q parlai\n",
        "!pip install -q parlai\n",
        "!pip install transformers"
      ],
      "metadata": {
        "id": "P4V-Xs2hZy6L"
      },
      "execution_count": null,
      "outputs": []
    },
    {
      "cell_type": "markdown",
      "source": [
        "Create a new task named **french_blended_skill_talk** to be used in the next part"
      ],
      "metadata": {
        "id": "bA672pqjzbyX"
      }
    },
    {
      "cell_type": "code",
      "source": [
        "googledrive_data_path = \"/content/drive/MyDrive/colabs/aliae-workspace/datasets/french_blended_skill_talk/\"\n",
        "data_path = \"/content/dataset_french_bst/\"\n",
        "!rm -R $data_path\n",
        "!mkdir $data_path\n",
        "!cp -rv $googledrive_data_path* $data_path\n",
        "\n",
        "task_path = \"/usr/local/lib/python3.7/dist-packages/parlai/tasks/\"\n",
        "\n",
        "!rm -R $task_path'french_blended_skill_talk/'\n",
        "!mkdir $task_path'french_blended_skill_talk'\n",
        "!cp -ruv /content/drive/MyDrive/colabs/aliae-workspace/parlai-tasks/french_blended_skill_talk/* $task_path'french_blended_skill_talk/'\n"
      ],
      "metadata": {
        "id": "nsc7v_1fZ5da"
      },
      "execution_count": null,
      "outputs": []
    },
    {
      "cell_type": "code",
      "source": [
        "model_path = \"/content/drive/MyDrive/colabs/blender-models/finetuned-multitask-400m/\"\n",
        "from parlai.scripts.display_model import DisplayModel\n",
        "from parlai.scripts.eval_model import EvalModel\n",
        "import json\n",
        "\n",
        "import time\n",
        "start_time = time.time()\n",
        "\n",
        "output_path = \"/content/drive/MyDrive/colabs/blender-models/output-files/\"\n",
        "filename = \"world-log-758.jsonl\"\n",
        "with open(output_path + filename) as f:\n",
        "    params_line = f.readlines()[-1]\n",
        "    params = json.loads(params_line)\n",
        "\n",
        "print(params)\n",
        "params.pop('world_logs', None)\n",
        "params.pop('display_examples', None)\n",
        "params['dict_language'] = 'french'\n",
        "\n",
        "DisplayModel.main(**params)"
      ],
      "metadata": {
        "id": "Bm2Wgu0yZmtI"
      },
      "execution_count": null,
      "outputs": []
    }
  ]
}