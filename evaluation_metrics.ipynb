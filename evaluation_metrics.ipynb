{
  "nbformat": 4,
  "nbformat_minor": 0,
  "metadata": {
    "colab": {
      "name": "evaluation metrics.ipynb",
      "provenance": [],
      "collapsed_sections": [
        "aHyM_8lzZ_XX"
      ],
      "toc_visible": true,
      "machine_shape": "hm",
      "authorship_tag": "ABX9TyMcVCOYX/AwK+dl2lGnWuAC",
      "include_colab_link": true
    },
    "kernelspec": {
      "name": "python3",
      "display_name": "Python 3"
    },
    "language_info": {
      "name": "python"
    },
    "accelerator": "GPU"
  },
  "cells": [
    {
      "cell_type": "markdown",
      "metadata": {
        "id": "view-in-github",
        "colab_type": "text"
      },
      "source": [
        "<a href=\"https://colab.research.google.com/github/amirpaia/blenderbot/blob/main/evaluation_metrics.ipynb\" target=\"_parent\"><img src=\"https://colab.research.google.com/assets/colab-badge.svg\" alt=\"Open In Colab\"/></a>"
      ]
    },
    {
      "cell_type": "code",
      "source": [
        "from google.colab import drive\n",
        "drive.mount(\"/content/drive\")"
      ],
      "metadata": {
        "colab": {
          "base_uri": "https://localhost:8080/"
        },
        "id": "oQ7zYgpMjByn",
        "outputId": "abea8906-8500-4145-8471-f83e13386bae"
      },
      "execution_count": 1,
      "outputs": [
        {
          "output_type": "stream",
          "name": "stdout",
          "text": [
            "Drive already mounted at /content/drive; to attempt to forcibly remount, call drive.mount(\"/content/drive\", force_remount=True).\n"
          ]
        }
      ]
    },
    {
      "cell_type": "code",
      "source": [
        "gpu_info = !nvidia-smi\n",
        "gpu_info = '\\n'.join(gpu_info)\n",
        "if gpu_info.find('failed') >= 0:\n",
        "  print('Not connected to a GPU')\n",
        "else:\n",
        "  print(gpu_info)"
      ],
      "metadata": {
        "colab": {
          "base_uri": "https://localhost:8080/"
        },
        "id": "EQFitCcGSNWA",
        "outputId": "aef2ca61-39bd-4fbd-e329-e5193ef6ba2e"
      },
      "execution_count": 2,
      "outputs": [
        {
          "output_type": "stream",
          "name": "stdout",
          "text": [
            "Thu May 12 13:25:40 2022       \n",
            "+-----------------------------------------------------------------------------+\n",
            "| NVIDIA-SMI 460.32.03    Driver Version: 460.32.03    CUDA Version: 11.2     |\n",
            "|-------------------------------+----------------------+----------------------+\n",
            "| GPU  Name        Persistence-M| Bus-Id        Disp.A | Volatile Uncorr. ECC |\n",
            "| Fan  Temp  Perf  Pwr:Usage/Cap|         Memory-Usage | GPU-Util  Compute M. |\n",
            "|                               |                      |               MIG M. |\n",
            "|===============================+======================+======================|\n",
            "|   0  Tesla P100-PCIE...  Off  | 00000000:00:04.0 Off |                    0 |\n",
            "| N/A   43C    P0    29W / 250W |      0MiB / 16280MiB |      0%      Default |\n",
            "|                               |                      |                  N/A |\n",
            "+-------------------------------+----------------------+----------------------+\n",
            "                                                                               \n",
            "+-----------------------------------------------------------------------------+\n",
            "| Processes:                                                                  |\n",
            "|  GPU   GI   CI        PID   Type   Process name                  GPU Memory |\n",
            "|        ID   ID                                                   Usage      |\n",
            "|=============================================================================|\n",
            "|  No running processes found                                                 |\n",
            "+-----------------------------------------------------------------------------+\n"
          ]
        }
      ]
    },
    {
      "cell_type": "markdown",
      "source": [
        "# Perplexity"
      ],
      "metadata": {
        "id": "pd8Lu7QQZ7y_"
      }
    },
    {
      "cell_type": "code",
      "execution_count": null,
      "metadata": {
        "id": "hHEjrD5eXIUP"
      },
      "outputs": [],
      "source": [
        ""
      ]
    },
    {
      "cell_type": "markdown",
      "source": [
        "# Diversity"
      ],
      "metadata": {
        "id": "aHyM_8lzZ_XX"
      }
    },
    {
      "cell_type": "code",
      "source": [
        "!pip install nltk"
      ],
      "metadata": {
        "id": "5_5DO-YbbrHu"
      },
      "execution_count": null,
      "outputs": []
    },
    {
      "cell_type": "code",
      "source": [
        "from collections import Counter\n",
        "\n",
        "from nltk.translate import bleu_score\n",
        "from nltk.translate.bleu_score import SmoothingFunction\n",
        "import numpy as np"
      ],
      "metadata": {
        "id": "iHRDyUFWbvJT"
      },
      "execution_count": null,
      "outputs": []
    },
    {
      "cell_type": "code",
      "source": [
        "def distinct(seqs):\n",
        "    \"\"\" Calculate intra/inter distinct 1/2. \"\"\"\n",
        "    batch_size = len(seqs)\n",
        "    intra_dist1, intra_dist2 = [], []\n",
        "    unigrams_all, bigrams_all = Counter(), Counter()\n",
        "    for seq in seqs:\n",
        "        words = seq.split()\n",
        "        unigrams = Counter(words)\n",
        "        bigrams = Counter(zip(words, words[1:]))\n",
        "        # print(unigrams)\n",
        "        # print(bigrams)\n",
        "\n",
        "        intra_dist1.append((len(unigrams)+1e-12) / (len(words)+1e-5))\n",
        "        intra_dist2.append((len(bigrams)+1e-12) / (max(0, len(words)-1)+1e-5))\n",
        "\n",
        "        unigrams_all.update(unigrams)\n",
        "        bigrams_all.update(bigrams)\n",
        "\n",
        "    # print(\"\\n\")\n",
        "    # print(\"unigrams all: \", unigrams_all)\n",
        "    # print(\"bigrams all: \", bigrams_all)\n",
        "    inter_dist1 = (len(unigrams_all)+1e-12) / (sum(unigrams_all.values())+1e-5)\n",
        "    inter_dist2 = (len(bigrams_all)+1e-12) / (sum(bigrams_all.values())+1e-5)\n",
        "    # print(\"\\n\")\n",
        "    # print(\"intra for each sentence (unigram):\", intra_dist1)\n",
        "    # print(\"intra for each sentence (bigram):\", intra_dist2)\n",
        "    # print(\"\\n\")\n",
        "    intra_dist1 = np.average(intra_dist1)\n",
        "    intra_dist2 = np.average(intra_dist2)\n",
        "    return intra_dist1, intra_dist2, inter_dist1, inter_dist2\n",
        "\n",
        "# cand = [\"The cat is tired\", \"The cat is on the mat\", \"The pigeon sat on the branch\"]\n",
        "# values = distinct(cand)\n",
        "# print(f\" intra_distinc1: {values[0]}\\n\", f\"intra_distinc2: {values[1]}\\n\", f\"inter_distinc1: {values[2]}\\n\", f\"inter_distinc2: {values[3]}\\n\")\n"
      ],
      "metadata": {
        "id": "vdT7gXc9bwp9"
      },
      "execution_count": null,
      "outputs": []
    },
    {
      "cell_type": "code",
      "source": [
        "cand = [\"The cat is tired\", \"The cat is on the mat\", \"The pigeon sat on the branch\"]\n",
        "values = distinct(cand)\n",
        "print(f\" intra_distinc1: {values[0]}\\n\", f\"intra_distinc2: {values[1]}\\n\", f\"inter_distinc1: {values[2]}\\n\", f\"inter_distinc2: {values[3]}\\n\")"
      ],
      "metadata": {
        "id": "AenA24YOby0Q"
      },
      "execution_count": null,
      "outputs": []
    },
    {
      "cell_type": "code",
      "source": [
        "def get_list_of_sentences(file_name, label = \"    labels:\"):\n",
        "    with open(file_name) as file:\n",
        "        lines = file.readlines()\n",
        "    i =0\n",
        "    dialog_score_pairs = []\n",
        "    turns = []\n",
        "    list_diversity_scores = []\n",
        "    for line in lines:\n",
        "        if (\"NEW EPISODE\" in line):\n",
        "            if len(turns) > 0 : \n",
        "                diversity_scores = distinct(turns)\n",
        "                list_diversity_scores.append(diversity_scores)\n",
        "                dialog_score_pairs.append([turns, diversity_scores])\n",
        "\n",
        "            turns = []\n",
        "        if (line.startswith(label)):\n",
        "            turns.append(line[len(label)+1:len(line)-3])\n",
        "    \n",
        "    average_diversity_score = [\n",
        "        np.average([item[0] for item in list_diversity_scores]),\n",
        "        np.average([item[1] for item in list_diversity_scores]),\n",
        "        np.average([item[2] for item in list_diversity_scores]),\n",
        "        np.average([item[3] for item in list_diversity_scores])\n",
        "    ]\n",
        "\n",
        "    average_of_turns = np.average([len(item[0]) for item in dialog_score_pairs])\n",
        "    \n",
        "    return [dialog_score_pairs, average_of_turns, average_diversity_score]\n",
        "\n",
        "# file_name4 = \"models-examples\\\\04-finetuned-dict-testset-output.txt\"\n",
        "# labels = get_list_of_sentences(file_name4, \"    labels:\")\n",
        "# values4 = distinct(labels)\n",
        "# labels"
      ],
      "metadata": {
        "id": "T0aC9Dj-b0Qq"
      },
      "execution_count": null,
      "outputs": []
    },
    {
      "cell_type": "code",
      "source": [
        "file_name4 = \"models-examples\\\\04-finetuned-dict-testset-output.txt\"\n",
        "\n",
        "labels_n_scores = get_list_of_sentences(file_name4)\n",
        "print(\"labels:\")\n",
        "print(f\"turns average count: {round(labels_n_scores[1],2)}\\n\",\n",
        "    f\"intra_distinc1: {labels_n_scores[2][0]}\\n\", \n",
        "    f\"intra_distinc2: {labels_n_scores[2][1]}\\n\", \n",
        "    f\"inter_distinc1: {labels_n_scores[2][2]}\\n\", \n",
        "    f\"inter_distinc2: {labels_n_scores[2][3]}\\n\")\n",
        "\n",
        "\n",
        "generated_sentences4_n_scores = get_list_of_sentences(file_name4, \"     model:\")\n",
        "# print(f\"number of generated sentences in 4th model: {len(generated_sentences4)}\")\n",
        "\n",
        "print(\"4:\")\n",
        "print(f\"turns average count: {round(generated_sentences4_n_scores[1],2)}\\n\",\n",
        "    f\"intra_distinc1: {generated_sentences4_n_scores[2][0]}\\n\", \n",
        "    f\"intra_distinc2: {generated_sentences4_n_scores[2][1]}\\n\", \n",
        "    f\"inter_distinc1: {generated_sentences4_n_scores[2][2]}\\n\", \n",
        "    f\"inter_distinc2: {generated_sentences4_n_scores[2][3]}\\n\")\n",
        "\n",
        "file_name5 = \"models-examples\\\\05-finetuned-beam_prmts_infrnc-testset-output.txt\"\n",
        "generated_sentences5_n_scores = get_list_of_sentences(file_name5, \"     model:\")\n",
        "# print(f\"number of generated sentences in 9th model: {len(generated_sentences9)}\")\n",
        "\n",
        "print(\"5:\")\n",
        "print(f\"turns average count: {round(generated_sentences5_n_scores[1],2)}\\n\",\n",
        "    f\"intra_distinc1: {generated_sentences5_n_scores[2][0]}\\n\", \n",
        "    f\"intra_distinc2: {generated_sentences5_n_scores[2][1]}\\n\", \n",
        "    f\"inter_distinc1: {generated_sentences5_n_scores[2][2]}\\n\", \n",
        "    f\"inter_distinc2: {generated_sentences5_n_scores[2][3]}\\n\")\n",
        "\n",
        "file_name9 = \"models-examples\\\\09-finetuned-400m-topk-5epochs-testset-output.txt\"\n",
        "generated_sentences9_n_scores = get_list_of_sentences(file_name9, \"     model:\")\n",
        "# print(f\"number of generated sentences in 9th model: {len(generated_sentences9)}\")\n",
        "\n",
        "print(\"9:\")\n",
        "print(f\"turns average count: {round(generated_sentences9_n_scores[1],2)}\\n\",\n",
        "    f\"intra_distinc1: {generated_sentences9_n_scores[2][0]}\\n\", \n",
        "    f\"intra_distinc2: {generated_sentences9_n_scores[2][1]}\\n\", \n",
        "    f\"inter_distinc1: {generated_sentences9_n_scores[2][2]}\\n\", \n",
        "    f\"inter_distinc2: {generated_sentences9_n_scores[2][3]}\\n\")"
      ],
      "metadata": {
        "id": "D9kXkPvUb1_p"
      },
      "execution_count": null,
      "outputs": []
    },
    {
      "cell_type": "markdown",
      "source": [
        "# Coherency"
      ],
      "metadata": {
        "id": "rGTaMuDDaAKN"
      }
    },
    {
      "cell_type": "code",
      "source": [
        "!git lfs install\n",
        "!git clone https://huggingface.co/Sahajtomar/french_semantic\n",
        "\n",
        "# !pip uninstall sentence-transformers\n",
        "!pip install sentence-transformers"
      ],
      "metadata": {
        "colab": {
          "base_uri": "https://localhost:8080/"
        },
        "id": "hNAZVQtobtQb",
        "outputId": "ae7e2e55-bc46-4567-a31e-e2582f768867"
      },
      "execution_count": 3,
      "outputs": [
        {
          "output_type": "stream",
          "name": "stdout",
          "text": [
            "Error: Failed to call git rev-parse --git-dir --show-toplevel: \"fatal: not a git repository (or any of the parent directories): .git\\n\"\n",
            "Git LFS initialized.\n",
            "fatal: destination path 'french_semantic' already exists and is not an empty directory.\n",
            "Requirement already satisfied: sentence-transformers in /usr/local/lib/python3.7/dist-packages (2.2.0)\n",
            "Requirement already satisfied: tqdm in /usr/local/lib/python3.7/dist-packages (from sentence-transformers) (4.64.0)\n",
            "Requirement already satisfied: scipy in /usr/local/lib/python3.7/dist-packages (from sentence-transformers) (1.4.1)\n",
            "Requirement already satisfied: nltk in /usr/local/lib/python3.7/dist-packages (from sentence-transformers) (3.2.5)\n",
            "Requirement already satisfied: torch>=1.6.0 in /usr/local/lib/python3.7/dist-packages (from sentence-transformers) (1.11.0+cu113)\n",
            "Requirement already satisfied: scikit-learn in /usr/local/lib/python3.7/dist-packages (from sentence-transformers) (1.0.2)\n",
            "Requirement already satisfied: sentencepiece in /usr/local/lib/python3.7/dist-packages (from sentence-transformers) (0.1.96)\n",
            "Requirement already satisfied: huggingface-hub in /usr/local/lib/python3.7/dist-packages (from sentence-transformers) (0.6.0)\n",
            "Requirement already satisfied: torchvision in /usr/local/lib/python3.7/dist-packages (from sentence-transformers) (0.12.0+cu113)\n",
            "Requirement already satisfied: numpy in /usr/local/lib/python3.7/dist-packages (from sentence-transformers) (1.21.6)\n",
            "Requirement already satisfied: transformers<5.0.0,>=4.6.0 in /usr/local/lib/python3.7/dist-packages (from sentence-transformers) (4.18.0)\n",
            "Requirement already satisfied: typing-extensions in /usr/local/lib/python3.7/dist-packages (from torch>=1.6.0->sentence-transformers) (4.2.0)\n",
            "Requirement already satisfied: packaging>=20.0 in /usr/local/lib/python3.7/dist-packages (from transformers<5.0.0,>=4.6.0->sentence-transformers) (21.3)\n",
            "Requirement already satisfied: pyyaml>=5.1 in /usr/local/lib/python3.7/dist-packages (from transformers<5.0.0,>=4.6.0->sentence-transformers) (6.0)\n",
            "Requirement already satisfied: requests in /usr/local/lib/python3.7/dist-packages (from transformers<5.0.0,>=4.6.0->sentence-transformers) (2.23.0)\n",
            "Requirement already satisfied: importlib-metadata in /usr/local/lib/python3.7/dist-packages (from transformers<5.0.0,>=4.6.0->sentence-transformers) (4.11.3)\n",
            "Requirement already satisfied: sacremoses in /usr/local/lib/python3.7/dist-packages (from transformers<5.0.0,>=4.6.0->sentence-transformers) (0.0.53)\n",
            "Requirement already satisfied: regex!=2019.12.17 in /usr/local/lib/python3.7/dist-packages (from transformers<5.0.0,>=4.6.0->sentence-transformers) (2019.12.20)\n",
            "Requirement already satisfied: tokenizers!=0.11.3,<0.13,>=0.11.1 in /usr/local/lib/python3.7/dist-packages (from transformers<5.0.0,>=4.6.0->sentence-transformers) (0.12.1)\n",
            "Requirement already satisfied: filelock in /usr/local/lib/python3.7/dist-packages (from transformers<5.0.0,>=4.6.0->sentence-transformers) (3.6.0)\n",
            "Requirement already satisfied: pyparsing!=3.0.5,>=2.0.2 in /usr/local/lib/python3.7/dist-packages (from packaging>=20.0->transformers<5.0.0,>=4.6.0->sentence-transformers) (3.0.8)\n",
            "Requirement already satisfied: zipp>=0.5 in /usr/local/lib/python3.7/dist-packages (from importlib-metadata->transformers<5.0.0,>=4.6.0->sentence-transformers) (3.8.0)\n",
            "Requirement already satisfied: six in /usr/local/lib/python3.7/dist-packages (from nltk->sentence-transformers) (1.15.0)\n",
            "Requirement already satisfied: urllib3!=1.25.0,!=1.25.1,<1.26,>=1.21.1 in /usr/local/lib/python3.7/dist-packages (from requests->transformers<5.0.0,>=4.6.0->sentence-transformers) (1.24.3)\n",
            "Requirement already satisfied: idna<3,>=2.5 in /usr/local/lib/python3.7/dist-packages (from requests->transformers<5.0.0,>=4.6.0->sentence-transformers) (2.10)\n",
            "Requirement already satisfied: chardet<4,>=3.0.2 in /usr/local/lib/python3.7/dist-packages (from requests->transformers<5.0.0,>=4.6.0->sentence-transformers) (3.0.4)\n",
            "Requirement already satisfied: certifi>=2017.4.17 in /usr/local/lib/python3.7/dist-packages (from requests->transformers<5.0.0,>=4.6.0->sentence-transformers) (2021.10.8)\n",
            "Requirement already satisfied: click in /usr/local/lib/python3.7/dist-packages (from sacremoses->transformers<5.0.0,>=4.6.0->sentence-transformers) (7.1.2)\n",
            "Requirement already satisfied: joblib in /usr/local/lib/python3.7/dist-packages (from sacremoses->transformers<5.0.0,>=4.6.0->sentence-transformers) (1.1.0)\n",
            "Requirement already satisfied: threadpoolctl>=2.0.0 in /usr/local/lib/python3.7/dist-packages (from scikit-learn->sentence-transformers) (3.1.0)\n",
            "Requirement already satisfied: pillow!=8.3.*,>=5.3.0 in /usr/local/lib/python3.7/dist-packages (from torchvision->sentence-transformers) (7.1.2)\n"
          ]
        }
      ]
    },
    {
      "cell_type": "code",
      "source": [
        "output_lines = []\n",
        "with open(\"/content/drive/MyDrive/colabs/aliae-workspace/datasets/french_blended_skill_talk/test.txt\") as f:\n",
        "    output_lines = f.readlines()\n",
        "print(len(output_lines))\n",
        "    \n",
        "from sentence_transformers import SentenceTransformer, util\n",
        "model = SentenceTransformer('Sahajtomar/french_semantic')"
      ],
      "metadata": {
        "colab": {
          "base_uri": "https://localhost:8080/"
        },
        "id": "OwB2HjWGcD55",
        "outputId": "bb8a668b-e1d6-4ad1-a7fe-e7ef2adcd9f7"
      },
      "execution_count": 4,
      "outputs": [
        {
          "output_type": "stream",
          "name": "stdout",
          "text": [
            "12121\n"
          ]
        }
      ]
    },
    {
      "cell_type": "code",
      "source": [
        "# calculating the baseline\n",
        "text, label, generated, context = \"\", \"\", \"\", \"\"\n",
        "turns = []\n",
        "\n",
        "list_of_similarity_scores_for_turns_in_a_dialog = []\n",
        "list_of_similarity_scores_for_every_dialogs = []\n",
        "\n",
        "for i,line in enumerate(output_lines):\n",
        "    split_line = line.split('\\t')\n",
        "    text, label, episode_done = split_line[0].replace(\"text:\", \"\").replace(\"\\n\",\"\"), \\\n",
        "                                split_line[1].replace(\"labels:\",\"\").replace(\"\\n\",\"\"), \\\n",
        "                                True if len(split_line) == 3 and split_line[2] else False\n",
        "    # print(\"%r\"%text, \"%r\"%label, episode_done)\n",
        "    label = ' '.join(label.split(' ')[-350:])\n",
        "    embeddings_label = model.encode(label, convert_to_tensor=True)\n",
        "\n",
        "    turns.append(text)\n",
        "    context = ' '.join(turns)\n",
        "    context = ' '.join(context.split(' ')[-350:]) # if the context is so long, truncate it and pick up the latest 350 token\n",
        "    embeddings_context = model.encode(context, convert_to_tensor=True)\n",
        "\n",
        "    cosine_similarity = util.pytorch_cos_sim(embeddings_label, embeddings_context)\n",
        "    list_of_similarity_scores_for_turns_in_a_dialog.append(cosine_similarity.item())\n",
        "\n",
        "    # print(i, \"\\n\", \"text:\", text)\n",
        "    # print(\"label:\", label)\n",
        "    # print(\"\\tcontext:\",context, \"\\n\")\n",
        "\n",
        "    turns.append(label)\n",
        "        \n",
        "    if (episode_done):\n",
        "        average_similarity_score = sum(list_of_similarity_scores_for_turns_in_a_dialog) / len(list_of_similarity_scores_for_turns_in_a_dialog)\n",
        "        list_of_similarity_scores_for_every_dialogs.append(average_similarity_score)\n",
        "        context = \"\"\n",
        "        label = \"\"\n",
        "        turns = []\n",
        "\n",
        "        if len(list_of_similarity_scores_for_every_dialogs) % 50 == 0:\n",
        "            print(f\"{i}: Similarity Score for dialog No. {len(list_of_similarity_scores_for_every_dialogs)}:\", average_similarity_score)\n",
        "        # break\n",
        "    \n",
        "    # if len(list_of_similarity_scores_for_every_dialogs) > 5: break\n",
        "\n",
        "\n",
        "print(\"Count: \", len(list_of_similarity_scores_for_every_dialogs))\n",
        "similarity_score_baseline = sum(list_of_similarity_scores_for_every_dialogs)/ len(list_of_similarity_scores_for_every_dialogs)\n",
        "print(\"Average: \", similarity_score_baseline)\n",
        "print(list_of_similarity_scores_for_every_dialogs)"
      ],
      "metadata": {
        "colab": {
          "base_uri": "https://localhost:8080/"
        },
        "id": "88OYUooYcGWa",
        "outputId": "56c462a9-f2ec-4cb4-f03a-735f5e890230"
      },
      "execution_count": 6,
      "outputs": [
        {
          "output_type": "stream",
          "name": "stdout",
          "text": [
            "305: Similarity Score for dialog No. 50: 0.33320259605382196\n",
            "597: Similarity Score for dialog No. 100: 0.34341821501523656\n",
            "901: Similarity Score for dialog No. 150: 0.33614284581527476\n",
            "1186: Similarity Score for dialog No. 200: 0.3389923092866004\n",
            "1487: Similarity Score for dialog No. 250: 0.33712371453888196\n",
            "1812: Similarity Score for dialog No. 300: 0.3365132758518197\n",
            "2128: Similarity Score for dialog No. 350: 0.33844597904057977\n",
            "2417: Similarity Score for dialog No. 400: 0.3395773991626573\n",
            "2745: Similarity Score for dialog No. 450: 0.34303122636972666\n",
            "3036: Similarity Score for dialog No. 500: 0.3440167901226082\n",
            "3358: Similarity Score for dialog No. 550: 0.3422341349603451\n",
            "3673: Similarity Score for dialog No. 600: 0.34186818995147994\n",
            "3995: Similarity Score for dialog No. 650: 0.34100669432252934\n",
            "4321: Similarity Score for dialog No. 700: 0.3402522015377788\n",
            "4639: Similarity Score for dialog No. 750: 0.3396448607716091\n",
            "4949: Similarity Score for dialog No. 800: 0.339023196073249\n",
            "5277: Similarity Score for dialog No. 850: 0.33807590793419096\n",
            "5594: Similarity Score for dialog No. 900: 0.3392163479716498\n",
            "5915: Similarity Score for dialog No. 950: 0.3400533136538122\n",
            "6214: Similarity Score for dialog No. 1000: 0.34030739152421896\n",
            "6498: Similarity Score for dialog No. 1050: 0.33993862151777465\n",
            "6807: Similarity Score for dialog No. 1100: 0.34054517283456753\n",
            "7126: Similarity Score for dialog No. 1150: 0.33993931675923855\n",
            "7450: Similarity Score for dialog No. 1200: 0.3396403789847745\n",
            "7749: Similarity Score for dialog No. 1250: 0.33927103885840026\n",
            "8062: Similarity Score for dialog No. 1300: 0.33940077140538294\n",
            "8370: Similarity Score for dialog No. 1350: 0.3392682908715445\n",
            "8665: Similarity Score for dialog No. 1400: 0.3383580297951714\n",
            "8985: Similarity Score for dialog No. 1450: 0.33809183553775746\n",
            "9298: Similarity Score for dialog No. 1500: 0.33811337813608416\n",
            "9615: Similarity Score for dialog No. 1550: 0.3373141517367186\n",
            "9930: Similarity Score for dialog No. 1600: 0.3368004104014673\n",
            "10231: Similarity Score for dialog No. 1650: 0.3365198798302708\n",
            "10542: Similarity Score for dialog No. 1700: 0.3367233644983832\n",
            "10847: Similarity Score for dialog No. 1750: 0.336647590792207\n",
            "11154: Similarity Score for dialog No. 1800: 0.3367545766420312\n",
            "11480: Similarity Score for dialog No. 1850: 0.33621794612559563\n",
            "11773: Similarity Score for dialog No. 1900: 0.33654584040561086\n",
            "12070: Similarity Score for dialog No. 1950: 0.33678785126211735\n",
            "Count:  1958\n",
            "Average:  0.3386225622205415\n",
            "[0.3795688822865486, 0.34656005672046114, 0.30957099848559927, 0.27470305748283863, 0.2992877444183385, 0.3090810839305906, 0.32706389866951036, 0.3298770214120547, 0.3326381266117096, 0.3309638119134747, 0.31996024969746084, 0.31404371720713536, 0.3200881803109322, 0.32413766473189165, 0.32335258043474624, 0.3189376782140006, 0.3189962354145552, 0.31413106435967475, 0.3201581716824036, 0.3248166185888377, 0.32324787834261215, 0.3213216672098734, 0.32470289239516625, 0.3198575241052929, 0.3164982281989985, 0.314016166549401, 0.3130022703837126, 0.3162809172530233, 0.3170872472581409, 0.3178120012572735, 0.31611175239086153, 0.3123388072696104, 0.3195000402243335, 0.32013204478513657, 0.3201016649983606, 0.3197754343251153, 0.3195434292378627, 0.31864890781541666, 0.3179862220562866, 0.3165112732040907, 0.3197683185415, 0.32036096077146275, 0.3223889845566681, 0.3227844218817655, 0.32100892829008565, 0.32253564639416127, 0.3231357556771007, 0.3273626090481928, 0.330851484593004, 0.33320259605382196, 0.3349274636421817, 0.3364527435757243, 0.3365928954016303, 0.3380104148120855, 0.3388160332696716, 0.33682276753951673, 0.33709234300388896, 0.3375473302604903, 0.33864924364482585, 0.34092142733106434, 0.340696790164991, 0.34050105733578984, 0.3421672068234757, 0.343322288249751, 0.3431113880419295, 0.34420629123235075, 0.34320940095197244, 0.3431360416961401, 0.3419406093755522, 0.3409943227475218, 0.3418235299427123, 0.3425127082814773, 0.3430611723294807, 0.344029956697716, 0.3442800517993718, 0.34395469468257395, 0.34404716125485596, 0.34372032281816384, 0.34303865523567617, 0.34287182235108743, 0.3440690684134183, 0.3452673462266573, 0.3444601519968346, 0.3437722416220629, 0.3453585106156115, 0.3448752379599036, 0.34424636509795564, 0.344505111872443, 0.34566059208750616, 0.3455323863602071, 0.34526213649081466, 0.34375079272223963, 0.34500908678331016, 0.34500789884214583, 0.3445739409549854, 0.3434427561839988, 0.3433461641521542, 0.3434694281596149, 0.3433038796820502, 0.34341821501523656, 0.34374815307803885, 0.34314710675828686, 0.34388364652571946, 0.3432033825695467, 0.34372685094898064, 0.34497665483008993, 0.34450457239056426, 0.3439505054284047, 0.3444180622646, 0.3434222846747117, 0.34431569450666344, 0.34414356472518515, 0.3442392744113091, 0.34395332250631216, 0.3432686314093215, 0.34261907049304363, 0.34207601765847306, 0.3416629553255108, 0.34060143715249785, 0.3392775517470352, 0.3391341649700661, 0.3385977626705777, 0.3380212212404407, 0.3381646490988367, 0.33761179744420183, 0.33759552530704007, 0.3383779757467987, 0.3376656870929723, 0.3373645245841464, 0.3375646659497465, 0.33838628014863126, 0.3386647786935952, 0.3388080165027259, 0.33911627931327026, 0.3386933813177857, 0.3390450035459804, 0.33889355994895803, 0.338429313692861, 0.33803108630608547, 0.3373794735771439, 0.33710494395872614, 0.33607961363933403, 0.33615747792484035, 0.335725318524458, 0.3358181372404235, 0.3365052221596918, 0.33727476354415414, 0.3373100016795908, 0.33673606261212735, 0.33614284581527476, 0.33622951037558163, 0.33600046447307885, 0.33699186965823175, 0.33711553004532085, 0.33740713028087493, 0.3374646419502549, 0.3379040983834423, 0.3384206439619205, 0.33868607761537506, 0.33932265631544095, 0.3396809899788485, 0.3396514764770835, 0.3399845264646985, 0.3398253590683807, 0.33951844906758927, 0.33908947546759205, 0.34028071429532164, 0.3404176011755545, 0.34044255136796303, 0.34015217702744405, 0.3400066658041166, 0.33955258708032493, 0.33948970074550466, 0.3395948845244958, 0.339281652427855, 0.3394032819390976, 0.33871540017812235, 0.338481981722741, 0.33912224373199196, 0.339395152632561, 0.33918600362188356, 0.3390412768323489, 0.3391471171446822, 0.33974814628525407, 0.3393225805952757, 0.33948735974669136, 0.33933238958296874, 0.33916667884651935, 0.33903746638545945, 0.3388143573087496, 0.33849759411665303, 0.33825705436162007, 0.3382667134603557, 0.33842799240526333, 0.33880541411378484, 0.33871619030833244, 0.33874132503854465, 0.33858367306110115, 0.3386546730416248, 0.3389923092866004, 0.3396172953685324, 0.33956779052813846, 0.33932371636314046, 0.3393579389030837, 0.33892017210848996, 0.3385893061185836, 0.3388325443124249, 0.3388593361876105, 0.3383412305534747, 0.3380399205552313, 0.3380510161562014, 0.337876658128361, 0.3384788032407351, 0.33884101824365637, 0.33932428530884856, 0.33993744798651, 0.3401021406970034, 0.33970054338880434, 0.3389577393829936, 0.33886136756552243, 0.33872822205197406, 0.33834270572039027, 0.3380395474109975, 0.33761247940752165, 0.3371456946508651, 0.33681971913214653, 0.3371178764877394, 0.33728807799862737, 0.3376172438714203, 0.33778980575589124, 0.33835468047164285, 0.3382395337956647, 0.33792054445416314, 0.33779406806016815, 0.3379249685856381, 0.33766110055016124, 0.33768657571323063, 0.33738378630301286, 0.3374339037628382, 0.3378059768115363, 0.33748369125094035, 0.33714523327417645, 0.3372113475204029, 0.3375558242667145, 0.33731809625489084, 0.33741147272548705, 0.33703879219428506, 0.33676072075331615, 0.3368712409176988, 0.33712371453888196, 0.33687169111417886, 0.33699445240944126, 0.33708194914133105, 0.33744674249917583, 0.33702427884208896, 0.3371534431944044, 0.33702742368526134, 0.336313585128669, 0.33608233438789115, 0.3356369281049902, 0.3357114255280447, 0.3355880794139123, 0.33628371249352185, 0.33664766861895157, 0.3369762241507245, 0.3371575544407145, 0.33736520558176825, 0.33759752894428924, 0.33735204021280696, 0.3376142969205331, 0.33701587144915873, 0.3369349344473065, 0.336853322681035, 0.33704964032310564, 0.33659665283607687, 0.33678714804962473, 0.3367308110781797, 0.3367767013555904, 0.3368227272333313, 0.33670388625585196, 0.33673114032831014, 0.3366941307102257, 0.3365564678944298, 0.3362308147597557, 0.3362975349551068, 0.3360676541600162, 0.33605352626343454, 0.33608227219518233, 0.3359097366780469, 0.33581751461538734, 0.33604241601741786, 0.3358533149342541, 0.3360456991699108, 0.33622927938395836, 0.33602000780357727, 0.3363318319804551, 0.33622408222682515, 0.33643652699020926, 0.33636030228267955, 0.3365132758518197, 0.3365643847989594, 0.3368327417273201, 0.33730945095675957, 0.33753038958715736, 0.337506696740428, 0.3373977948229996, 0.33753431808095075, 0.3375371144984466, 0.3377159101098234, 0.3375657437851032, 0.33746197780616005, 0.33772806410176553, 0.3379636029346716, 0.33793312096101147, 0.3376331559667438, 0.3372946446197051, 0.3376026788715783, 0.337808191019425, 0.33806160112482714, 0.3381746384603231, 0.3384172150393557, 0.3386213673785123, 0.3385912847467603, 0.3385792954977401, 0.3391823874587298, 0.3391771292216989, 0.33904505950330277, 0.33913544515413363, 0.339176595845577, 0.3390679851072165, 0.33917663721219593, 0.3389420737517025, 0.3387751610494322, 0.33847924399385454, 0.3385937728447701, 0.3386631039211513, 0.3384733437026881, 0.3385087778267263, 0.33851236963901915, 0.3383448915298752, 0.33844817015949796, 0.3378477879451778, 0.3374516705897884, 0.33730843455373327, 0.3374412649120951, 0.3376857494708544, 0.33778552061424627, 0.3378676073321848, 0.3382499995321021, 0.33844597904057977, 0.3384499080899461, 0.3381334064862266, 0.33798014409424065, 0.33787173951463884, 0.3384577830905348, 0.3383400583634586, 0.3385769523695618, 0.33884642763496564, 0.33907897421934596, 0.3391072177137498, 0.3390661922585464, 0.33896508337175857, 0.3388382447176792, 0.3388106798476728, 0.3388692514490162, 0.3388156771688237, 0.33890926663069076, 0.33878765319794457, 0.3389016494355446, 0.33887198340385727, 0.33895465376144723, 0.339013532360086, 0.33905710882292345, 0.3389511014563911, 0.33886537589279325, 0.3389692573662792, 0.33907397043809384, 0.33945413127130497, 0.339576855965586, 0.339674349737691, 0.3395799635641041, 0.3395587714167838, 0.3395688953952256, 0.33953981288098434, 0.33964281791382667, 0.339612346085869, 0.33962583134252383, 0.339636298488551, 0.3392190211883785, 0.3390555953299153, 0.3392028298140844, 0.3394920624615181, 0.3393631387008902, 0.33941636321096613, 0.3393464082251881, 0.33952812918567843, 0.3394655103734071, 0.3394001329018956, 0.33938841439015693, 0.3395773991626573, 0.33978935679132793, 0.3395443199488213, 0.3397567480904913, 0.33955221030626404, 0.3397521464650374, 0.3398990966356909, 0.33997092617044705, 0.3398925094344762, 0.33983979327942426, 0.3399938313288977, 0.3403707772129956, 0.34087318037649633, 0.3408906927321868, 0.3408083290106569, 0.3414599225435659, 0.34175961221089524, 0.34190446278632514, 0.3418348538182523, 0.3419027088427527, 0.34179300997039413, 0.34174604394637403, 0.34181175287449717, 0.3421802422751172, 0.3422810677236591, 0.3421591113360408, 0.3421000461615478, 0.3420332878674562, 0.3421077612584261, 0.3422217033896238, 0.3420977453033323, 0.34226873583574696, 0.3425318040740143, 0.34260840539372495, 0.3426822215652856, 0.3427969836135964, 0.3430331359201737, 0.34308256211765475, 0.34326266284649454, 0.34301272099889885, 0.3428253201258545, 0.3428055575024614, 0.34281917047529925, 0.3425420496008686, 0.3424298878508683, 0.34248365678906156, 0.34258827823145754, 0.34280587645021493, 0.3430583931163548, 0.3430210691482427, 0.34303122636972666, 0.34299077678917, 0.34301877798645575, 0.3430869238267956, 0.34292162383851443, 0.3431035433200494, 0.3433167942329786, 0.3433772725364017, 0.34351191990772495, 0.34340682842979564, 0.34331061236313937, 0.3433262786988873, 0.3432839500791995, 0.3430184512497794, 0.34294051686111493, 0.3429668354500562, 0.3430284549599522, 0.34298453918255517, 0.343015347872921, 0.3430785671265829, 0.34311756956118766, 0.3429552308533613, 0.3429024780864707, 0.3427118415751424, 0.3426466905252409, 0.34308753749394266, 0.3433298638262507, 0.3433960101116755, 0.343554662902736, 0.34346724222495445, 0.34318509145352716, 0.3428831989604127, 0.3428547681435274, 0.34303151025991313, 0.34332756791516383, 0.3437539999860493, 0.34409186235398626, 0.3440958031690416, 0.3439262002785469, 0.3436746733269385, 0.34347320024899725, 0.34373334195306776, 0.343864770688765, 0.34388819801404213, 0.34392413392484306, 0.34403272616321934, 0.3439565286461103, 0.3440413488791919, 0.3440382724743074, 0.3440376143668941, 0.3440167901226082, 0.344090130736773, 0.3439594886921251, 0.3441772934633727, 0.34417074816927207, 0.34435743449654055, 0.3443075333004766, 0.3441807746124283, 0.34422368428912037, 0.3445347973733669, 0.34477601930403096, 0.344665539739438, 0.34446654555634515, 0.3444674883837788, 0.3444658920901525, 0.344418380492819, 0.34437423376351645, 0.34410120255045856, 0.3436800139026333, 0.3437036677972132, 0.34357200861545806, 0.34369958671132655, 0.34356325290813716, 0.34365895528379664, 0.3436258954309072, 0.34347463349473123, 0.34330092832346626, 0.34320354342519255, 0.3431949060827561, 0.34315820317672074, 0.34298043249287946, 0.3428431526443405, 0.34279221102713, 0.3427985768284371, 0.3426255014285667, 0.34276288598048493, 0.34262973540233355, 0.3426310256510457, 0.3426427831914469, 0.34249743713793585, 0.3424357124757007, 0.34237432848055366, 0.34232168614200087, 0.3423557584573156, 0.3423191845731579, 0.3422475395718857, 0.3418847366985513, 0.34190176337899925, 0.34200776564121554, 0.34217449815837175, 0.3422341349603451, 0.34223570936083886, 0.34212133404398326, 0.3420809581392087, 0.34192044330194066, 0.3420046951363955, 0.341814256193864, 0.3417973619573934, 0.34181210423370034, 0.34184615920224776, 0.3418020650628295, 0.34181631882005886, 0.3417688732578481, 0.341588067304171, 0.3413026521691, 0.3413532148958565, 0.3414508005185416, 0.34134775760465486, 0.34115244483126306, 0.3413548784269807, 0.34125699573409957, 0.3411508548344585, 0.3411628085905338, 0.34147150333973436, 0.3414267995380198, 0.3413538286379683, 0.3411798220974694, 0.3412088508912883, 0.34106240372955987, 0.34119178032503583, 0.34129207281804474, 0.34127523079485744, 0.341281883898969, 0.3415282380707249, 0.3415857074416431, 0.3417143617112083, 0.34169743747899883, 0.3417924164345655, 0.3418677034595636, 0.3419181694167564, 0.3419440928363413, 0.3419986218421253, 0.3420538869165738, 0.34222594308829846, 0.3422675694323605, 0.3421801708063048, 0.3419797268461001, 0.3418158639628802, 0.3417034082556572, 0.34180014862182817, 0.34186818995147994, 0.3419440776709071, 0.3419887307692176, 0.3423698970824934, 0.3425247690293629, 0.34262088419954434, 0.34259501425135636, 0.34253750159373886, 0.34245889616014674, 0.34251050641408554, 0.34257029137900347, 0.3425257460312127, 0.34249274431183024, 0.34257153412436187, 0.34243861037320594, 0.34240115496493007, 0.3424275948527176, 0.3422595136018508, 0.3421608702875438, 0.3421348046975846, 0.3419373437884983, 0.3417673210545457, 0.3416876619641436, 0.3415334192849062, 0.3414906687712659, 0.3415393882093531, 0.34173418116539744, 0.34177850882908556, 0.34170762990233083, 0.34182002159207964, 0.3418987973146179, 0.3419051305149289, 0.34190509165121125, 0.3416844435719759, 0.3414458084911072, 0.3415178241285806, 0.34158523994497003, 0.3416290033115762, 0.3414980593806646, 0.34166733475088396, 0.3415964836017148, 0.3415810964800223, 0.34170252754256075, 0.341606944305919, 0.3417597176607716, 0.3416381440766278, 0.34174334498785014, 0.3414137387892187, 0.3412908683819832, 0.34123748398658404, 0.34100669432252934, 0.3408898341463883, 0.3409365875334947, 0.3407080806547125, 0.34052767754974206, 0.34064361821389905, 0.3405535243992847, 0.34052328022142975, 0.34035144047224947, 0.3405344389807364, 0.3406488632395032, 0.34060063245310196, 0.34045905812582206, 0.34051641205844213, 0.3406060537962999, 0.34060166370677325, 0.3405951292445974, 0.34071845929679195, 0.34078045499470533, 0.3406063160846616, 0.3405158304223602, 0.34078827406749124, 0.3409696291893852, 0.3408767523629716, 0.34077055533611716, 0.34076503226327515, 0.34061846164136783, 0.34046304552275186, 0.34030125535911804, 0.3402573668841376, 0.3402337235537889, 0.34061483244167007, 0.3408308953993625, 0.34086460794832074, 0.340740959216002, 0.3407019039996233, 0.3407164778267862, 0.34065220440555943, 0.3406003118569688, 0.3405244020133697, 0.3405080402086408, 0.34052223226352113, 0.3404962296393728, 0.3405081772657888, 0.34050174866981947, 0.34041323875324553, 0.34036727513139375, 0.3402636794546758, 0.34021685764798276, 0.34023395220827196, 0.3402522015377788, 0.34027027893180256, 0.340407899273785, 0.3403664580946346, 0.3403838447815839, 0.3403166265911225, 0.3402458656244185, 0.3402712968417534, 0.3401212800449807, 0.3401801887089912, 0.34013854856425585, 0.3400930520196894, 0.3401446434964468, 0.3401747632627816, 0.3402490411733555, 0.3401773274980477, 0.34020625601499055, 0.34011645172643856, 0.3400759160186945, 0.34000321436835534, 0.33984187535633253, 0.3399603848582011, 0.34003338920315446, 0.3398543081465194, 0.339754334887508, 0.3396324036527662, 0.3396186160813935, 0.3396592045830428, 0.3396467367900729, 0.3397607513363992, 0.33973500413699736, 0.33967041303864287, 0.33965924552272453, 0.3396726336375219, 0.33976993715708126, 0.33993439337294457, 0.3401217319122692, 0.33997679194987523, 0.3399894176872079, 0.33995914860698273, 0.3398763754749797, 0.33988813460155787, 0.3398033931999806, 0.3397052011357942, 0.3395511469778443, 0.33962349136599945, 0.33959516064339995, 0.33958626937159453, 0.33955343674696453, 0.33963720272793596, 0.3396448607716091, 0.33954498535747635, 0.3394715069383247, 0.3396170327263033, 0.3397559336366861, 0.3397412488366368, 0.3396978411503251, 0.33964359776174147, 0.339598497131205, 0.33962016908478077, 0.3395916472284141, 0.3394170728778342, 0.33931873019122616, 0.33927991672630897, 0.33939000599893787, 0.3392753958380311, 0.33940420218893536, 0.33934625651150774, 0.33944840935613224, 0.3394040485586998, 0.33939746823960226, 0.3394991165956201, 0.3395396125872571, 0.3396232141982908, 0.33966031864086277, 0.3396687579249535, 0.33966455721207306, 0.33958807680881525, 0.3394893578181467, 0.33945024421054865, 0.33946430740130384, 0.33941172967933547, 0.3392701150368723, 0.3393515856529792, 0.33954340568269653, 0.3395771400401564, 0.3395503844164879, 0.33949103031756434, 0.33941789731178734, 0.3394618429260892, 0.33946560237863965, 0.3393766574855688, 0.33936484626406055, 0.33930963684195686, 0.3393675531126891, 0.33925751144263516, 0.3391898614169946, 0.33925257665888353, 0.3393434747528833, 0.33914788581546595, 0.339023196073249, 0.3388308721804187, 0.3388204748283283, 0.33872942736576606, 0.3385972875151323, 0.33879392658912294, 0.33889126013413834, 0.33875006926586126, 0.33865448234196704, 0.33876000151993096, 0.3386622625702844, 0.3383716125957742, 0.3381118925573955, 0.338141651459666, 0.3382796063018641, 0.3382347541446946, 0.3381485978314092, 0.3383031669792323, 0.3383526728675615, 0.33827506512024935, 0.33822933848216385, 0.3382477900900869, 0.33824284120073683, 0.33817700440981685, 0.33810958167822136, 0.33821231907150817, 0.3381901192692818, 0.33815248696998434, 0.338283711310944, 0.3381988760469395, 0.3380357457028615, 0.33798852840699767, 0.33794323465144005, 0.337904805556486, 0.3381296355941707, 0.33815877789668536, 0.3380983106212232, 0.338231976813488, 0.3382902089973124, 0.3382865818388273, 0.3381809589331153, 0.33809632666192335, 0.3380419815068453, 0.3378998676895892, 0.3378933909011612, 0.3378536163678842, 0.33796341075489045, 0.33801811765045137, 0.33807021324431696, 0.3380701834088077, 0.33807590793419096, 0.3379996885767589, 0.33794967897064937, 0.33790918564210204, 0.3378730501995913, 0.337881855526492, 0.3377944622753483, 0.33788393650085385, 0.33789620882318344, 0.33785960027242595, 0.33770455559489115, 0.33766732300377295, 0.33764530613279015, 0.3375795210890458, 0.33774592647876217, 0.3379488591417957, 0.3380968676535446, 0.33808425666056824, 0.33820755900249544, 0.3381535338657873, 0.338196384191285, 0.3382307464835046, 0.3383717166466559, 0.3384085100140888, 0.3385030476039294, 0.3385434843384296, 0.3386644270488719, 0.33878279493691016, 0.3388464358503053, 0.33880705335507116, 0.33880401584118125, 0.3388410789954109, 0.3389244100607414, 0.33896718814410065, 0.3390057802921927, 0.33904764467446685, 0.33911914673904486, 0.33919685257103516, 0.3393159788325625, 0.3393339094941619, 0.33938145002065595, 0.33933340033690546, 0.33932250387263985, 0.33937538926875604, 0.33932747336178604, 0.33936873039983395, 0.3393237755047236, 0.33917220473134824, 0.33910903769154177, 0.3391526834138596, 0.3392163479716498, 0.3391369118464254, 0.33913000613499145, 0.33905001369276605, 0.3390331077714049, 0.339023649362661, 0.33908740108716756, 0.3390217803051552, 0.33884905370999174, 0.3387493005985657, 0.3387638634638225, 0.33880632632568936, 0.33883263810751363, 0.33897136813303086, 0.3391305502647202, 0.3391987747874213, 0.33928070462789495, 0.33941172399205316, 0.33949543829928197, 0.33947127859142945, 0.3395152704024094, 0.33942381830335555, 0.3393344565859996, 0.33934114899737355, 0.3394017087115568, 0.33936044241421465, 0.3392775327984769, 0.33936804866989356, 0.3394984113779283, 0.3395152208041992, 0.33949952527940847, 0.33929676021482524, 0.3391949180910696, 0.33913757837627784, 0.33915791003027757, 0.33921680892012, 0.33924330942630093, 0.3392829764505973, 0.3392696103747931, 0.3392733418119636, 0.3393163443126552, 0.33922877901997717, 0.33917627023615143, 0.33919954574008704, 0.33921028688928223, 0.3393752820474789, 0.33940281688359497, 0.3397198009295239, 0.3399077478374462, 0.3399970745780412, 0.3400533136538122, 0.3401561456412629, 0.3402940821658795, 0.34033645666608325, 0.34037664029648523, 0.3403442668660442, 0.34035698566834405, 0.340345220049225, 0.340294189380039, 0.34027097200738876, 0.3401628532413448, 0.3399374852058664, 0.33990963347709807, 0.3398511780699624, 0.3398359807830716, 0.33971209346455333, 0.33961569682058157, 0.3396453008589637, 0.3395989564478022, 0.33951443027792566, 0.33947304327463873, 0.33958854548328865, 0.33968102968152547, 0.3396676719282099, 0.3396745194498653, 0.3396939636306998, 0.33981571183593523, 0.3398550041062743, 0.3399263141045715, 0.33995232707904777, 0.3400979089959395, 0.3400843647802632, 0.3401479191739783, 0.3402157093163201, 0.34020554759731697, 0.34017978849763475, 0.34013088970222716, 0.3400917549694001, 0.34013040591865135, 0.34016065774835774, 0.34008318281502914, 0.34007004999140655, 0.3400439399165816, 0.3399788278537469, 0.34002711694715904, 0.3400664818930399, 0.3401350538595655, 0.3402057999365756, 0.34024121574991506, 0.3402800482229425, 0.34030739152421896, 0.34017913503562164, 0.3400759419872543, 0.3401266827991153, 0.3400554605544048, 0.33999661549898375, 0.33993793663462335, 0.3400362181753582, 0.3400284166473969, 0.33993755085002025, 0.3399723634866726, 0.33988989096028294, 0.33987897492766506, 0.3398855295178364, 0.33986956044614014, 0.33998981820282964, 0.3399380649666034, 0.3399263334888015, 0.3398868091940583, 0.33995537144676496, 0.34009795449644703, 0.3401022125570649, 0.34011181415515446, 0.3401475338390924, 0.34008134685378166, 0.3400712746734065, 0.3400435490221999, 0.340076080677554, 0.3400958803800791, 0.34004257582823544, 0.34004598967059513, 0.33998980409335516, 0.3399638356997847, 0.33996997596143047, 0.33996553112165045, 0.3399629123290992, 0.34000160613453195, 0.340028975487649, 0.34015300601601406, 0.34010046233130947, 0.33991047235266786, 0.3398983841279231, 0.3399177656240434, 0.3400542045677058, 0.34004572728971716, 0.33995444704413424, 0.3398566496469715, 0.339826357065424, 0.339794130532075, 0.339843552670059, 0.33993862151777465, 0.3398700267373668, 0.33985046087449566, 0.33982394821713274, 0.33976848522108405, 0.33973749519717267, 0.33971594283371526, 0.33971439166536194, 0.33976371850475073, 0.33999294010481534, 0.3401441449061368, 0.3401590765959199, 0.3401694743416116, 0.34023686299647754, 0.3401291486030358, 0.3402756554099886, 0.34027223423422737, 0.34035012480966853, 0.3403757820930332, 0.3404478893695616, 0.3404825367464037, 0.34047065852893027, 0.34043362800484644, 0.34045344649918297, 0.3404785985195767, 0.3404181363257138, 0.34042146682576924, 0.34053890013167565, 0.3405341489598642, 0.340535535463847, 0.34042014077984944, 0.34040575390809735, 0.3404699319056457, 0.3404876034097531, 0.34058518172620134, 0.34056500033140313, 0.3405891874898017, 0.3406007823162169, 0.3406475605883311, 0.3407144465716729, 0.34076419463935187, 0.3406477489047168, 0.34051094936421494, 0.34055496799620305, 0.34053535845300786, 0.3404497628605886, 0.34037716496176, 0.3404515285018017, 0.3404721810156466, 0.3405171924937172, 0.34054517283456753, 0.34054507183174787, 0.3405784519894188, 0.340484652233675, 0.34034937324140296, 0.34030658609134823, 0.34042454252899024, 0.34042121236450884, 0.34038738126760626, 0.34031939814638906, 0.34035145880828716, 0.34033771757128495, 0.3402238148422828, 0.34021358130275164, 0.3400879624322789, 0.34005183838885045, 0.3400318215741815, 0.33998631915040683, 0.33985587121158944, 0.3398219902077512, 0.3398291690228896, 0.33988420544923037, 0.33987179492245073, 0.33982971531225753, 0.3397409546414753, 0.33971483358000987, 0.3397457915072188, 0.33984512379174286, 0.33984442546557647, 0.33991360004510063, 0.33999223895035874, 0.3400625929785296, 0.3401425718112844, 0.34022656861180334, 0.3402675089986722, 0.34015014333258986, 0.3400634908878095, 0.3399965822878987, 0.33999431102674943, 0.3400398822599697, 0.3399687926178208, 0.34004035751166384, 0.3399799359329008, 0.3398755415966521, 0.3397720986843273, 0.33971213389716487, 0.33970458634187223, 0.33986610622947705, 0.3399024917860548, 0.33994654015519343, 0.33993931675923855, 0.3399504475932091, 0.3400123969083052, 0.3399927986206413, 0.3400059755866563, 0.3400088530041631, 0.34001294192926923, 0.3401024037979623, 0.33995829772752656, 0.3399732813341224, 0.3400052951297125, 0.33996864598089704, 0.33997105483836926, 0.33996930971449313, 0.3400416391640943, 0.3400894348245911, 0.34006714009380057, 0.3401369639788256, 0.34010686898170833, 0.340154680359484, 0.34003941649142483, 0.33996628075145846, 0.3399995359719074, 0.34000332203114525, 0.33993266563620145, 0.34003819321911816, 0.34005821469216024, 0.3399948276977717, 0.3400609519778561, 0.34016894972649603, 0.3402607089927362, 0.3402201637614007, 0.3401706306538962, 0.34017307719317735, 0.3401808049491757, 0.3401722401554315, 0.34013604942137254, 0.3400813029269678, 0.3400773177476403, 0.3401167295436529, 0.3399986974981248, 0.34005128502735915, 0.3400442637415037, 0.34005358748670134, 0.34005071969724954, 0.33996752376061457, 0.3398535070613478, 0.33982528039340465, 0.33978479270204504, 0.33972671910484936, 0.3396403789847745, 0.3396378412608484, 0.3396824369402173, 0.3395936985781511, 0.3395937087421125, 0.3394621033736672, 0.3394560078860264, 0.33939687311485345, 0.33927699491331004, 0.3392991863773979, 0.33928302475615557, 0.33931817255159546, 0.3393006699639937, 0.33932948755634534, 0.33940248498254333, 0.3393448797464311, 0.33933614228369346, 0.3393452031961398, 0.3394086597249881, 0.33952411317951514, 0.3395074779181296, 0.33954948023481446, 0.33955297862735817, 0.3395321769091724, 0.3395051321424245, 0.3394940190992766, 0.3394796339330067, 0.33944399316690005, 0.3394201412319687, 0.3394152752023635, 0.33944136790919494, 0.339434874467498, 0.3394827004405045, 0.3394341928798636, 0.33940410069654897, 0.33935781442239843, 0.33928298212937763, 0.33936937619996094, 0.33931842895734626, 0.3392728434993159, 0.339260176735992, 0.3392380741997105, 0.33917586778354397, 0.3391208940813292, 0.33914846069029464, 0.33918846813684056, 0.3392485649003268, 0.3391623276113574, 0.33926453177753296, 0.3392871451671487, 0.33927103885840026, 0.3391736924691027, 0.3391786433646459, 0.33926370932985495, 0.3391926238026351, 0.33921012466673595, 0.33917473735174675, 0.3392419012752254, 0.3391965299476653, 0.3391644800825953, 0.33919086318750014, 0.33916131267044325, 0.3391533783180307, 0.33916009749695203, 0.3391465114988244, 0.3391987363329559, 0.33924697957515604, 0.3392526871465285, 0.3392084939346138, 0.3391440094821344, 0.3390487556466385, 0.3390276613988747, 0.3390327057187382, 0.3390078779402378, 0.3389796849488553, 0.33908163723499957, 0.33908017937394425, 0.33904485505233983, 0.3390686769691784, 0.33909576195068697, 0.33912817904894577, 0.33909211799805195, 0.33904850487554544, 0.3390461370641431, 0.3390116915314851, 0.3390457029366814, 0.3390172607582856, 0.3390093852945546, 0.3390049392966388, 0.3390729060920421, 0.3391943516262528, 0.3392710865461632, 0.3393057702471237, 0.3393240335501264, 0.3393623878901262, 0.3393428726953259, 0.3393988761461273, 0.3393866976605907, 0.3393241018836635, 0.3393855827116239, 0.33940077140538294, 0.3393791780284291, 0.3393252517618866, 0.33936017003154734, 0.33934269414547386, 0.3394626302879657, 0.33954224036281955, 0.3396394550710696, 0.3396963462922017, 0.3397644703604793, 0.33973735156443824, 0.33973543152653846, 0.33969145399665157, 0.3396862868833939, 0.33964910364841205, 0.3396286178107145, 0.3396739307827504, 0.3398207351526603, 0.339931214372026, 0.3398626024142722, 0.33978524344083566, 0.3398420130355654, 0.3398995981388237, 0.33984767151137873, 0.33980019751392615, 0.33972138372011634, 0.3397228782373089, 0.3396851650913343, 0.33971844180004207, 0.33963566814389906, 0.33960831601021113, 0.3395588384225685, 0.33953725829384496, 0.3395115213606378, 0.3394895361845455, 0.33953981034285063, 0.3395254346112807, 0.33957553024843307, 0.33965384514705765, 0.3395981000305273, 0.33953243838852776, 0.3395169199623635, 0.3395000088136414, 0.33939281220212086, 0.3393756488951997, 0.3393717338065398, 0.3393496123827474, 0.33935663142563277, 0.3393376666135554, 0.3392981694728054, 0.3392682908715445, 0.33921167428640164, 0.3391523178876111, 0.3390928600782587, 0.33911349343989305, 0.3390252969825267, 0.33902796851349254, 0.33899563297012386, 0.3390397173222621, 0.3390573395027261, 0.33899113876549036, 0.33905276283114316, 0.33894526014729776, 0.33896670379493626, 0.3389581268574682, 0.33890332163359493, 0.33888191717496796, 0.3388147600697499, 0.3388138811003494, 0.3387951482346105, 0.33876272406305913, 0.33866608651227054, 0.3386034733369257, 0.33855425967075164, 0.3385426946446584, 0.3385199221772783, 0.3383888934148951, 0.33842004272660514, 0.3384626624384026, 0.3385819074637953, 0.3386334134821356, 0.338690869054018, 0.3387493053032145, 0.3386988830553086, 0.33867869507731674, 0.3386658642150558, 0.33874812009584704, 0.33868548684775973, 0.3385851856842628, 0.3384442186880371, 0.338424190057811, 0.3383987144720765, 0.3384424595996344, 0.3384748097104082, 0.3384204759292538, 0.3383736996380312, 0.33840285304940243, 0.3383914167580941, 0.33842968855386923, 0.3383736656314417, 0.3383580297951714, 0.3383281292862203, 0.3383426130526622, 0.3383072864398491, 0.3383443851126345, 0.33831265422081225, 0.3382554563961705, 0.3381972797110222, 0.3381760460596996, 0.3381207450223089, 0.3380987388274385, 0.33806074970770816, 0.33807568704945434, 0.33815401098701037, 0.33814920280122335, 0.3381403746979846, 0.33815995005523297, 0.3381152450560868, 0.33803884593826533, 0.33806513102621316, 0.33814476845699576, 0.33807466312752865, 0.33804377882920805, 0.337982709330892, 0.33795179484838145, 0.3379907762450974, 0.3380748108996946, 0.3380314733127026, 0.3380188268896351, 0.3379630427935868, 0.33787683330461993, 0.33790008145620654, 0.33791091275907736, 0.3379580309011413, 0.33792109696113215, 0.33790805281107245, 0.3378820284528654, 0.3378881758600808, 0.33787004287086314, 0.3378979401537766, 0.33784279438665643, 0.33793088403341986, 0.33798716816107444, 0.33802137307935215, 0.33806057771553544, 0.3380972816963943, 0.33806135982636726, 0.3380925840443411, 0.33811229342239985, 0.33810550442778553, 0.33809183553775746, 0.33807284148163697, 0.33806781707626904, 0.3381164299651762, 0.33817422545969295, 0.33815046975271196, 0.3380822075377128, 0.3381110437359146, 0.3381363088570075, 0.33814341476891785, 0.3381248747174036, 0.3381752282729789, 0.3381893080197355, 0.3382747896150937, 0.3382944086620408, 0.33829792360754124, 0.3382819492753213, 0.33823198114572245, 0.33814525425677955, 0.33817679898904696, 0.3381875012104934, 0.33821778335685326, 0.3382211117198547, 0.33823427083105506, 0.33825645001111737, 0.3382205068431978, 0.3382272013802252, 0.3382977560934438, 0.3382363079376405, 0.3383407663516745, 0.3384039887554559, 0.3384182833873973, 0.33844738369087296, 0.3384421670823986, 0.3384309739175725, 0.3383293988356245, 0.33825770515035725, 0.3383118216778589, 0.3383627679460599, 0.33833278076685064, 0.3382696452256355, 0.33830066218244487, 0.33825415458970165, 0.33823800559692013, 0.338227960442514, 0.338208788001784, 0.3381141808182901, 0.33808321074279224, 0.33812927787719266, 0.33810671474632265, 0.33811337813608416, 0.3380623961845483, 0.3380036901830219, 0.3379340215166431, 0.33790398876991823, 0.33788161043452514, 0.3379075564671436, 0.3378966774894317, 0.3378044104628214, 0.3379102296417137, 0.33797088478593923, 0.33796623559661504, 0.3379481626508885, 0.33784792970887795, 0.3377836283825726, 0.3378199803068152, 0.33779802249386837, 0.33783869714338566, 0.3377540407712623, 0.3377505933385305, 0.337740224438587, 0.33780206726476514, 0.337848077298927, 0.33785387714387516, 0.33779474074772664, 0.3377961089271423, 0.33768908719823926, 0.3377663606545399, 0.337780092349095, 0.3377312129574265, 0.3377042269745609, 0.3377163980532558, 0.3376977428820186, 0.3377145424349991, 0.3377644882542614, 0.33783139526530126, 0.3377887025107432, 0.33779876482090704, 0.33779889189841217, 0.33766851296873995, 0.337532569145618, 0.3374915351334792, 0.3374430295426648, 0.33742412541785677, 0.33744116239588157, 0.33748046625792344, 0.3374371744619677, 0.33735824748116694, 0.33732947549058934, 0.33739663131894826, 0.3373141517367186, 0.3372949496959094, 0.337277871939212, 0.3372761994275769, 0.3372361337683134, 0.3372361167799102, 0.33727811123673934, 0.3372659633288898, 0.33730048738099255, 0.3372546331382972, 0.3371962010608266, 0.33708002143240784, 0.3370840495387671, 0.33706029933082404, 0.33700271686806954, 0.3370128186648359, 0.3369044877676588, 0.3370115006136294, 0.3370138410081129, 0.3370138538875, 0.3370422955026225, 0.33698621246836047, 0.33689928184124907, 0.3369375781712702, 0.33696057499664633, 0.3369430552380676, 0.3369282186475282, 0.33687735935912066, 0.33680583251710594, 0.3368533499555249, 0.33684662060769743, 0.3368072256918666, 0.33676983769465074, 0.3367618708266476, 0.33680527239814323, 0.3368051421344871, 0.33680370877105464, 0.3368370305661698, 0.33686430491193337, 0.3368834398961532, 0.3368838211456366, 0.33682194649150543, 0.3368018708588795, 0.33682427871045334, 0.3368430282151213, 0.3368060855408117, 0.33689796045208176, 0.33690551170215605, 0.33686226578292244, 0.3368219670857906, 0.3368004104014673, 0.33681455607385247, 0.33682479286077116, 0.33679427305666415, 0.33669965696285675, 0.3367706520462522, 0.33673296588218005, 0.33676487459178794, 0.3366677566643886, 0.33673244828388127, 0.3367766663162861, 0.3367372154689544, 0.3367362125251077, 0.33677925279923004, 0.3366865970128733, 0.33671597452015756, 0.33665019168356536, 0.3366401989740616, 0.3366863792884495, 0.33672074401110647, 0.3367726582073229, 0.33673616086978286, 0.33671254892888564, 0.33675072498903186, 0.336766768938705, 0.3368206036871034, 0.336819193449215, 0.3368548572272763, 0.3368813388130515, 0.3369129258312092, 0.3369131057127685, 0.3368626751388453, 0.3368694627860138, 0.336799320042368, 0.33680669013146053, 0.3368332229960143, 0.33679320245247835, 0.33677148231995163, 0.3367251732822269, 0.3367102854015254, 0.33660533828969547, 0.3366157876182818, 0.3365997549310173, 0.3365820998485385, 0.3365954560281874, 0.3366137859133054, 0.3366189764805471, 0.33664386856277484, 0.3366265684071491, 0.3365785207331826, 0.3365198798302708, 0.3365772337565332, 0.3365593625832551, 0.3365954486383405, 0.33657891482511, 0.3365541261906159, 0.3365372561560129, 0.33649206754281585, 0.33644732868507904, 0.3363968646057879, 0.3363970538063668, 0.3363787284324644, 0.33641911626221643, 0.33644580420885734, 0.3364814656238189, 0.3364676865357628, 0.33645480717392184, 0.33642526823276114, 0.3364037439455209, 0.33653390289601925, 0.3365073487325677, 0.336561068348294, 0.3365169599374115, 0.33649929919675736, 0.3365172579180544, 0.3364671827759056, 0.3364308512413878, 0.33636373927747826, 0.33634391875847947, 0.3364405786833318, 0.33646834520571267, 0.33647242705399755, 0.3364039884169535, 0.3364132192231499, 0.3363982929680668, 0.33637860945941267, 0.3363494881485511, 0.3364433204951527, 0.33648290054644914, 0.3364158183718672, 0.33640916600426496, 0.33643766940505027, 0.3365369251826236, 0.33661301764186247, 0.3366253679544819, 0.3366555178365169, 0.336673263328174, 0.3367240760957033, 0.3367571212436768, 0.33671826134471544, 0.3367233644983832, 0.3367278892927366, 0.33668737780532504, 0.3366464137165287, 0.3366125369691068, 0.3365652484380713, 0.3365890914804874, 0.3366047294787712, 0.33660659992215064, 0.33663323157797787, 0.33668333854043353, 0.336647083481864, 0.3366227503068207, 0.3366584848453453, 0.3366936008504115, 0.3367579551923417, 0.33677108171908493, 0.3367548399327017, 0.3367302252392911, 0.3367321275814023, 0.3367392020151578, 0.3366981059415971, 0.33665319916154296, 0.3367097349086089, 0.33672647018957064, 0.33671662711423866, 0.33668513682365614, 0.3367051369887783, 0.33667587073441413, 0.33657805250267914, 0.3365889967317174, 0.3366056924422545, 0.3365902724827788, 0.336616805278583, 0.33664919768549834, 0.33667454617204445, 0.336681078558747, 0.3367347046673247, 0.33681457804769654, 0.3367743542489591, 0.33676970143727397, 0.33676431724129324, 0.33679669121420436, 0.3368302352064075, 0.3368439258579442, 0.3368070711986654, 0.3367398880388894, 0.3367210087431942, 0.33664497520867437, 0.33664374941155273, 0.336647590792207, 0.33668196315219506, 0.33666110202392613, 0.3366647969486955, 0.33668648725456385, 0.3366789960367205, 0.33669893422463515, 0.3367333494195017, 0.33673405376715, 0.3366307530296522, 0.33663360649615387, 0.3366933049114148, 0.3367752736428032, 0.33672465015149594, 0.33672173530545607, 0.3367496991338213, 0.336765723326018, 0.3367789598604608, 0.33677237137742544, 0.33674928686520983, 0.33670851841264876, 0.3367527629043554, 0.33678255319070377, 0.33674183469960906, 0.33671839577036144, 0.3367213933213097, 0.33672639298569634, 0.3366701864400712, 0.33666708550685154, 0.3365891154100322, 0.3365443375623044, 0.33656655329283314, 0.3365977218898236, 0.3366254474771251, 0.3366467984069286, 0.3366995250211103, 0.3367158098464336, 0.3367550954389747, 0.3368302469959095, 0.3367932608878951, 0.3367848951262871, 0.33682287722059595, 0.33678347469263614, 0.33680117195790665, 0.33673331081408425, 0.33672886779405403, 0.33674784982380307, 0.3367767769028934, 0.33677376516915963, 0.3368057099258944, 0.3367545766420312, 0.33670632838954284, 0.3366933306215677, 0.3366702689920021, 0.3366284154084272, 0.3365884849894517, 0.3365716015737421, 0.3366224028464482, 0.33663630535298794, 0.33661466797805306, 0.33649638834818035, 0.3365112888639026, 0.33648895458382105, 0.33650833088449106, 0.3365107920132071, 0.33647944717466977, 0.33648708657462767, 0.3364986675745087, 0.33648178480609153, 0.33650069058655196, 0.3364567933719608, 0.33642595255416197, 0.3363802000423108, 0.3363716858143529, 0.3363252864080982, 0.33640114491216355, 0.3364244461849086, 0.3364152463060004, 0.3363942022677928, 0.33634482781914915, 0.336294098659195, 0.336211798419329, 0.33618997849526644, 0.3362625987570692, 0.3363464783321336, 0.3362920090284959, 0.3362618022820163, 0.33619781461849113, 0.3361518588919688, 0.33614912506588496, 0.3361131147507598, 0.3361171111345476, 0.3360809561379885, 0.3361314439992158, 0.33613706480139605, 0.3361044082181121, 0.33611109985407134, 0.33613292181918175, 0.3361515880992456, 0.336181913127794, 0.33621794612559563, 0.3361817058540677, 0.3361499225423317, 0.3361556109329007, 0.3361185281231458, 0.3360971833118314, 0.3361057199331063, 0.33618384432218934, 0.33621516175946126, 0.3362827114303973, 0.3362845359977655, 0.33624149074269966, 0.3362492899534216, 0.33618913152156293, 0.33615668049396596, 0.33616455969173104, 0.33620115822924296, 0.33625256245321006, 0.33627532248977543, 0.3363184999240466, 0.33634748008535725, 0.3363934243563482, 0.3364104566441047, 0.3364592913792069, 0.3364828257920881, 0.33649568072890385, 0.3364667222735382, 0.3364845274176072, 0.3364851457039786, 0.33652891262153306, 0.3365818923622193, 0.33668695958571665, 0.3367528046128822, 0.336710878968784, 0.3366480019732437, 0.3366750224549634, 0.33668939245270635, 0.33669947639568193, 0.3367073314806468, 0.33669383013205056, 0.3366612329609483, 0.3367053537025186, 0.3366644101291625, 0.3366500588143532, 0.3366553726028545, 0.3366353370616648, 0.33660819297116923, 0.3365826518037322, 0.33655154885974564, 0.3365509637317475, 0.33654584040561086, 0.33653222309659786, 0.3364622213133754, 0.33646789886674416, 0.33651894145751665, 0.3365191869113293, 0.33653966156455695, 0.33654669831787304, 0.3365569586529046, 0.3365851091850173, 0.3366208103625025, 0.33662312069997086, 0.33658330285386456, 0.336597813302882, 0.33660496396964973, 0.3366670590457198, 0.3367099794742354, 0.33669742864890523, 0.336692501921387, 0.3366891050254427, 0.33667156592563213, 0.3366934730984005, 0.336685112007574, 0.33669948443615777, 0.33672147980095807, 0.33672134894855027, 0.3367909494847321, 0.3367767575300983, 0.3367494648723606, 0.33678925718744834, 0.3367634402842453, 0.33684759627854693, 0.3368152829416188, 0.3368309900536682, 0.33683134410487553, 0.33675499076380155, 0.336781993428903, 0.33680703069053874, 0.3368031819345348, 0.3367863587017319, 0.3367730396011552, 0.33677395052234527, 0.3367897951156741, 0.33681611799784084, 0.3368058727350739, 0.3368143343856327, 0.3368414899830981, 0.336845901671274, 0.33687899936027804, 0.3367886207652336, 0.33678785126211735, 0.3367632844873278, 0.33671893829527444, 0.33672082384730306, 0.3367100036397408, 0.33672873411757404, 0.3367380178105517, 0.3367404002658534, 0.3367321875480593]\n"
          ]
        }
      ]
    }
  ]
}