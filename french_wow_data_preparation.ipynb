{
  "cells": [
    {
      "cell_type": "markdown",
      "metadata": {
        "id": "view-in-github",
        "colab_type": "text"
      },
      "source": [
        "<a href=\"https://colab.research.google.com/github/amirpaia/blenderbot/blob/main/french_wow_data_preparation.ipynb\" target=\"_parent\"><img src=\"https://colab.research.google.com/assets/colab-badge.svg\" alt=\"Open In Colab\"/></a>"
      ]
    },
    {
      "cell_type": "markdown",
      "source": [
        "# Installation"
      ],
      "metadata": {
        "id": "quSfPOYqTXOl"
      }
    },
    {
      "cell_type": "code",
      "execution_count": null,
      "metadata": {
        "id": "tVeG9fBomu6a"
      },
      "outputs": [],
      "source": [
        "# mydrive_path = '/content/drive/MyDrive/colabs/blender-models/'\n",
        "# !pip uninstall -q parlai\n",
        "!pip install -q parlai\n",
        "!pip install transformers"
      ]
    },
    {
      "cell_type": "code",
      "execution_count": 1,
      "metadata": {
        "colab": {
          "base_uri": "https://localhost:8080/"
        },
        "id": "0qP0GX8AsOVW",
        "outputId": "d2833bdc-2a85-4d05-fe6c-89e4ba70657a"
      },
      "outputs": [
        {
          "output_type": "stream",
          "name": "stdout",
          "text": [
            "--2022-06-09 11:50:51--  http://parl.ai/downloads/wizard_of_wikipedia/wizard_of_wikipedia.tgz\n",
            "Resolving parl.ai (parl.ai)... 108.156.83.34, 108.156.83.128, 108.156.83.113, ...\n",
            "Connecting to parl.ai (parl.ai)|108.156.83.34|:80... connected.\n",
            "HTTP request sent, awaiting response... 301 Moved Permanently\n",
            "Location: https://parl.ai/downloads/wizard_of_wikipedia/wizard_of_wikipedia.tgz [following]\n",
            "--2022-06-09 11:50:51--  https://parl.ai/downloads/wizard_of_wikipedia/wizard_of_wikipedia.tgz\n",
            "Connecting to parl.ai (parl.ai)|108.156.83.34|:443... connected.\n",
            "HTTP request sent, awaiting response... 302 Moved Temporarily\n",
            "Location: https://dl.fbaipublicfiles.com/parlai/wizard_of_wikipedia/wizard_of_wikipedia.tgz [following]\n",
            "--2022-06-09 11:50:51--  https://dl.fbaipublicfiles.com/parlai/wizard_of_wikipedia/wizard_of_wikipedia.tgz\n",
            "Resolving dl.fbaipublicfiles.com (dl.fbaipublicfiles.com)... 104.22.74.142, 104.22.75.142, 172.67.9.4, ...\n",
            "Connecting to dl.fbaipublicfiles.com (dl.fbaipublicfiles.com)|104.22.74.142|:443... connected.\n",
            "HTTP request sent, awaiting response... 200 OK\n",
            "Length: 971505856 (926M) [application/x-tar]\n",
            "Saving to: ‘wizard_of_wikipedia.tgz’\n",
            "\n",
            "wizard_of_wikipedia 100%[===================>] 926.50M  44.5MB/s    in 22s     \n",
            "\n",
            "2022-06-09 11:51:14 (42.1 MB/s) - ‘wizard_of_wikipedia.tgz’ saved [971505856/971505856]\n",
            "\n",
            "data.json\n",
            "test_random_split.json\n",
            "test_topic_split.json\n",
            "topic_splits.json\n",
            "train.json\n",
            "valid_random_split.json\n",
            "valid_topic_split.json\n"
          ]
        }
      ],
      "source": [
        "!wget http://parl.ai/downloads/wizard_of_wikipedia/wizard_of_wikipedia.tgz\n",
        "!mkdir /usr/local/lib/python3.7/dist-packages/data\n",
        "!mkdir /usr/local/lib/python3.7/dist-packages/data/wizard_of_wikipedia\n",
        "!cp wizard_of_wikipedia.tgz /usr/local/lib/python3.7/dist-packages/data/wizard_of_wikipedia/\n",
        "!tar -zxvf /usr/local/lib/python3.7/dist-packages/data/wizard_of_wikipedia/wizard_of_wikipedia.tgz -C /usr/local/lib/python3.7/dist-packages/data/wizard_of_wikipedia/"
      ]
    },
    {
      "cell_type": "code",
      "execution_count": 2,
      "metadata": {
        "id": "s4_PS2S04w1u",
        "colab": {
          "base_uri": "https://localhost:8080/"
        },
        "outputId": "89da0734-7ea1-47a3-c1cb-c8d9f91ac381"
      },
      "outputs": [
        {
          "output_type": "stream",
          "name": "stdout",
          "text": [
            "Mounted at /content/drive\n"
          ]
        }
      ],
      "source": [
        "from google.colab import drive\n",
        "drive.mount('/content/drive')"
      ]
    },
    {
      "cell_type": "markdown",
      "source": [
        "# Load the dataset"
      ],
      "metadata": {
        "id": "kO6yd4gOTb_H"
      }
    },
    {
      "cell_type": "code",
      "execution_count": null,
      "metadata": {
        "id": "eQWLcKEbnudc",
        "colab": {
          "base_uri": "https://localhost:8080/"
        },
        "outputId": "961e7360-51d5-4c1b-afd9-be12ee70ff75"
      },
      "outputs": [
        {
          "output_type": "stream",
          "name": "stdout",
          "text": [
            "[building data: /usr/local/lib/python3.7/dist-packages/data/wizard_of_wikipedia]\n",
            "19:43:42 | Downloading http://parl.ai/downloads/wizard_of_wikipedia/wizard_of_wikipedia.tgz to /usr/local/lib/python3.7/dist-packages/data/wizard_of_wikipedia/wizard_of_wikipedia.tgz\n",
            "\rDownloading wizard_of_wikipedia.tgz: 0.00B [00:00, ?B/s]\rDownloading wizard_of_wikipedia.tgz: 0.00B [00:00, ?B/s]\n",
            "19:44:27 | loading /usr/local/lib/python3.7/dist-packages/data/wizard_of_wikipedia/train.json\n",
            "19:44:37 | \u001b[33mSome data not being used. If you are not trying to reproduce the previous results, it is recommended that you run with the flag --add-missing-turns train or --add-missing-turns all.\u001b[0m\n",
            "\u001b[1;31m- - - NEW EPISODE: wizard_of_wikipedia - - -\u001b[0;0m\n",
            "\u001b[0mScience fiction\u001b[0;0m\n",
            "   \u001b[1;94mI think science fiction is an amazing genre for anything. Future science, technology, time travel, FTL travel, they're all such interesting concepts.\u001b[0;0m\n",
            "\u001b[0mI'm a huge fan of science fiction myself! \u001b[0;0m\n",
            "   \u001b[1;94mAwesome! I really love how sci-fi storytellers focus on political/social/philosophical issues that would still be around even in the future. Makes them relatable.\u001b[0;0m\n",
            "\u001b[0mI agree. One of my favorite forms of science fiction is anything related to time travel! I find it fascinating.\u001b[0;0m\n",
            "   \u001b[1;94mIt's not quite sci-fi, but my favorite version of time travel is in Harry Potter and the Prisoner of Azkaban. Breaks zero logical rules.\u001b[0;0m\n",
            "\u001b[0mAnd that's difficult to do when dealing with time travel. I actually haven't seen the latest Harry Potter movies. Guess it's time to check them out!\u001b[0;0m\n",
            "   \u001b[1;94mIf you really want a look at the potential negative consequences of scientific innovation, what you should check out is the TV show Fringe. Incredibly well written.\u001b[0;0m\n",
            "\u001b[1;31m- - - NEW EPISODE: wizard_of_wikipedia - - -\u001b[0;0m\n",
            "\u001b[0mInternet access\n",
            "Can you imagine the world without internet access? \u001b[0;0m\n",
            "   \u001b[1;94mNo I could not! I couldn't imagine living when internet access was rare and very few people had it!\u001b[0;0m\n",
            "\u001b[0mOh me either! It seems like such a long time ago. I wonder when Internet was first created?\u001b[0;0m\n",
            "   \u001b[1;94mIt used to be restricted, but around 1995, the restricted were lifted and commercial use of it began\u001b[0;0m\n",
            "\u001b[0mThat is awesome. I wonder why it was restricted? Probably because they only wanted government and big companies to use it at first.\u001b[0;0m\n",
            "   \u001b[1;94mYes, it was developed from a government funded projects to help with universities research and laboratories in the United States...I am so glad they expanded it! \u001b[0;0m\n",
            "\u001b[0mI am too, it makes life so much easier!\u001b[0;0m\n",
            "   \u001b[1;94mWhat is your favorite thing to do with internet access? I like being able to use my computer and smartphone to use my email and browse the world wide web\u001b[0;0m\n",
            "\u001b[1;31m- - - NEW EPISODE: wizard_of_wikipedia - - -\u001b[0;0m\n",
            "\u001b[0mPharmacist\n",
            "I am just finishing my university course and I will be a qualified pharmacist.  I am so excited about finishing and getting out there into the world of work! Do you work yourself?\u001b[0;0m\n",
            "   \u001b[1;94mYes, I perform administrative duties as a pharmacy technician.\u001b[0;0m\n",
            "\u001b[0mFantastic so you know all about the field.  I completed my four year course and also two 6 month placements but its not the same until you actually start working.  Do you work in a busy pharmacy?\u001b[0;0m\n",
            "   \u001b[1;94mYes, I work directly with a lot of patients.\u001b[0;0m\n",
            "19:44:41 | loaded 18430 episodes with a total of 74092 examples\n"
          ]
        }
      ],
      "source": [
        "!parlai display_data --task wizard_of_wikipedia"
      ]
    },
    {
      "cell_type": "code",
      "execution_count": 3,
      "metadata": {
        "id": "Mhb6pysupfGm"
      },
      "outputs": [],
      "source": [
        "lines = []\n",
        "with open(\"/usr/local/lib/python3.7/dist-packages/data/wizard_of_wikipedia/data.json\") as f:\n",
        "    lines = f.readlines()\n",
        "lines[0]"
      ]
    },
    {
      "cell_type": "code",
      "execution_count": null,
      "metadata": {
        "id": "T2H-5Y0kulsr"
      },
      "outputs": [],
      "source": [
        "import json\n",
        "obj = json.loads(lines[0])"
      ]
    },
    {
      "cell_type": "code",
      "execution_count": null,
      "metadata": {
        "id": "6qUKXef9Qj_O"
      },
      "outputs": [],
      "source": [
        "print(len(obj))\n",
        "obj[0]"
      ]
    },
    {
      "cell_type": "code",
      "execution_count": null,
      "metadata": {
        "id": "WLYCrKp6wE7r"
      },
      "outputs": [],
      "source": [
        "print(len(obj))\n",
        "len([a['text'] for b in obj for a in b['dialog']])"
      ]
    },
    {
      "cell_type": "markdown",
      "source": [
        "# Translation"
      ],
      "metadata": {
        "id": "9ngN1D_rUG7n"
      }
    },
    {
      "cell_type": "code",
      "execution_count": null,
      "metadata": {
        "id": "jfbQ3tmbv21e"
      },
      "outputs": [],
      "source": [
        "!pip install translate-api"
      ]
    },
    {
      "cell_type": "code",
      "execution_count": null,
      "metadata": {
        "id": "cLnvaqtIv8RJ",
        "colab": {
          "base_uri": "https://localhost:8080/"
        },
        "outputId": "65c57eb2-b94a-4647-bd7f-1cbfbbccb445"
      },
      "outputs": [
        {
          "output_type": "stream",
          "name": "stderr",
          "text": [
            "Using United States server backend.\n"
          ]
        },
        {
          "output_type": "stream",
          "name": "stdout",
          "text": [
            "22310\n"
          ]
        }
      ],
      "source": [
        "import translators as ts\n",
        "# print(ts._google.language_map)\n",
        "import time\n",
        "import os.path\n",
        "\n",
        "\n",
        "def intTryParse(value):\n",
        "    value = value.replace(\" \",\"\")\n",
        "    value = value.replace(\"\\u200b\",\"\")\n",
        "    try:\n",
        "        return int(value), True\n",
        "    except ValueError:\n",
        "        return value, False\n",
        "\n",
        "lastest_dialog = -1\n",
        "is_parsed = True\n",
        "output_path = \"/content/drive/MyDrive/colabs/aliae-workspace/datasets/french_wow.txt\"\n",
        "\n",
        "if os.path.exists(output_path):\n",
        "    with open(output_path) as f:\n",
        "        lines = f.readlines()\n",
        "\n",
        "    for i in range(1,len(lines)+1):\n",
        "        line = lines[-i]\n",
        "        if \"<span class = 'notranslate'>\" in line:\n",
        "            lastest_dialog, is_parsed = intTryParse(line[line.find(\">\")+1:line.find(\"<\",1)])\n",
        "            if is_parsed: break\n",
        "print(lastest_dialog)\n",
        "\n",
        "tic = time.perf_counter()\n",
        "\n",
        "if is_parsed or lastest_dialog == -1:\n",
        "    text = \"\"\n",
        "    # tic = time.perf_counter()\n",
        "    for index, item in enumerate(obj):\n",
        "        if index > lastest_dialog:\n",
        "            item_text = '\\n'.join( [a['text'] for a in item['dialog']])\n",
        "            # print(index, \"\\n\", item_text)\n",
        "\n",
        "            text += f\"\\n<span class='notranslate'>{index}<span>\\n{item_text}\" \n",
        "            if (index + 1) % 3 == 0:\n",
        "                translated = ts.google(text, from_language='en', to_language='fr')\n",
        "                # print(translated)\n",
        "                text = \"\"\n",
        "                with open(output_path, \"a\") as f:\n",
        "                    f.writelines(\"\\n\" + translated)\n",
        "            \n",
        "            if (index + 1) % 100 == 0:\n",
        "                toc = time.perf_counter()\n",
        "                print(f\"{index + 1}\\t{toc - tic:0.4f}\\t\", time.strftime(\"%H:%M:%S\", time.gmtime()))\n",
        "                tic = toc\n",
        "\n",
        "\n",
        "    # print(f\"Downloaded the tutorial in {toc - tic:0.4f} seconds\")\n",
        "else:\n",
        "    print(\"Error\")"
      ]
    },
    {
      "cell_type": "code",
      "execution_count": null,
      "metadata": {
        "id": "MrC0odowy7WY",
        "colab": {
          "base_uri": "https://localhost:8080/"
        },
        "outputId": "fe40236a-1572-411d-d6db-7c9b57be0d30"
      },
      "outputs": [
        {
          "output_type": "execute_result",
          "data": {
            "text/plain": [
              "['Do you think Computer science or the study of the theory, experimentation, and engineering is the most useful degree? ',\n",
              " 'I definitely think it has a significant place in the modern age',\n",
              " 'I think the study of  automating algorithmic processes is going to be to the next generation  what the business degree was to mine.',\n",
              " 'Right, there will definitely be a great need for computer scientists',\n",
              " 'I can only hope computer scientist also retain so of the common sense that you need in the real world. ',\n",
              " 'Right, I guess the business students will still be needed in that case',\n",
              " 'I guess we will always need people with finance, accounting, marketing or strategy degrees.',\n",
              " 'Right, I wonder if we will see people moving away from those degrees towards computer science',\n",
              " 'I think we all ready have, well Computer science and other degrees that focus on challenges in implementing computation.',\n",
              " 'That makes sense!']"
            ]
          },
          "metadata": {},
          "execution_count": 10
        }
      ],
      "source": [
        "# obj[308]\n",
        "[a['text'] for a in obj[308]['dialog']]"
      ]
    },
    {
      "cell_type": "markdown",
      "metadata": {
        "id": "_qyV1Fob2OnS"
      },
      "source": [
        "Reading the generated file"
      ]
    },
    {
      "cell_type": "code",
      "execution_count": null,
      "metadata": {
        "id": "g_CP-qh62Qzo"
      },
      "outputs": [],
      "source": [
        "output_path = \"/content/drive/MyDrive/colabs/aliae-workspace/datasets/french_wow.txt\"\n",
        "with open(output_path) as f:\n",
        "    fr_lines = f.readlines()"
      ]
    },
    {
      "cell_type": "code",
      "execution_count": null,
      "metadata": {
        "colab": {
          "base_uri": "https://localhost:8080/"
        },
        "id": "J9JjtZOZkYL6",
        "outputId": "7faf1d9a-4ca6-483b-c080-160f8482473e"
      },
      "outputs": [
        {
          "output_type": "execute_result",
          "data": {
            "text/plain": [
              "224310"
            ]
          },
          "metadata": {},
          "execution_count": 13
        }
      ],
      "source": [
        "len(fr_lines)"
      ]
    },
    {
      "cell_type": "markdown",
      "source": [
        "# Correct translation mistakes"
      ],
      "metadata": {
        "id": "yN48BXGkVVPt"
      }
    },
    {
      "cell_type": "code",
      "execution_count": null,
      "metadata": {
        "id": "scDmTMqy2XG3"
      },
      "outputs": [],
      "source": [
        "output_path = \"/content/drive/MyDrive/colabs/aliae-workspace/datasets/french_wow_1.txt\"\n",
        "\n",
        "dialog = []\n",
        "all_dialogs = []\n",
        "\n",
        "all_dialogs_in_parlai_format = []\n",
        "number_of_odd_dialogs = 0\n",
        "number_of_dialog = 0\n",
        "\n",
        "flag = False\n",
        "dialog_index =0\n",
        "for index, line in enumerate(fr_lines[1:]):\n",
        "    if \"<span\" in line:\n",
        "        if not flag:\n",
        "            all_dialogs.append(dialog)\n",
        "            dialog = []\n",
        "        else:\n",
        "            all_dialogs.append([])\n",
        "            dialog = []\n",
        "            flag = False\n",
        "        \n",
        "        dialog_index +=1\n",
        "        if \"<span class='notranslate'>\" in line: \n",
        "            flag = True\n",
        "    else:\n",
        "        dialog.append(line)\n",
        "all_dialogs.append(dialog)\n",
        "\n",
        "# print(len([1 for a in all_dialogs if a == []]))\n",
        "print(len(all_dialogs))\n",
        "text = \"\"\n",
        "\n",
        "count = 0\n",
        "previous_index = 1000\n",
        "for index, dialog in enumerate(all_dialogs):\n",
        "    if index >= previous_index:\n",
        "        if dialog == []: \n",
        "            count +=1\n",
        "            item_text = '\\n'.join( [a['text'].replace(\"\\n\",\"\") for a in obj[index]['dialog']])\n",
        "            text += f\"\\n<span class='notranslate'> {index}</span>\\n{item_text}\" \n",
        "            translated = ts.google(text, from_language='en', to_language='fr')\n",
        "            all_dialogs[index] = \"\\n\" + translated\n",
        "            print(count, index)\n",
        "            text = \"\"\n",
        "        else:\n",
        "            item_text = '\\n'.join([a.replace(\"\\n\",\"\") for a in dialog])\n",
        "            text += f\"\\n<span class = 'notranslate'> {index} </span>\\n{item_text}\" \n",
        "            all_dialogs[index] = text\n",
        "            text = \"\"\n",
        "        \n",
        "        if index % 5 == 0:\n",
        "            with open(output_path, \"a\") as f:\n",
        "                f.writelines(all_dialogs[previous_index:index])\n",
        "                previous_index = index"
      ]
    },
    {
      "cell_type": "markdown",
      "source": [
        "# Check final version"
      ],
      "metadata": {
        "id": "7Zs9k0ZPVZ68"
      }
    },
    {
      "cell_type": "code",
      "source": [
        "output_path = \"/content/drive/MyDrive/colabs/aliae-workspace/datasets/french_wow_1.txt\"\n",
        "with open(output_path) as f:\n",
        "    fr_lines = f.readlines()\n",
        "dialog_index = 0\n",
        "for line in fr_lines:\n",
        "    if \"<span\" in line:\n",
        "        latest_dialog, is_parsed = intTryParse(line[line.find(\">\")+1:line.find(\"<\",1)])\n",
        "        if dialog_index != latest_dialog:\n",
        "            print(\"break\", dialog_index, latest_dialog)\n",
        "            break\n",
        "        dialog_index +=1\n",
        "        # break\n",
        "        # print(index, line.replace(\"\\n\",\"\"), latest_dialog, number_of_dialog)\n",
        "print(\"done!\")"
      ],
      "metadata": {
        "id": "F-JHr1gbTTkf"
      },
      "execution_count": null,
      "outputs": []
    },
    {
      "cell_type": "markdown",
      "source": [
        "# Convert to ParlAI format"
      ],
      "metadata": {
        "id": "bfTKtgBUVcrk"
      }
    },
    {
      "cell_type": "code",
      "execution_count": 10,
      "metadata": {
        "id": "iqfpbCsbjnOG"
      },
      "outputs": [],
      "source": [
        "def transfer_list_of_turns_to_dialog(d):\n",
        "    if len(d)%2 !=0: d = d[:-1]\n",
        "    t = \"\"\n",
        "    for i in range(0,len(d),2):\n",
        "        u1 = d[i]\n",
        "        u2 = d[i+1]\n",
        "\n",
        "        if (i+2) != len(d):\n",
        "            t += \"text:\"+u1+\"\\t\"+\"labels:\"+u2+\"\\n\"\n",
        "        else:\n",
        "            t += \"text:\"+u1+\"\\t\"+\"labels:\"+u2+\"\\t\"+\"episode_done:True\"+\"\\n\"\n",
        "    return t"
      ]
    },
    {
      "cell_type": "code",
      "source": [
        "output_path = \"/content/drive/MyDrive/colabs/aliae-workspace/datasets/french_wow.txt\"\n",
        "with open(output_path) as f:\n",
        "    fr_lines = f.readlines()\n",
        "dialog_index = 0\n",
        "\n",
        "dialog = []\n",
        "all_dialogs = []\n",
        "all_dialogs_in_parlai_format = []\n",
        "\n",
        "number_of_odd_dialogs = 0\n",
        "number_of_dialog = 0\n",
        "\n",
        "for line in fr_lines[1:]:\n",
        "    if \"<span\" in line:\n",
        "        # latest_dialog, is_parsed = intTryParse(line[line.find(\">\")+1:line.find(\"<\",1)])\n",
        "        if len(dialog) % 2 ==1: number_of_odd_dialogs +=1\n",
        "        number_of_dialog +=1\n",
        "        all_dialogs_in_parlai_format.append(transfer_list_of_turns_to_dialog(dialog))\n",
        "        dialog = []\n",
        "    else:\n",
        "        dialog.append(line)\n",
        "\n",
        "print(\"done!\", len(all_dialogs_in_parlai_format), number_of_dialog, number_of_odd_dialogs)"
      ],
      "metadata": {
        "colab": {
          "base_uri": "https://localhost:8080/"
        },
        "id": "IZLasI6SV8h2",
        "outputId": "5bf070e3-744f-4a52-8472-700b3e9e603c"
      },
      "execution_count": 11,
      "outputs": [
        {
          "output_type": "stream",
          "name": "stdout",
          "text": [
            "done! 22310 22310 1029\n"
          ]
        }
      ]
    },
    {
      "cell_type": "code",
      "source": [
        "import pandas as pd\n",
        "import numpy as np\n",
        "\n",
        "data_path = '/content/drive/MyDrive/colabs/aliae-workspace/datasets/french_wizard_of_wikipedia/'\n",
        "# with open(data_path + \"train.txt\", \"w\") as f:\n",
        "#     f.writelines(dialogs_in_parlai_forma\n",
        "\n",
        "df = pd.DataFrame ([a[0] for a in all_dialogs_in_parlai_format], columns = ['dialog'])\n",
        "train, valid, test = np.split(df.sample(frac=1, random_state=42), \n",
        "                                 [int(.8*len(df)), \n",
        "                                  int(.9*len(df))])\n",
        "print(f\"train set: {len(train)}, validation set: {len(valid)},test set: {len(test)}\")\n",
        "\n",
        "with open(f\"{data_path}/train.txt\",\"w\") as f:    \n",
        "    f.write(''.join(a[0] for a in train.values))\n",
        "\n",
        "with open(f\"{data_path}/valid.txt\",\"w\") as f:\n",
        "    f.write(''.join(a[0] for a in valid.values))\n",
        "\n",
        "with open(f\"{data_path}/test.txt\",\"w\") as f:\n",
        "    f.write(''.join(a[0] for a in test.values))\n",
        "print('done!')"
      ],
      "metadata": {
        "colab": {
          "base_uri": "https://localhost:8080/"
        },
        "id": "xEz-9-3McaEc",
        "outputId": "a976c628-0785-410e-8c51-83480cb6d46e"
      },
      "execution_count": 12,
      "outputs": [
        {
          "output_type": "stream",
          "name": "stdout",
          "text": [
            "train set: 17848, validation set: 2231,test set: 2231\n",
            "done!\n"
          ]
        }
      ]
    }
  ],
  "metadata": {
    "colab": {
      "collapsed_sections": [],
      "name": "french_wow data_preparation",
      "provenance": [],
      "machine_shape": "hm",
      "authorship_tag": "ABX9TyP9QkpcGkLvhxjD1jc8Pm6W",
      "include_colab_link": true
    },
    "kernelspec": {
      "display_name": "Python 3",
      "name": "python3"
    },
    "language_info": {
      "name": "python"
    },
    "accelerator": "GPU"
  },
  "nbformat": 4,
  "nbformat_minor": 0
}